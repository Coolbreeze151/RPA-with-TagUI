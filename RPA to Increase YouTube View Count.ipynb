{
 "cells": [
  {
   "cell_type": "code",
   "execution_count": 1,
   "metadata": {},
   "outputs": [],
   "source": [
    "#pip install tagui"
   ]
  },
  {
   "cell_type": "markdown",
   "metadata": {},
   "source": [
    "Using this script to increase youtube views. Do use it at your own risk because Youtube's algorithm may be strong enough to detect this and may decide to ban you instead!"
   ]
  },
  {
   "cell_type": "code",
   "execution_count": 2,
   "metadata": {},
   "outputs": [],
   "source": [
    "import tagui as t"
   ]
  },
  {
   "cell_type": "code",
   "execution_count": null,
   "metadata": {},
   "outputs": [],
   "source": [
    "cycles = input(\"Number of Cycles :\")\n",
    "int_cycles = int(cycles)"
   ]
  },
  {
   "cell_type": "code",
   "execution_count": null,
   "metadata": {},
   "outputs": [],
   "source": [
    "t.init(visual_automation = True, chrome_browser = False) #chrome_browser set at false since I am already running chrome\n",
    "for i in range(int_cycles):\n",
    "    t.keyboard('[ctrl][shift][n]')\n",
    "    t.keyboard('https://www.youtube.com/watch?v=-58BWq9jg44')\n",
    "    t.keyboard('[enter]')\n",
    "    t.wait(2)\n",
    "    t.click(900, 300)\n",
    "t.wait(2)\n",
    "close()\n",
    "\n",
    "\n",
    "#Alternatively we can actually use a for/while loop to keep iterating the steps!"
   ]
  }
 ],
 "metadata": {
  "kernelspec": {
   "display_name": "Python 3",
   "language": "python",
   "name": "python3"
  },
  "language_info": {
   "codemirror_mode": {
    "name": "ipython",
    "version": 3
   },
   "file_extension": ".py",
   "mimetype": "text/x-python",
   "name": "python",
   "nbconvert_exporter": "python",
   "pygments_lexer": "ipython3",
   "version": "3.7.4"
  }
 },
 "nbformat": 4,
 "nbformat_minor": 2
}

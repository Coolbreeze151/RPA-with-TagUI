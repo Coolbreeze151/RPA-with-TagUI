{
 "cells": [
  {
   "cell_type": "code",
   "execution_count": 13,
   "metadata": {},
   "outputs": [],
   "source": [
    "#pip install tagui"
   ]
  },
  {
   "cell_type": "markdown",
   "metadata": {},
   "source": [
    "Using this script to increase youtube views. Do use it at your own risk because Youtube's algorithm may be strong enough to detect this and may decide to ban you instead!"
   ]
  },
  {
   "cell_type": "code",
   "execution_count": 14,
   "metadata": {},
   "outputs": [],
   "source": [
    "import tagui as t"
   ]
  },
  {
   "cell_type": "code",
   "execution_count": 15,
   "metadata": {},
   "outputs": [
    {
     "name": "stdout",
     "output_type": "stream",
     "text": [
      "Number of Cycles :3\n",
      "Duration to Run Videos:2\n"
     ]
    }
   ],
   "source": [
    "cycles = input(\"Number of Cycles :\") #Number of View tabs you want to create\n",
    "duration = input(\"Duration to Run Videos:\") #Duration you want to give before closing all videos\n",
    "int_cycles = int(cycles)\n",
    "int_duration = int(duration)"
   ]
  },
  {
   "cell_type": "code",
   "execution_count": 16,
   "metadata": {},
   "outputs": [
    {
     "data": {
      "text/plain": [
       "True"
      ]
     },
     "execution_count": 16,
     "metadata": {},
     "output_type": "execute_result"
    }
   ],
   "source": [
    "t.init(visual_automation = True, chrome_browser = False) #chrome_browser set to false since I am already running chrome\n",
    "for i in range(int_cycles):\n",
    "    t.keyboard('[ctrl][shift][n]')\n",
    "    t.keyboard('https://www.youtube.com/watch?v=-58BWq9jg44')\n",
    "    t.keyboard('[enter]')\n",
    "    t.wait(3)\n",
    "    t.click(900, 300)\n",
    "t.wait(int_duration) #Time you want to let the video run\n",
    "\n",
    "for i in range(int_cycles):\n",
    "    t.click(1900, 15)\n",
    "t.close()\n",
    "\n",
    "\n",
    "#Alternatively we can actually use a for/while loop to keep iterating the steps!"
   ]
  }
 ],
 "metadata": {
  "kernelspec": {
   "display_name": "Python 3",
   "language": "python",
   "name": "python3"
  },
  "language_info": {
   "codemirror_mode": {
    "name": "ipython",
    "version": 3
   },
   "file_extension": ".py",
   "mimetype": "text/x-python",
   "name": "python",
   "nbconvert_exporter": "python",
   "pygments_lexer": "ipython3",
   "version": "3.7.4"
  }
 },
 "nbformat": 4,
 "nbformat_minor": 2
}

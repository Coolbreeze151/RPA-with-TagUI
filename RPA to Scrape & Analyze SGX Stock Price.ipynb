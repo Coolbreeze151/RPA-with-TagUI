{
 "cells": [
  {
   "cell_type": "markdown",
   "metadata": {},
   "source": [
    "# Stock Analysis & Comparison"
   ]
  },
  {
   "cell_type": "code",
   "execution_count": 1,
   "metadata": {},
   "outputs": [],
   "source": [
    "#pip install tagui"
   ]
  },
  {
   "cell_type": "markdown",
   "metadata": {},
   "source": [
    "So let's now use TagUI for other useful stuff in our daily lives. The first thing that comes to mind is to use RPA for scraping purposes. So for the benefit of my future employer who may be interested in me, I'll be working on using RPA to scrape some useful data. Lets scrape data related to the stock market for now since its an easily retrievable dataset that we can pull out and make analysis with."
   ]
  },
  {
   "cell_type": "code",
   "execution_count": 2,
   "metadata": {},
   "outputs": [],
   "source": [
    "import tagui as t"
   ]
  },
  {
   "cell_type": "code",
   "execution_count": 3,
   "metadata": {},
   "outputs": [],
   "source": [
    "class Stock(object):\n",
    "    stockId = \"\"\n",
    "    stockName = \"\"\n",
    "    stockPrice = 0\n",
    "    freeCashFlowPrev = \"\"\n",
    "    freeCashFlowCurr = \"\"\n",
    "    eps = 0\n",
    "    dividendYield = \"\"\n",
    "    peRatio = 0\n",
    "    roe = \"\"\n",
    "    netIncomePrev = \"\"\n",
    "    netIncomeCurr = \"\"\n",
    "    netOperatingIncomePrev = \"\"\n",
    "    netOperatingIncomeCurr = \"\"\n",
    "    \n",
    "def make_stock(stockId, stockName, stockPrice, freeCashFlowPrev, freeCashFlowCurr, eps, dividendYield, peRatio, roe, netIncomePrev, netIncomeCurr, netOperatingIncomePrev, netOperatingIncomeCurr):\n",
    "    stock = Stock()\n",
    "    stock.stockId = stockId\n",
    "    stock.stockName = stockName\n",
    "    stock.stockPrice = stockPrice\n",
    "    stock.freeCashFlowPrev = freeCashFlowPrev\n",
    "    stock.freeCashFlowCurr = freeCashFlowCurr\n",
    "    stock.eps = eps\n",
    "    stock.dividendYield = dividendYield\n",
    "    stock.peRatio = peRatio\n",
    "    stock.roe = roe\n",
    "    stock.netIncomePrev = netIncomePrev\n",
    "    stock.netIncomeCurr = netIncomeCurr\n",
    "    stock.netOperatingIncomePrev = netOperatingIncomePrev\n",
    "    stock.netOperatingIncomeCurr = netOperatingIncomeCurr\n",
    "\n",
    "    return stock"
   ]
  },
  {
   "cell_type": "code",
   "execution_count": 4,
   "metadata": {
    "scrolled": true
   },
   "outputs": [],
   "source": [
    "stock_array = list()\n",
    "stocks = list()\n",
    "\n",
    "\"\"\"number = input(\"Enter the number of stocks you want to analyze:\")\n",
    "print ('Enter each Stock ID, Eg.CJLU.SI: ')\n",
    "for i in range(int(number)):\n",
    "    n = input(\"Stock ID \"+str(i+1)+\": \")\n",
    "    #We should carry out conditional checks here to verify that the Stock Listing is Valid before proceeding\n",
    "    ######################################################################################################\n",
    "    stock_array.append(n)\n",
    "print ('Stock IDs:' ,stock_array)\n",
    "\"\"\"\n",
    "########FOR PRACTICE##########\n",
    "stock_array = ['CJLU.SI','CNE.SI','AP4.SI','CHZ.SI','BSL.SI','V03.SI','M1GU.SI','AJBU.SI','ME8U.SI']"
   ]
  },
  {
   "cell_type": "code",
   "execution_count": 5,
   "metadata": {},
   "outputs": [
    {
     "data": {
      "text/plain": [
       "True"
      ]
     },
     "execution_count": 5,
     "metadata": {},
     "output_type": "execute_result"
    }
   ],
   "source": [
    "#Open Yahoo stock site to scrape relevant data of stocks we want to look at.\n",
    "url = 'https://sg.finance.yahoo.com/quote/'\n",
    "t.init(visual_automation = True, chrome_browser = True)\n",
    "\n",
    "\n",
    "#We then iterate through the stocks code that have been selected\n",
    "for i in stock_array:\n",
    "    newUrl = url + i +'/'\n",
    "    t.url(newUrl)\n",
    "    #Carry out scraping of data here\n",
    "    t.wait(2)\n",
    "    \n",
    "    #Storing current price of the stock\n",
    "    stockId = i\n",
    "    stockPrice = float(t.read('//*[@id=\"quote-header-info\"]/div[3]/div/div/span[1]'))\n",
    "    stockName = t.read('//*[@id=\"quote-header-info\"]/div[2]/div[1]/div[1]/h1')    \n",
    "    \n",
    "    #Storing key indicators of stock\n",
    "    dividendYield = ((t.read('//*[@id=\"quote-summary\"]/div[2]/table/tbody/tr[6]/td[2]')))\n",
    "    peRatio = float((t.read('//*[@id=\"quote-summary\"]/div[2]/table/tbody/tr[3]/td[2]/span')))\n",
    "    eps = float((t.read('//*[@id=\"quote-summary\"]/div[2]/table/tbody/tr[4]/td[2]/span')))\n",
    "    \n",
    "    #Go to the financials tab to scrape data\n",
    "    t.click('//*[@id=\"quote-nav\"]/ul/li[7]/a/span') \n",
    "    netIncomePrev = ((t.read('//*[@id=\"Col1-1-Financials-Proxy\"]/section/div[3]/div[1]/div/div[2]/div[11]/div[1]/div[4]/span')))\n",
    "    netIncomePrev = netIncomePrev.replace(',', '')\n",
    "\n",
    "    netIncomeCurr = ((t.read('//*[@id=\"Col1-1-Financials-Proxy\"]/section/div[3]/div[1]/div/div[2]/div[11]/div[1]/div[3]/span')))    \n",
    "    netIncomeCurr = netIncomeCurr.replace(',', '')\n",
    "\n",
    "    netOperatingIncomePrev = ((t.read('//*[@id=\"Col1-1-Financials-Proxy\"]/section/div[3]/div[1]/div/div[2]/div[5]/div[1]/div[4]/span')))\n",
    "    netOperatingIncomePrev = netOperatingIncomePrev.replace(',', '')\n",
    "\n",
    "    netOperatingIncomeCurr = ((t.read('//*[@id=\"Col1-1-Financials-Proxy\"]/section/div[3]/div[1]/div/div[2]/div[5]/div[1]/div[3]/span')))\n",
    "    netOperatingIncomeCurr = netOperatingIncomeCurr.replace(',', '')\n",
    "\n",
    "    #Go to the Cash Flow tab to scrape data\n",
    "    t.click('//*[@id=\"Col1-1-Financials-Proxy\"]/section/div[1]/div[1]/div/a[2]/div/span') \n",
    "    freeCashFlowPrev = ((t.read('//*[@id=\"Col1-1-Financials-Proxy\"]/section/div[3]/div[1]/div/div[2]/div[7]/div[2]/div[3]/div[1]/div[4]/span')))\n",
    "    freeCashFlowPrev = freeCashFlowPrev.replace(',', '')\n",
    "    freeCashFlowCurr = ((t.read('//*[@id=\"Col1-1-Financials-Proxy\"]/section/div[3]/div[1]/div/div[2]/div[7]/div[2]/div[3]/div[1]/div[3]/span')))\n",
    "    freeCashFlowCurr = freeCashFlowCurr.replace(',', '')\n",
    "    \n",
    "    #Go to Statistics tab to scrape data\n",
    "    t.click('//*[@id=\"quote-nav\"]/ul/li[4]/a') \n",
    "    roe = ((t.read('//*[@id=\"Col1-0-KeyStatistics-Proxy\"]/section/div[2]/div[3]/div/div[3]/div/table/tbody/tr[2]/td[2]')))\n",
    "    \n",
    "    stock = make_stock(stockId, stockName, stockPrice, freeCashFlowPrev, freeCashFlowCurr, eps, dividendYield, peRatio, roe, netIncomePrev, netIncomeCurr, netOperatingIncomePrev, netOperatingIncomeCurr)\n",
    "    stocks.append(stock)\n",
    "    \n",
    "t.close()"
   ]
  },
  {
   "cell_type": "code",
   "execution_count": 6,
   "metadata": {},
   "outputs": [
    {
     "name": "stdout",
     "output_type": "stream",
     "text": [
      "Stock ID:  CJLU.SI\n",
      "Stock Name:  NetLink NBN Trust (CJLU.SI)\n",
      "Stock Price:  0.93\n",
      "Previous Year Net Income:  49950\n",
      "Latest Net Income:  77359\n",
      "Previous Operating Income:  54468\n",
      "Latest Operating Net Income:  85418\n",
      "Previous Free Cash Flow:  -53730\n",
      "Latest Cash Flow:  158542\n",
      "Earnings Per Share:  0.021\n",
      "Dividend Yield:  0.05 (5.33%)\n",
      "PE Ratio:  44.29\n",
      "ROE:  N/A\n",
      " \n"
     ]
    }
   ],
   "source": [
    "for i in stocks[0:1]:\n",
    "    print('Stock ID: ',i.stockId)\n",
    "    print('Stock Name: ',i.stockName)\n",
    "    print('Stock Price: ',i.stockPrice)\n",
    "    print('Previous Year Net Income: ',i.netIncomePrev)\n",
    "    print('Latest Net Income: ',i.netIncomeCurr)\n",
    "    print('Previous Operating Income: ',i.netOperatingIncomePrev)\n",
    "    print('Latest Operating Net Income: ',i.netOperatingIncomeCurr)\n",
    "    print('Previous Free Cash Flow: ',i.freeCashFlowPrev)\n",
    "    print('Latest Cash Flow: ',i.freeCashFlowCurr)\n",
    "    print('Earnings Per Share: ',i.eps)\n",
    "    print('Dividend Yield: ',i.dividendYield)\n",
    "    print('PE Ratio: ',i.peRatio)\n",
    "    print('ROE: ',i.roe)\n",
    "    print(' ')\n",
    "    \n",
    "    #Use XPath!!!!"
   ]
  },
  {
   "cell_type": "markdown",
   "metadata": {},
   "source": [
    "### Analysis & Visualisation of Scraped Data of Selected Stocks"
   ]
  },
  {
   "cell_type": "code",
   "execution_count": 7,
   "metadata": {},
   "outputs": [],
   "source": [
    "#Change in Net Income\n",
    "#Change in Operating Income\n",
    "stockNames = list()\n",
    "changeOpIncome = list()\n",
    "changeNetIncome = list()\n",
    "\n",
    "for i in stocks:\n",
    "    stockNames.append(i.stockName)\n",
    "    changeInOperatingIncome = float(i.netOperatingIncomeCurr) - float(i.netOperatingIncomePrev)\n",
    "    changeOpIncome.append(changeInOperatingIncome)    \n",
    "    changeInNetIncome = float(i.netIncomeCurr) - float(i.netIncomePrev)\n",
    "    changeNetIncome.append(changeInNetIncome)"
   ]
  },
  {
   "cell_type": "code",
   "execution_count": 8,
   "metadata": {},
   "outputs": [
    {
     "data": {
      "text/plain": [
       "<Figure size 640x480 with 1 Axes>"
      ]
     },
     "metadata": {},
     "output_type": "display_data"
    }
   ],
   "source": [
    "import matplotlib.pyplot as plt\n",
    "import numpy as np\n",
    "plt.title('Change in Operating Income ($ in Thousands)')\n",
    "plt.barh(stockNames, changeOpIncome, color=['black', 'grey', 'green', 'blue', 'cyan'])\n",
    "plt.show()"
   ]
  },
  {
   "cell_type": "code",
   "execution_count": 9,
   "metadata": {},
   "outputs": [
    {
     "data": {
      "image/png": "[encoded data removed]",
      "text/plain": [
       "<Figure size 432x288 with 1 Axes>"
      ]
     },
     "metadata": {
      "needs_background": "light"
     },
     "output_type": "display_data"
    }
   ],
   "source": [
    "import matplotlib.pyplot as pltNetIncome\n",
    "pltNetIncome.title('Change in Net Income ($ in Thousands)')\n",
    "pltNetIncome.barh(stockNames, changeNetIncome, color=['black', 'grey', 'green', 'blue', 'cyan'])\n",
    "pltNetIncome.show()"
   ]
  },
  {
   "cell_type": "code",
   "execution_count": 10,
   "metadata": {},
   "outputs": [],
   "source": [
    "cashFlowPrev = list()\n",
    "cashFlowCurr = list()\n",
    "changeCashFlow = list()\n",
    "\n",
    "for i in stocks:\n",
    "    cashFlowC = float(i.freeCashFlowCurr)\n",
    "    cashFlowP = float(i.freeCashFlowPrev)\n",
    "    change = (cashFlowC - cashFlowP)/abs(cashFlowP)\n",
    "    \n",
    "    changeCashFlow.append(change)\n",
    "    cashFlowPrev.append(cashFlowP)\n",
    "    cashFlowCurr.append(cashFlowC)"
   ]
  },
  {
   "cell_type": "code",
   "execution_count": 11,
   "metadata": {},
   "outputs": [
    {
     "data": {
      "image/png": "[encoded data removed]",
      "text/plain": [
       "<Figure size 720x432 with 1 Axes>"
      ]
     },
     "metadata": {
      "needs_background": "light"
     },
     "output_type": "display_data"
    }
   ],
   "source": [
    "#Current Cash Flow\n",
    "import matplotlib\n",
    "import matplotlib.pyplot as plt\n",
    "import numpy as np\n",
    "\n",
    "barWidth = 0.35  # the width of the bars\n",
    "\n",
    "# Set position of bar on X axis\n",
    "r1 = np.arange(len(stock_array))\n",
    "r2 = [x + barWidth for x in r1]\n",
    "\n",
    "fig, ax = plt.subplots()\n",
    "rects2 = ax.bar(r2, cashFlowPrev, width=barWidth, color='red', label='Previous Year Cash Flow')\n",
    "rects1 = ax.bar(r1, cashFlowCurr, width=barWidth, label='Current Year Cash Flow' )\n",
    "\n",
    "# Add some text for labels, title and custom x-axis tick labels, etc.\n",
    "ax.set_ylabel('Scores')\n",
    "ax.set_title('Free Cash Flow (Thousands of $)')\n",
    "plt.xticks([r + barWidth for r in range(len(stock_array))], stock_array)\n",
    "\n",
    "fig.tight_layout()\n",
    "fig.set_figheight(6)\n",
    "fig.set_figwidth(10)\n",
    "#Show graphic\n",
    "plt.show()"
   ]
  },
  {
   "cell_type": "code",
   "execution_count": 12,
   "metadata": {},
   "outputs": [
    {
     "data": {
      "image/png": "[encoded data removed]",
      "text/plain": [
       "<Figure size 720x432 with 1 Axes>"
      ]
     },
     "metadata": {
      "needs_background": "light"
     },
     "output_type": "display_data"
    }
   ],
   "source": [
    "#Change in Free Cash Flow\n",
    "import matplotlib\n",
    "import matplotlib.pyplot as plt\n",
    "import numpy as np\n",
    "\n",
    "barWidth = 0.4  # the width of the bars\n",
    "\n",
    "fig, ax = plt.subplots()\n",
    "rects1 = ax.bar(stock_array, changeCashFlow, width=barWidth, label='Current Year Cash Flow' , color='green')\n",
    "\n",
    "# Add some text for labels, title and custom x-axis tick labels, etc.\n",
    "ax.set_ylabel('Scores')\n",
    "ax.set_title('Change in Free Cash Flow (%)')\n",
    "fig.tight_layout()\n",
    "\n",
    "fig.set_figheight(6)\n",
    "fig.set_figwidth(10)\n",
    "\n",
    "plt.show()"
   ]
  },
  {
   "cell_type": "markdown",
   "metadata": {},
   "source": [
    "### Summary of Top 3 Stocks Based on Each Indicator"
   ]
  },
  {
   "cell_type": "code",
   "execution_count": 13,
   "metadata": {},
   "outputs": [],
   "source": [
    "#Current Earnings Per Share\n",
    "epsList = list()\n",
    "#PE Ratio\n",
    "peList = list()\n",
    "#ROE\n",
    "roeList = list()\n",
    "#Dividend Yield\n",
    "divList = list()\n",
    "\n",
    "for i in stocks:\n",
    "    epsList.append(i.eps)\n",
    "    peList.append(i.peRatio)\n",
    "    roeList.append(i.roe)\n",
    "    divList.append(i.dividendYield)\n",
    "    "
   ]
  },
  {
   "cell_type": "markdown",
   "metadata": {},
   "source": [
    "#### Top Earnings Per Share Stocks"
   ]
  },
  {
   "cell_type": "code",
   "execution_count": 14,
   "metadata": {},
   "outputs": [
    {
     "name": "stdout",
     "output_type": "stream",
     "text": [
      "Venture Corporation Limited (V03.SI): 1.29\n",
      "Mapletree Industrial Trust (ME8U.SI): 0.144\n",
      "Keppel DC REIT (AJBU.SI): 0.112\n"
     ]
    }
   ],
   "source": [
    "stockNamesCopy = stockNames.copy()\n",
    "epsListCopy = epsList.copy()\n",
    "for i in range(3):\n",
    "    top1 = max(epsListCopy)\n",
    "    top1Index = epsListCopy.index(top1)\n",
    "    print(stockNamesCopy[top1Index] + ':', top1)\n",
    "    epsListCopy.remove(top1)\n",
    "    stockNamesCopy.remove(stockNamesCopy[top1Index])\n"
   ]
  },
  {
   "cell_type": "markdown",
   "metadata": {},
   "source": [
    "#### Top PE Ratio Stock"
   ]
  },
  {
   "cell_type": "code",
   "execution_count": 15,
   "metadata": {},
   "outputs": [
    {
     "name": "stdout",
     "output_type": "stream",
     "text": [
      "NetLink NBN Trust (CJLU.SI): 44.29\n",
      "Raffles Medical Group Ltd (BSL.SI): 27.86\n",
      "MindChamps PreSchool Limited (CNE.SI): 23.68\n",
      "Riverstone Holdings Limited (AP4.SI): 21.74\n"
     ]
    }
   ],
   "source": [
    "stockNamesCopy = stockNames.copy()\n",
    "peListCopy = peList.copy()\n",
    "for i in range(4):\n",
    "    top1 = max(peListCopy)\n",
    "    top1Index = peListCopy.index(top1)\n",
    "    print(stockNamesCopy[top1Index] + ':', top1)\n",
    "    peListCopy.remove(top1)\n",
    "    stockNamesCopy.remove(stockNamesCopy[top1Index])\n"
   ]
  },
  {
   "cell_type": "markdown",
   "metadata": {},
   "source": [
    "#### Top Return on Equity Stocks"
   ]
  },
  {
   "cell_type": "code",
   "execution_count": 16,
   "metadata": {},
   "outputs": [
    {
     "name": "stdout",
     "output_type": "stream",
     "text": [
      "NetLink NBN Trust (CJLU.SI): N/A\n",
      "Mapletree Industrial Trust (ME8U.SI): 9.20%\n",
      "MindChamps PreSchool Limited (CNE.SI): 8.36%\n",
      "Raffles Medical Group Ltd (BSL.SI): 7.90%\n"
     ]
    }
   ],
   "source": [
    "stockNamesCopy = stockNames.copy()\n",
    "roeListCopy = roeList.copy()\n",
    "for i in range(4):\n",
    "    top1 = max(roeListCopy)\n",
    "    top1Index = roeListCopy.index(top1)\n",
    "    print(stockNamesCopy[top1Index] + ':', top1)\n",
    "    roeListCopy.remove(top1)\n",
    "    stockNamesCopy.remove(stockNamesCopy[top1Index])\n"
   ]
  },
  {
   "cell_type": "markdown",
   "metadata": {},
   "source": [
    "#### Top Dividend Yield Stocks"
   ]
  },
  {
   "cell_type": "code",
   "execution_count": 17,
   "metadata": {},
   "outputs": [
    {
     "name": "stdout",
     "output_type": "stream",
     "text": [
      "Venture Corporation Limited (V03.SI): 0.70 (4.26%)\n",
      "Mapletree Industrial Trust (ME8U.SI): 0.12 (4.63%)\n",
      "Keppel DC REIT (AJBU.SI): 0.09 (4.53%)\n",
      "NetLink NBN Trust (CJLU.SI): 0.05 (5.33%)\n"
     ]
    }
   ],
   "source": [
    "#Dividend Yield\n",
    "stockNamesCopy = stockNames.copy()\n",
    "divListCopy = divList.copy()\n",
    "for i in range(4):\n",
    "    top1 = max(divListCopy)\n",
    "    top1Index = divListCopy.index(top1)\n",
    "    print(stockNamesCopy[top1Index] + ':', top1)\n",
    "    divListCopy.remove(top1)\n",
    "    stockNamesCopy.remove(stockNamesCopy[top1Index])"
   ]
  },
  {
   "cell_type": "code",
   "execution_count": null,
   "metadata": {},
   "outputs": [],
   "source": []
  },
  {
   "cell_type": "code",
   "execution_count": null,
   "metadata": {},
   "outputs": [],
   "source": []
  },
  {
   "cell_type": "markdown",
   "metadata": {},
   "source": [
    "### Reccommended Stock to Consider"
   ]
  },
  {
   "cell_type": "code",
   "execution_count": 18,
   "metadata": {},
   "outputs": [
    {
     "data": {
      "text/html": [
       "<script>\n",
       "code_show=true; \n",
       "function code_toggle() {\n",
       " if (code_show){\n",
       " $('div.input').hide();\n",
       " } else {\n",
       " $('div.input').show();\n",
       " }\n",
       " code_show = !code_show\n",
       "} \n",
       "$( document ).ready(code_toggle);\n",
       "</script>\n",
       "<form action=\"javascript:code_toggle()\"><input type=\"submit\" value=\"Click here to Hide/Show the raw code.\"></form>"
      ],
      "text/plain": [
       "<IPython.core.display.HTML object>"
      ]
     },
     "execution_count": 18,
     "metadata": {},
     "output_type": "execute_result"
    }
   ],
   "source": [
    "from IPython.display import HTML\n",
    "\n",
    "HTML('''<script>\n",
    "code_show=true; \n",
    "function code_toggle() {\n",
    " if (code_show){\n",
    " $('div.input').hide();\n",
    " } else {\n",
    " $('div.input').show();\n",
    " }\n",
    " code_show = !code_show\n",
    "} \n",
    "$( document ).ready(code_toggle);\n",
    "</script>\n",
    "<form action=\"javascript:code_toggle()\"><input type=\"submit\" value=\"Click here to Hide/Show the raw code.\"></form>''')"
   ]
  }
 ],
 "metadata": {
  "kernelspec": {
   "display_name": "Python 3",
   "language": "python",
   "name": "python3"
  },
  "language_info": {
   "codemirror_mode": {
    "name": "ipython",
    "version": 3
   },
   "file_extension": ".py",
   "mimetype": "text/x-python",
   "name": "python",
   "nbconvert_exporter": "python",
   "pygments_lexer": "ipython3",
   "version": "3.7.4"
  }
 },
 "nbformat": 4,
 "nbformat_minor": 2
}

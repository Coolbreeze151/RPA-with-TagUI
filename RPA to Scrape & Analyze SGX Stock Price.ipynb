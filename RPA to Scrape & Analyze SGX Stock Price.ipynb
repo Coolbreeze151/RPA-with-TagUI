{
 "cells": [
  {
   "cell_type": "code",
   "execution_count": null,
   "metadata": {},
   "outputs": [],
   "source": [
    "#pip install tagui"
   ]
  },
  {
   "cell_type": "markdown",
   "metadata": {},
   "source": [
    "So let's now use TagUI for other useful stuff in our daily lives. The first thing that comes to mind is to use RPA for scraping purposes. So for the benefit of my future employer who may be interested in me, I'll be working on using RPA to scrape some useful data. Lets scrape data related to the stock market for now since its an easily retrievable dataset that we can pull out and make analysis with."
   ]
  },
  {
   "cell_type": "code",
   "execution_count": null,
   "metadata": {},
   "outputs": [],
   "source": [
    "#Open Yahoo to scrape relevant data of stocks we want to look at\n",
    "t.init(visual_automation = True, chrome_browser = True)\n",
    "t.keyboard('[ctrl][shift][n]')\n",
    "t.keyboard('https://sg.finance.yahoo.com/quote/CJLU.SI/')\n",
    "t.keyboard('[enter]')\n",
    "t.wait(2)\n",
    "\n",
    "#Compare the different stocks"
   ]
  },
  {
   "cell_type": "code",
   "execution_count": null,
   "metadata": {},
   "outputs": [],
   "source": [
    "#Make Visualisation of stocks pricing based on data that was scraped"
   ]
  },
  {
   "cell_type": "code",
   "execution_count": null,
   "metadata": {},
   "outputs": [],
   "source": [
    "#Display Indicators of various stocks based on data that was scraped"
   ]
  },
  {
   "cell_type": "code",
   "execution_count": null,
   "metadata": {},
   "outputs": [],
   "source": [
    "#Make a recommendation on stocks top 3 stocks to consider based on analysis made"
   ]
  }
 ],
 "metadata": {
  "kernelspec": {
   "display_name": "Python 3",
   "language": "python",
   "name": "python3"
  },
  "language_info": {
   "codemirror_mode": {
    "name": "ipython",
    "version": 3
   },
   "file_extension": ".py",
   "mimetype": "text/x-python",
   "name": "python",
   "nbconvert_exporter": "python",
   "pygments_lexer": "ipython3",
   "version": "3.7.4"
  }
 },
 "nbformat": 4,
 "nbformat_minor": 2
}

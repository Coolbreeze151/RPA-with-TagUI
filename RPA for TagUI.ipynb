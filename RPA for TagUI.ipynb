{
 "cells": [
  {
   "cell_type": "code",
   "execution_count": 1,
   "metadata": {},
   "outputs": [
    {
     "name": "stdout",
     "output_type": "stream",
     "text": [
      "Requirement already satisfied: tagui in c:\\users\\ismahfaris\\anaconda3\\lib\\site-packages (1.17.2)\n",
      "Note: you may need to restart the kernel to use updated packages.\n"
     ]
    }
   ],
   "source": [
    "#pip install tagui"
   ]
  },
  {
   "cell_type": "markdown",
   "metadata": {},
   "source": [
    "Using this script to increase youtube views. Do use it at your own risk because Youtube's algorithm may be strong enough to detect this and may decide to ban you instead!"
   ]
  },
  {
   "cell_type": "code",
   "execution_count": 2,
   "metadata": {},
   "outputs": [],
   "source": [
    "import tagui as t"
   ]
  },
  {
   "cell_type": "code",
   "execution_count": 13,
   "metadata": {},
   "outputs": [
    {
     "name": "stdout",
     "output_type": "stream",
     "text": [
      "[TAGUI][ERROR] - use close() before using init() again\n"
     ]
    },
    {
     "data": {
      "text/plain": [
       "True"
      ]
     },
     "execution_count": 13,
     "metadata": {},
     "output_type": "execute_result"
    }
   ],
   "source": [
    "t.init(visual_automation = True, chrome_browser = True)\n",
    "t.keyboard('[ctrl][shift][n]')\n",
    "t.keyboard('https://www.youtube.com/watch?v=SlPhMPnQ58k')\n",
    "t.keyboard('[enter]')\n",
    "t.click(900, 300)\n",
    "t.keyboard('[ctrl][shift][n]')\n",
    "t.keyboard('https://www.youtube.com/watch?v=SlPhMPnQ58k')\n",
    "t.keyboard('[enter]')\n",
    "t.click(900, 300)\n",
    "t.keyboard('[ctrl][shift][n]')\n",
    "t.keyboard('https://www.youtube.com/watch?v=SlPhMPnQ58k')\n",
    "t.keyboard('[enter]')\n",
    "t.click(900, 300)\n"
   ]
  },
  {
   "cell_type": "code",
   "execution_count": null,
   "metadata": {},
   "outputs": [],
   "source": []
  }
 ],
 "metadata": {
  "kernelspec": {
   "display_name": "Python 3",
   "language": "python",
   "name": "python3"
  },
  "language_info": {
   "codemirror_mode": {
    "name": "ipython",
    "version": 3
   },
   "file_extension": ".py",
   "mimetype": "text/x-python",
   "name": "python",
   "nbconvert_exporter": "python",
   "pygments_lexer": "ipython3",
   "version": "3.7.4"
  }
 },
 "nbformat": 4,
 "nbformat_minor": 2
}

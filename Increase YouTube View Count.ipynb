{
 "cells": [
  {
   "cell_type": "markdown",
   "metadata": {},
   "source": [
    "## Using TagUI to Increase Youtube View Counts.\n",
    "\n",
    "#### Using this script to increase youtube views. Do use it at your own risk because Youtube's algorithm may be to detect this and either your views may not count after a while or YouTube may decide to ban you instead!\n",
    "\n",
    "#### Key assumptions\n",
    "- Running Jupyter Notebook on Chrome\n",
    "- if running python on terminal, you should be on Chrome page\n",
    "\n"
   ]
  },
  {
   "cell_type": "code",
   "execution_count": 21,
   "metadata": {},
   "outputs": [],
   "source": [
    "#pip install tagui"
   ]
  },
  {
   "cell_type": "code",
   "execution_count": 22,
   "metadata": {},
   "outputs": [],
   "source": [
    "import tagui as t"
   ]
  },
  {
   "cell_type": "code",
   "execution_count": 23,
   "metadata": {},
   "outputs": [
    {
     "name": "stdout",
     "output_type": "stream",
     "text": [
      "Number of Cycles :2\n",
      "Duration to Run Videos Before Stopping(Seconds):2\n",
      "YouTube URL: https://www.youtube.com/watch?v=-58BWq9jg44\n"
     ]
    }
   ],
   "source": [
    "cycles = input(\"Number of Cycles :\") #Number of View tabs you want to create\n",
    "duration = input(\"Duration to Run Videos Before Stopping(Seconds):\") #Duration you want to give before closing all videos\n",
    "url = input(\"YouTube URL: \")\n",
    "int_cycles = int(cycles)\n",
    "int_duration = int(duration)"
   ]
  },
  {
   "cell_type": "code",
   "execution_count": 24,
   "metadata": {},
   "outputs": [
    {
     "data": {
      "text/plain": [
       "True"
      ]
     },
     "execution_count": 24,
     "metadata": {},
     "output_type": "execute_result"
    }
   ],
   "source": [
    "t.init(visual_automation = True, chrome_browser = False) #chrome_browser set to false since I am already running chrome\n",
    "for i in range(int_cycles):\n",
    "    t.keyboard('[ctrl][shift][n]')\n",
    "    t.keyboard(url)\n",
    "    t.keyboard('[enter]')\n",
    "    t.wait(3)\n",
    "    t.click(900, 300)\n",
    "t.wait(int_duration) #Time you want to let the video run\n",
    "\n",
    "for i in range(int_cycles):\n",
    "    t.click(1900, 15)\n",
    "t.close()\n"
   ]
  },
  {
   "cell_type": "code",
   "execution_count": 1,
   "metadata": {},
   "outputs": [
    {
     "data": {
      "text/html": [
       "<script>\n",
       "code_show=true; \n",
       "function code_toggle() {\n",
       " if (code_show){\n",
       " $('div.input').hide();\n",
       " } else {\n",
       " $('div.input').show();\n",
       " }\n",
       " code_show = !code_show\n",
       "} \n",
       "$( document ).ready(code_toggle);\n",
       "</script>\n",
       "<form action=\"javascript:code_toggle()\"><input type=\"submit\" value=\"Click here to Hide/Show the raw code.\"></form>"
      ],
      "text/plain": [
       "<IPython.core.display.HTML object>"
      ]
     },
     "execution_count": 1,
     "metadata": {},
     "output_type": "execute_result"
    }
   ],
   "source": [
    "from IPython.display import HTML\n",
    "\n",
    "HTML('''<script>\n",
    "code_show=true; \n",
    "function code_toggle() {\n",
    " if (code_show){\n",
    " $('div.input').hide();\n",
    " } else {\n",
    " $('div.input').show();\n",
    " }\n",
    " code_show = !code_show\n",
    "} \n",
    "$( document ).ready(code_toggle);\n",
    "</script>\n",
    "<form action=\"javascript:code_toggle()\"><input type=\"submit\" value=\"Click here to Hide/Show the raw code.\"></form>''')"
   ]
  }
 ],
 "metadata": {
  "kernelspec": {
   "display_name": "Python 3",
   "language": "python",
   "name": "python3"
  },
  "language_info": {
   "codemirror_mode": {
    "name": "ipython",
    "version": 3
   },
   "file_extension": ".py",
   "mimetype": "text/x-python",
   "name": "python",
   "nbconvert_exporter": "python",
   "pygments_lexer": "ipython3",
   "version": "3.7.4"
  }
 },
 "nbformat": 4,
 "nbformat_minor": 2
}

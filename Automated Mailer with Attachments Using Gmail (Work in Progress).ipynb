{
 "cells": [
  {
   "cell_type": "markdown",
   "metadata": {},
   "source": [
    "## Automated Mailer with Attachments Using Gmail"
   ]
  },
  {
   "cell_type": "code",
   "execution_count": null,
   "metadata": {},
   "outputs": [],
   "source": [
    "import tagui as t"
   ]
  },
  {
   "cell_type": "code",
   "execution_count": null,
   "metadata": {},
   "outputs": [],
   "source": [
    "url = 'https://accounts.google.com/'\n",
    "t.init(visual_automation = True, chrome_browser = True)\n",
    "t.url(url)\n",
    "t.type('//*[@id=\"identifierId\"]', 'taguiRPA')\n",
    "t.click('//*[@id=\"identifierNext\"]/div[2]')\n",
    "t.type('//*[@id=\"password\"]/div[1]/div/div[1]/input','taguiPassword')\n",
    "t.click('//*[@id=\"passwordNext\"]/span/span')\n",
    "\n",
    "t.click('//*[@id=\":pe\"]/div/div')"
   ]
  },
  {
   "cell_type": "code",
   "execution_count": null,
   "metadata": {},
   "outputs": [],
   "source": []
  }
 ],
 "metadata": {
  "kernelspec": {
   "display_name": "Python 3",
   "language": "python",
   "name": "python3"
  },
  "language_info": {
   "codemirror_mode": {
    "name": "ipython",
    "version": 3
   },
   "file_extension": ".py",
   "mimetype": "text/x-python",
   "name": "python",
   "nbconvert_exporter": "python",
   "pygments_lexer": "ipython3",
   "version": "3.7.4"
  }
 },
 "nbformat": 4,
 "nbformat_minor": 2
}

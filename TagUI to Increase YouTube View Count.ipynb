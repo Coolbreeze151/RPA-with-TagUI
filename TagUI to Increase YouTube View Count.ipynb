{
 "cells": [
  {
   "cell_type": "code",
   "execution_count": 21,
   "metadata": {},
   "outputs": [],
   "source": [
    "#pip install tagui"
   ]
  },
  {
   "cell_type": "markdown",
   "metadata": {},
   "source": [
    "#### Using this script to increase youtube views. Do use it at your own risk because Youtube's algorithm may be to detect this and either your views may not count after a while or YouTube may decide to ban you instead!\n",
    "\n",
    "#### Key assumptions\n",
    "- Running Jupyter Notebook on Chrome\n",
    "- if running python on terminal, you should be on Chrome page\n"
   ]
  },
  {
   "cell_type": "code",
   "execution_count": 22,
   "metadata": {},
   "outputs": [],
   "source": [
    "import tagui as t"
   ]
  },
  {
   "cell_type": "code",
   "execution_count": 23,
   "metadata": {},
   "outputs": [
    {
     "name": "stdout",
     "output_type": "stream",
     "text": [
      "Number of Cycles :2\n",
      "Duration to Run Videos Before Stopping(Seconds):2\n",
      "YouTube URL: https://www.youtube.com/watch?v=-58BWq9jg44\n"
     ]
    }
   ],
   "source": [
    "cycles = input(\"Number of Cycles :\") #Number of View tabs you want to create\n",
    "duration = input(\"Duration to Run Videos Before Stopping(Seconds):\") #Duration you want to give before closing all videos\n",
    "url = input(\"YouTube URL: \")\n",
    "int_cycles = int(cycles)\n",
    "int_duration = int(duration)"
   ]
  },
  {
   "cell_type": "code",
   "execution_count": 24,
   "metadata": {},
   "outputs": [
    {
     "data": {
      "text/plain": [
       "True"
      ]
     },
     "execution_count": 24,
     "metadata": {},
     "output_type": "execute_result"
    }
   ],
   "source": [
    "t.init(visual_automation = True, chrome_browser = False) #chrome_browser set to false since I am already running chrome\n",
    "for i in range(int_cycles):\n",
    "    t.keyboard('[ctrl][shift][n]')\n",
    "    t.keyboard(url)\n",
    "    t.keyboard('[enter]')\n",
    "    t.wait(3)\n",
    "    t.click(900, 300)\n",
    "t.wait(int_duration) #Time you want to let the video run\n",
    "\n",
    "for i in range(int_cycles):\n",
    "    t.click(1900, 15)\n",
    "t.close()\n"
   ]
  }
 ],
 "metadata": {
  "kernelspec": {
   "display_name": "Python 3",
   "language": "python",
   "name": "python3"
  },
  "language_info": {
   "codemirror_mode": {
    "name": "ipython",
    "version": 3
   },
   "file_extension": ".py",
   "mimetype": "text/x-python",
   "name": "python",
   "nbconvert_exporter": "python",
   "pygments_lexer": "ipython3",
   "version": "3.7.4"
  }
 },
 "nbformat": 4,
 "nbformat_minor": 2
}

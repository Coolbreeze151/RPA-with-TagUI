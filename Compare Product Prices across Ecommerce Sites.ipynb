{
 "cells": [
  {
   "cell_type": "markdown",
   "metadata": {},
   "source": [
    "## Compare Product Prices across Ecommerce Sites\n",
    "In this project we will help the user to compare prices across the different ECommerce sites using the top 4 ecommerce sites available.\n",
    "- [Shopee Singapore](www.shopee.sg)\n",
    "- [Carousell Singapore](https://sg.carousell.com/)\n",
    "- [Qoo10 Singapore](https://www.qoo10.sg/?__ar=Y)\n",
    "- [Lazada Singapore](https://www.lazada.sg/)"
   ]
  },
  {
   "cell_type": "code",
   "execution_count": 1,
   "metadata": {},
   "outputs": [],
   "source": [
    "#!pip install tabulate #Use this to get tabulate code to display the data nicely\n",
    "#pip install tagui     #Use this to install tagui if first time user"
   ]
  },
  {
   "cell_type": "code",
   "execution_count": 2,
   "metadata": {},
   "outputs": [
    {
     "name": "stdout",
     "output_type": "stream",
     "text": [
      "Enter name of Product: Airpods\n"
     ]
    }
   ],
   "source": [
    "import tagui as t\n",
    "class Product(object):\n",
    "    productName = \"\"\n",
    "    price=\"\"\n",
    "    \n",
    "    \n",
    "def make_product(productName, price):\n",
    "    product = Product()\n",
    "    product.productName = productName\n",
    "    product.price = price\n",
    "    \n",
    "    return product\n",
    "\n",
    "\n",
    "productSearch = input(\"Enter name of Product: \")"
   ]
  },
  {
   "cell_type": "code",
   "execution_count": 3,
   "metadata": {},
   "outputs": [],
   "source": [
    "shopee = list()\n",
    "carousell = list()\n",
    "qoo10 = list()\n",
    "lazada = list()\n",
    "\n",
    "#Start with First URL Travelocity.com\n",
    "urlFirst = 'https://www.shopee.sg/'\n",
    "urlSecond = 'https://sg.carousell.com/'\n",
    "urlThird = 'https://www.qoo10.sg/?__ar=Y'\n",
    "urlFourth = 'https://www.lazada.sg/'\n",
    "t.init(visual_automation = True, chrome_browser = True)\n",
    "t.url(urlFirst)\n",
    "\n",
    "t.type('/html/body/div[1]/div/div[2]/div[1]/div/div[2]/div/div[1]/div[1]/div/form/input',productSearch)\n",
    "t.click('/html/body/div[1]/div/div[2]/div[1]/div/div[2]/div/div[1]/div[1]/button')\n",
    "t.click('/html/body/div[1]/div/div[2]/div[1]/div/div[2]/div/div[1]/div[1]/button')\n",
    "\n",
    "price1  = t.read('/html/body/div[1]/div/div[2]/div[3]/div[2]/div[2]/div[2]/div[1]/div/a/div/div[2]/div[2]/div')\n",
    "price2 = t.read('/html/body/div[1]/div/div[2]/div[3]/div[2]/div[2]/div[2]/div[2]/div/a/div/div[2]/div[2]/div')\n",
    "price3 = t.read('/html/body/div[1]/div/div[2]/div[3]/div[2]/div[2]/div[2]/div[3]/div/a/div/div[2]/div[2]/div')\n",
    "\n",
    "name1 = t.read('/html/body/div[1]/div/div[2]/div[3]/div[2]/div[2]/div[2]/div[1]/div/a/div/div[2]/div[1]/div')\n",
    "name2 = t.read('/html/body/div[1]/div/div[2]/div[3]/div[2]/div[2]/div[2]/div[2]/div/a/div/div[2]/div[1]/div')\n",
    "name3 = t.read('/html/body/div[1]/div/div[2]/div[3]/div[2]/div[2]/div[2]/div[3]/div/a/div/div[2]/div[1]/div')\n",
    "\n",
    "p1 = make_product(name1, price1)\n",
    "p2 = make_product(name2, price2)\n",
    "p3 = make_product(name3, price3)\n",
    "\n",
    "shopee.append(p1)\n",
    "shopee.append(p2)\n",
    "shopee.append(p3)\n",
    "searchResult1 = t.url()"
   ]
  },
  {
   "cell_type": "code",
   "execution_count": 4,
   "metadata": {},
   "outputs": [],
   "source": [
    "#Carousell\n",
    "t.url(urlSecond)\n",
    "\n",
    "t.type('/html/body/div[1]/div/div[1]/div[1]/div[1]/div/form/div[3]/div/div/input',productSearch)\n",
    "t.click('/html/body/div[1]/div/div[1]/div[1]/div[1]/div/form/button')\n",
    "\n",
    "\n",
    "price1  = t.read('/html/body/div[1]/div/div[3]/div/div[2]/main/div/div/div[1]/div[1]/a[2]/p[2]')\n",
    "price2 = t.read('/html/body/div[1]/div/div[3]/div/div[2]/main/div/div/div[2]/div[1]/a[2]/p[2]')\n",
    "price3 = t.read('/html/body/div[1]/div/div[3]/div/div[2]/main/div/div/div[3]/div[1]/a[2]/p[2]')\n",
    "\n",
    "name1 = t.read('/html/body/div[1]/div/div[3]/div/div[2]/main/div/div/div[1]/div[1]/a[2]/p[1]')\n",
    "name2 = t.read('/html/body/div[1]/div/div[3]/div/div[2]/main/div/div/div[2]/div[1]/a[2]/p[1]')\n",
    "name3 = t.read('/html/body/div[1]/div/div[3]/div/div[2]/main/div/div/div[3]/div[1]/a[2]/p[1]')\n",
    "\n",
    "p1 = make_product(name1, price1)\n",
    "p2 = make_product(name2, price2)\n",
    "p3 = make_product(name3, price3)\n",
    "\n",
    "carousell.append(p1)\n",
    "carousell.append(p2)\n",
    "carousell.append(p3)\n",
    "searchResult2 = t.url()"
   ]
  },
  {
   "cell_type": "code",
   "execution_count": 5,
   "metadata": {},
   "outputs": [],
   "source": [
    "#Qoo10\n",
    "t.url(urlThird)\n",
    "\n",
    "t.type('/html/body/div[2]/div[2]/div[2]/div/form/fieldset/input[1]',productSearch)\n",
    "t.click('/html/body/div[2]/div[2]/div[2]/div/form/fieldset/button')\n",
    "\n",
    "\n",
    "price1  = t.read('/html/body/div[3]/div[3]/div[1]/div/div[1]/form/div[4]/table/tbody/tr[1]/td[3]/div/strong')\n",
    "price2 = t.read('/html/body/div[3]/div[3]/div[1]/div/div[1]/form/div[4]/table/tbody/tr[2]/td[3]/div/strong')\n",
    "price3 = t.read('/html/body/div[3]/div[3]/div[1]/div/div[1]/form/div[4]/table/tbody/tr[3]/td[3]/div/strong')\n",
    "\n",
    "name1 = t.read('/html/body/div[3]/div[3]/div[1]/div/div[1]/form/div[4]/table/tbody/tr[1]/td[2]/div/div[1]/a')\n",
    "name2 = t.read('/html/body/div[3]/div[3]/div[1]/div/div[1]/form/div[4]/table/tbody/tr[2]/td[2]/div/div[1]/a')\n",
    "name3 = t.read('/html/body/div[3]/div[3]/div[1]/div/div[1]/form/div[4]/table/tbody/tr[3]/td[2]/div/div[1]/a')\n",
    "\n",
    "p1 = make_product(name1, price1)\n",
    "p2 = make_product(name2, price2)\n",
    "p3 = make_product(name3, price3)\n",
    "\n",
    "qoo10.append(p1)\n",
    "qoo10.append(p2)\n",
    "qoo10.append(p3)\n",
    "searchResult3 = t.url()"
   ]
  },
  {
   "cell_type": "code",
   "execution_count": 6,
   "metadata": {},
   "outputs": [],
   "source": [
    "#Lazada\n",
    "t.url(urlFourth)\n",
    "\n",
    "t.type('/html/body/div[2]/div/div[1]/div/div/div[2]/div/div[2]/form/div/div[1]/input[1]',productSearch)\n",
    "t.click('/html/body/div[2]/div/div[1]/div/div/div[2]/div/div[2]/form/div/div[2]/button')\n",
    "\n",
    "price1  = t.read('/html/body/div[3]/div/div[2]/div[1]/div/div[1]/div[3]/div[1]/div/div/div[2]/div[3]/span')\n",
    "price2 = t.read('/html/body/div[3]/div/div[2]/div[1]/div/div[1]/div[3]/div[2]/div/div/div[2]/div[3]/span')\n",
    "price3 = t.read('/html/body/div[3]/div/div[2]/div[1]/div/div[1]/div[3]/div[3]/div/div/div[2]/div[3]/span')\n",
    "\n",
    "name1 = t.read('/html/body/div[3]/div/div[2]/div[1]/div/div[1]/div[3]/div[1]/div/div/div[2]/div[2]/a')\n",
    "name2 = t.read('/html/body/div[3]/div/div[2]/div[1]/div/div[1]/div[3]/div[2]/div/div/div[2]/div[2]/a')\n",
    "name3 = t.read('/html/body/div[3]/div/div[2]/div[1]/div/div[1]/div[3]/div[3]/div/div/div[2]/div[2]/a')\n",
    "\n",
    "p1 = make_product(name1, price1)\n",
    "p2 = make_product(name2, price2)\n",
    "p3 = make_product(name3, price3)\n",
    "\n",
    "lazada.append(p1)\n",
    "lazada.append(p2)\n",
    "lazada.append(p3)\n",
    "searchResult4 = t.url()"
   ]
  },
  {
   "cell_type": "code",
   "execution_count": 7,
   "metadata": {},
   "outputs": [
    {
     "data": {
      "text/html": [
       "<table>\n",
       "<tbody>\n",
       "<tr><td>Airpods 2                                                                                                                                                                                        </td><td>S$140   </td><td>Carousell</td></tr>\n",
       "<tr><td>Airpods                                                                                                                                                                                          </td><td>S$215   </td><td>Carousell</td></tr>\n",
       "<tr><td>Apple Airpods                                                                                                                                                                                    </td><td>S$100   </td><td>Carousell</td></tr>\n",
       "<tr><td>Twelve South AirFly Wireless Transmitter Connect AirPods & Wireless Headphones to Headphone Jacks at Gyms, on Airplane                                                                           </td><td>$64.99  </td><td>Shopee   </td></tr>\n",
       "<tr><td>inPods 12/12S/One Bluetooth Earphone 5.0 Wireless Headphones Headset with mic                                                                                                                    </td><td>$37.00  </td><td>Shopee   </td></tr>\n",
       "<tr><td>【Latest】100% same Apple Airpods 2 supercopy airpods with wireless charging bluetooth headphones earbuds                                                                                        </td><td>$159.00 </td><td>Shopee   </td></tr>\n",
       "<tr><td>**SG Apple Warranty** ★ Apple AirPods Gen 2 Wireless Bluetooth Earphones ★ Genuine Apple                                                                                                         </td><td>S$194.00</td><td>Qoo10    </td></tr>\n",
       "<tr><td>EARPUMP TWS [1 AND 2 ] Up to 7 HOURS Listening Time / True Bass True Wireless / Support Intelligence Voice Assistant (SIRI / GOOGLE) . Compatible with Android and IOS. LOCAL STOCK and WARRANTY!</td><td>S$69.90 </td><td>Qoo10    </td></tr>\n",
       "<tr><td>CNY SUPER SALE! Soundpeats TrueFree True Wireless Earbuds AMAZON and Qoo10 BEST SELLER                                                                                                           </td><td>S$29.90 </td><td>Qoo10    </td></tr>\n",
       "<tr><td>Apple Airpods 2 with Charging Case (1 year Apple Singapore warranty)                                                                                                                             </td><td>$219.90 </td><td>Lazada   </td></tr>\n",
       "<tr><td>Apple AirPods with Charging Case (2019)                                                                                                                                                          </td><td>$233.00 </td><td>Lazada   </td></tr>\n",
       "<tr><td>Apple AirPods with Wireless Charging Case (2019)                                                                                                                                                 </td><td>$288.00 </td><td>Lazada   </td></tr>\n",
       "</tbody>\n",
       "</table>"
      ],
      "text/plain": [
       "<IPython.core.display.HTML object>"
      ]
     },
     "metadata": {},
     "output_type": "display_data"
    }
   ],
   "source": [
    "from IPython.display import HTML, display\n",
    "import tabulate\n",
    "product = list()\n",
    "table = list()\n",
    "for i in carousell:\n",
    "    product = [i.productName, i.price,\"Carousell\"]\n",
    "    table.append(product)\n",
    "    \n",
    "for i in shopee:\n",
    "    product = [i.productName, i.price, \"Shopee\"]\n",
    "    table.append(product)\n",
    "\n",
    "for i in qoo10:\n",
    "    product = [i.productName, i.price,\"Qoo10\"]\n",
    "    table.append(product)\n",
    "\n",
    "for i in lazada:\n",
    "    product = [i.productName, i.price,\"Lazada\"]\n",
    "    table.append(product)\n",
    "    \n",
    "display(HTML(tabulate.tabulate(table, tablefmt='html')))"
   ]
  },
  {
   "cell_type": "code",
   "execution_count": 8,
   "metadata": {},
   "outputs": [
    {
     "data": {
      "text/html": [
       "<a target='_blank' href='https://shopee.sg/search?keyword=airpods'> Click here to view Shopee's Search Results</a>"
      ],
      "text/plain": [
       "<IPython.core.display.HTML object>"
      ]
     },
     "metadata": {},
     "output_type": "display_data"
    }
   ],
   "source": [
    "from IPython.display import display, HTML\n",
    "\n",
    "# create a string template for the HTML snippet\n",
    "link_t = \"<a target='_blank' href='{href}'> Click here to view Shopee\\'s Search Results</a>\"\n",
    "link_t2 = \"<a target='_blank' href='{href}'> Click here to view Carousell\\'s Search Results</a>\"\n",
    "link_t3 = \"<a target='_blank' href='{href}'> Click here to view Qoo10\\' Search Results</a>\"\n",
    "link_t4 = \"<a target='_blank' href='{href}'> Click here to view Lazada\\' Search Results</a>\"\n",
    "\n",
    "# create HTML object, using the string template\n",
    "html = HTML(link_t.format(href=searchResult1))\n",
    "\n",
    "# display the HTML object to put the link on the page:\n",
    "display(html)"
   ]
  },
  {
   "cell_type": "code",
   "execution_count": 9,
   "metadata": {},
   "outputs": [
    {
     "data": {
      "text/html": [
       "<a target='_blank' href='https://sg.carousell.com/search/Airpods?'> Click here to view Carousell's Search Results</a>"
      ],
      "text/plain": [
       "<IPython.core.display.HTML object>"
      ]
     },
     "metadata": {},
     "output_type": "display_data"
    }
   ],
   "source": [
    "# create HTML object, using the string template\n",
    "html = HTML(link_t2.format(href=searchResult2))\n",
    "\n",
    "# display the HTML object to put the link on the page:\n",
    "display(html)"
   ]
  },
  {
   "cell_type": "code",
   "execution_count": 10,
   "metadata": {},
   "outputs": [
    {
     "data": {
      "text/html": [
       "<a target='_blank' href='https://www.qoo10.sg/s/AIRPODS?keyword=Airpods&keyword_auto_change='> Click here to view Qoo10' Search Results</a>"
      ],
      "text/plain": [
       "<IPython.core.display.HTML object>"
      ]
     },
     "metadata": {},
     "output_type": "display_data"
    }
   ],
   "source": [
    "# create HTML object, using the string template\n",
    "html = HTML(link_t3.format(href=searchResult3))\n",
    "\n",
    "# display the HTML object to put the link on the page:\n",
    "display(html)"
   ]
  },
  {
   "cell_type": "code",
   "execution_count": 11,
   "metadata": {},
   "outputs": [
    {
     "data": {
      "text/html": [
       "<a target='_blank' href='https://www.lazada.sg/shop-ce-headphones/apple/?searchredirect=airpods&spm=a2o42.home.search.go.654346b5UwOqNo'> Click here to view Lazada' Search Results</a>"
      ],
      "text/plain": [
       "<IPython.core.display.HTML object>"
      ]
     },
     "metadata": {},
     "output_type": "display_data"
    }
   ],
   "source": [
    "# create HTML object, using the string template\n",
    "html = HTML(link_t4.format(href=searchResult4))\n",
    "\n",
    "# display the HTML object to put the link on the page:\n",
    "display(html)"
   ]
  },
  {
   "cell_type": "code",
   "execution_count": 12,
   "metadata": {},
   "outputs": [
    {
     "data": {
      "text/html": [
       "<script>\n",
       "code_show=true; \n",
       "function code_toggle() {\n",
       " if (code_show){\n",
       " $('div.input').hide();\n",
       " } else {\n",
       " $('div.input').show();\n",
       " }\n",
       " code_show = !code_show\n",
       "} \n",
       "$( document ).ready(code_toggle);\n",
       "</script>\n",
       "<form action=\"javascript:code_toggle()\"><input type=\"submit\" value=\"Click here to Hide/Show the raw code.\"></form>"
      ],
      "text/plain": [
       "<IPython.core.display.HTML object>"
      ]
     },
     "execution_count": 12,
     "metadata": {},
     "output_type": "execute_result"
    }
   ],
   "source": [
    "t.close()\n",
    "from IPython.display import HTML\n",
    "\n",
    "HTML('''<script>\n",
    "code_show=true; \n",
    "function code_toggle() {\n",
    " if (code_show){\n",
    " $('div.input').hide();\n",
    " } else {\n",
    " $('div.input').show();\n",
    " }\n",
    " code_show = !code_show\n",
    "} \n",
    "$( document ).ready(code_toggle);\n",
    "</script>\n",
    "<form action=\"javascript:code_toggle()\"><input type=\"submit\" value=\"Click here to Hide/Show the raw code.\"></form>''')"
   ]
  },
  {
   "cell_type": "code",
   "execution_count": null,
   "metadata": {},
   "outputs": [],
   "source": []
  }
 ],
 "metadata": {
  "kernelspec": {
   "display_name": "Python 3",
   "language": "python",
   "name": "python3"
  },
  "language_info": {
   "codemirror_mode": {
    "name": "ipython",
    "version": 3
   },
   "file_extension": ".py",
   "mimetype": "text/x-python",
   "name": "python",
   "nbconvert_exporter": "python",
   "pygments_lexer": "ipython3",
   "version": "3.7.4"
  }
 },
 "nbformat": 4,
 "nbformat_minor": 2
}

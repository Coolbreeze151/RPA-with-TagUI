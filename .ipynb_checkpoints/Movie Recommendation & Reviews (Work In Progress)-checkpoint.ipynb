{
 "cells": [
  {
   "cell_type": "markdown",
   "metadata": {},
   "source": [
    "## Get Movie Recommendations and Reviews\n",
    "\n",
    "I'm someone who loves to catch movies every Saturday. However, time and time again it has been a hassle for me to quickly search up the movies I can catch for the upcoming Saturday. So this script is meant for me to do a quick check on movie reviews and recommendataions for the Saturday. As an addition, I'll pull up some movie reviews for the movies to help me decide if its worthwhile to catch the movie. I usually catch my movies at Shaw Seletar so we will be using Shaw Seletar movie options as the point of reference"
   ]
  },
  {
   "cell_type": "code",
   "execution_count": 1,
   "metadata": {},
   "outputs": [],
   "source": [
    "import tagui as t\n",
    "class Movie(object):\n",
    "    movieName = \"\"\n",
    "    tomatoes = \"\"\n",
    "    popcorn = \"\"\n",
    "    \n",
    "def make_movie(movieName):\n",
    "    movie = Movie()\n",
    "    movie.movieName = movieName\n",
    "    movie.tomatoes = tomatoes\n",
    "    movie.popcorn = popcorn\n",
    "    \n",
    "    return movie"
   ]
  },
  {
   "cell_type": "code",
   "execution_count": 2,
   "metadata": {},
   "outputs": [],
   "source": [
    "#Go through List of Current Movies\n",
    "#Go through comments\n",
    "\n",
    "t.init(visual_automation = True, chrome_browser = True)\n",
    "t.url('https://www.popcorn.app/sg/shaw-theatres/shaw-seletar/cinema/45')\n",
    "movie1 = t.read('/html/body/div[7]/div[2]/div/div/div/div[2]/div[2]/a/h4')\n",
    "movie2 = t.read('/html/body/div[7]/div[2]/div/div/div/div[3]/div[2]/a/h4')\n",
    "movie3 = t.read('/html/body/div[7]/div[2]/div/div/div/div[4]/div[2]/a/h4')\n",
    "    "
   ]
  },
  {
   "cell_type": "code",
   "execution_count": 3,
   "metadata": {},
   "outputs": [
    {
     "data": {
      "text/plain": [
       "True"
      ]
     },
     "execution_count": 3,
     "metadata": {},
     "output_type": "execute_result"
    }
   ],
   "source": [
    "search1 = movie1+\" movie ratings\"\n",
    "search2 = movie2+\" movie ratings\"\n",
    "search3 = movie3+\" movie ratings\"\n",
    "\n",
    "t.url('https://www.google.com/')\n",
    "t.keyboard(search1)\n",
    "t.keyboard('[enter]')\n",
    "t.wait(10)\n",
    "t.snap('/html/body/div[7]/div[3]/div[10]/div[1]/div[3]/div/div[1]/div[1]/div[1]/div/div[5]', 'movie1.png')\n",
    "\n",
    "t.url('https://www.google.com/')\n",
    "t.keyboard(search2)\n",
    "t.keyboard('[enter]')\n",
    "t.wait(10)\n",
    "t.snap('/html/body/div[7]/div[3]/div[10]/div[1]/div[3]/div/div[1]', 'movie2.png')\n",
    "\n",
    "t.url('https://www.google.com/')\n",
    "t.keyboard(search3)\n",
    "t.keyboard('[enter]')\n",
    "t.wait(10)\n",
    "t.snap('/html/body/div[7]/div[3]/div[10]/div[1]/div[3]/div/div[1]/div[1]/div[1]/div/div[5]/div', 'movie3.png')"
   ]
  },
  {
   "cell_type": "code",
   "execution_count": 4,
   "metadata": {},
   "outputs": [
    {
     "name": "stdout",
     "output_type": "stream",
     "text": [
      "Top 3 Movies at Shaw Seletar\n",
      "1917\n",
      "Darbar\n",
      "Dolittle\n"
     ]
    }
   ],
   "source": [
    "print(\"Top 3 Movies at Shaw Seletar\")\n",
    "print(movie1)\n",
    "print(movie2)\n",
    "print(movie3)"
   ]
  },
  {
   "cell_type": "code",
   "execution_count": 5,
   "metadata": {},
   "outputs": [
    {
     "data": {
      "text/html": [
       "<img src=\"movie1.png\"/>"
      ],
      "text/plain": [
       "<IPython.core.display.Image object>"
      ]
     },
     "execution_count": 5,
     "metadata": {},
     "output_type": "execute_result"
    }
   ],
   "source": [
    "from IPython.display import Image\n",
    "from IPython.core.display import HTML \n",
    "Image(url= \"movie1.png\")"
   ]
  },
  {
   "cell_type": "code",
   "execution_count": 6,
   "metadata": {},
   "outputs": [
    {
     "data": {
      "text/html": [
       "<img src=\"movie2.png\"/>"
      ],
      "text/plain": [
       "<IPython.core.display.Image object>"
      ]
     },
     "execution_count": 6,
     "metadata": {},
     "output_type": "execute_result"
    }
   ],
   "source": [
    "Image(url= \"movie2.png\")"
   ]
  },
  {
   "cell_type": "code",
   "execution_count": 7,
   "metadata": {},
   "outputs": [
    {
     "data": {
      "text/html": [
       "<img src=\"movie3.png\"/>"
      ],
      "text/plain": [
       "<IPython.core.display.Image object>"
      ]
     },
     "execution_count": 7,
     "metadata": {},
     "output_type": "execute_result"
    }
   ],
   "source": [
    "Image(url= \"movie3.png\")"
   ]
  },
  {
   "cell_type": "code",
   "execution_count": null,
   "metadata": {},
   "outputs": [],
   "source": []
  },
  {
   "cell_type": "code",
   "execution_count": null,
   "metadata": {},
   "outputs": [],
   "source": []
  },
  {
   "cell_type": "code",
   "execution_count": null,
   "metadata": {},
   "outputs": [],
   "source": []
  },
  {
   "cell_type": "code",
   "execution_count": 8,
   "metadata": {},
   "outputs": [
    {
     "data": {
      "text/plain": [
       "True"
      ]
     },
     "execution_count": 8,
     "metadata": {},
     "output_type": "execute_result"
    }
   ],
   "source": [
    "t.close()"
   ]
  },
  {
   "cell_type": "code",
   "execution_count": null,
   "metadata": {},
   "outputs": [],
   "source": []
  },
  {
   "cell_type": "raw",
   "metadata": {},
   "source": []
  }
 ],
 "metadata": {
  "kernelspec": {
   "display_name": "Python 3",
   "language": "python",
   "name": "python3"
  },
  "language_info": {
   "codemirror_mode": {
    "name": "ipython",
    "version": 3
   },
   "file_extension": ".py",
   "mimetype": "text/x-python",
   "name": "python",
   "nbconvert_exporter": "python",
   "pygments_lexer": "ipython3",
   "version": "3.7.4"
  }
 },
 "nbformat": 4,
 "nbformat_minor": 2
}

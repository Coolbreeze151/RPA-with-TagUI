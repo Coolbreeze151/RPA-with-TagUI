{
 "cells": [
  {
   "cell_type": "markdown",
   "metadata": {},
   "source": [
    "## Summary of Trending Topics for the Day\n",
    "\n",
    "In this script we will pull data on what's trending for the day in Singapore. We will use [Google Trends](https://trends.google.com/trends/?geo=SG) as the primary platform to get the latest news/information on what is trending for the day."
   ]
  },
  {
   "cell_type": "code",
   "execution_count": 1,
   "metadata": {},
   "outputs": [],
   "source": [
    "import tagui as t"
   ]
  },
  {
   "cell_type": "code",
   "execution_count": 2,
   "metadata": {},
   "outputs": [
    {
     "name": "stdout",
     "output_type": "stream",
     "text": [
      "\u001b[4m\u001b[1mTop 5 Search Trends Today\u001b[0m\n",
      "1) EXOChen (20K+searches)\n",
      "2) RealMadrid (5K+searches)\n",
      "3) RomavsJuventus (5K+searches)\n",
      "4) KentoMomota (2K+searches)\n",
      "5) AliffAziz (2K+searches)\n"
     ]
    }
   ],
   "source": [
    "#Visiting the URL to get the daily trends for today\n",
    "t.init(visual_automation = True, chrome_browser = True)\n",
    "t.url('https://trends.google.com/trends/trendingsearches/daily?geo=SG')\n",
    "header1 = t.read('/html/body/div[2]/div[2]/div/div[2]/div/div[1]/ng-include/div/div/div/div/md-list[1]/feed-item/ng-include/div/div/div[1]/div[2]/div[1]')\n",
    "header2 = t.read('/html/body/div[2]/div[2]/div/div[2]/div/div[1]/ng-include/div/div/div/div/md-list[2]/feed-item/ng-include/div/div/div[1]/div[2]/div[1]')\n",
    "header3 = t.read('/html/body/div[2]/div[2]/div/div[2]/div/div[1]/ng-include/div/div/div/div/md-list[3]/feed-item/ng-include/div/div/div[1]/div[2]/div[1]')\n",
    "header4 = t.read('/html/body/div[2]/div[2]/div/div[2]/div/div[1]/ng-include/div/div/div/div/md-list[4]/feed-item/ng-include/div/div/div[1]/div[2]/div[1]')\n",
    "header5 = t.read('/html/body/div[2]/div[2]/div/div[2]/div/div[1]/ng-include/div/div/div/div/md-list[5]/feed-item/ng-include/div/div/div[1]/div[2]/div[1]')\n",
    "search1 = t.read('/html/body/div[2]/div[2]/div/div[2]/div/div[1]/ng-include/div/div/div/div/md-list[1]/feed-item/ng-include/div/div/div[1]/div[3]/ng-include/div')\n",
    "search2 = t.read('/html/body/div[2]/div[2]/div/div[2]/div/div[1]/ng-include/div/div/div/div/md-list[2]/feed-item/ng-include/div/div/div[1]/div[3]/ng-include/div')\n",
    "search3 = t.read('/html/body/div[2]/div[2]/div/div[2]/div/div[1]/ng-include/div/div/div/div/md-list[3]/feed-item/ng-include/div/div/div[1]/div[3]/ng-include/div')\n",
    "search4 = t.read('/html/body/div[2]/div[2]/div/div[2]/div/div[1]/ng-include/div/div/div/div/md-list[4]/feed-item/ng-include/div/div/div[1]/div[3]/ng-include/div')\n",
    "search5 = t.read('/html/body/div[2]/div[2]/div/div[2]/div/div[1]/ng-include/div/div/div/div/md-list[5]/feed-item/ng-include/div/div/div[1]/div[3]/ng-include/div')\n",
    "\n",
    "t.snap('page','trend.png')\n",
    "t.close()\n",
    "## We will do a simple score calculator here\n",
    "# print(score)\n",
    "class color:\n",
    "   PURPLE = '\\033[95m'\n",
    "   CYAN = '\\033[96m'\n",
    "   DARKCYAN = '\\033[36m'\n",
    "   BLUE = '\\033[94m'\n",
    "   GREEN = '\\033[92m'\n",
    "   YELLOW = '\\033[93m'\n",
    "   RED = '\\033[91m'\n",
    "   BOLD = '\\033[1m'\n",
    "   UNDERLINE = '\\033[4m'\n",
    "   END = '\\033[0m'\n",
    "    \n",
    "    \n",
    "#We will now remove all unnecessary whitespaces\n",
    "header1=\"\".join(header1.split())\n",
    "header2=\"\".join(header2.split())\n",
    "header3=\"\".join(header3.split())\n",
    "header4=\"\".join(header4.split())\n",
    "header5=\"\".join(header5.split())\n",
    "\n",
    "search1=\"\".join(search1.split())\n",
    "search2=\"\".join(search2.split())\n",
    "search3=\"\".join(search3.split())\n",
    "search4=\"\".join(search4.split())\n",
    "search5=\"\".join(search5.split())\n",
    "\n",
    "header1 = header1.replace(\"share\",\"\")\n",
    "header2= header2.replace(\"share\",\"\")\n",
    "header3 = header3.replace(\"share\",\"\")\n",
    "header4 = header4.replace(\"share\",\"\")\n",
    "header5 = header5.replace(\"share\",\"\")\n",
    "\n",
    "print(color.UNDERLINE+color.BOLD+'Top 5 Search Trends Today'+color.END)\n",
    "print(\"1) \"+header1+\" (\"+search1+\")\")\n",
    "print(\"2) \"+header2+\" (\"+search2+\")\")\n",
    "print(\"3) \"+header3+\" (\"+search3+\")\")\n",
    "print(\"4) \"+header4+\" (\"+search4+\")\")\n",
    "print(\"5) \"+header5+\" (\"+search5+\")\")\n"
   ]
  },
  {
   "cell_type": "code",
   "execution_count": 3,
   "metadata": {},
   "outputs": [
    {
     "data": {
      "text/html": [
       "<img src=\"trend.png\"/>"
      ],
      "text/plain": [
       "<IPython.core.display.Image object>"
      ]
     },
     "execution_count": 3,
     "metadata": {},
     "output_type": "execute_result"
    }
   ],
   "source": [
    "from IPython.display import Image\n",
    "from IPython.core.display import HTML \n",
    "Image(url= \"trend.png\")"
   ]
  },
  {
   "cell_type": "code",
   "execution_count": 4,
   "metadata": {},
   "outputs": [
    {
     "data": {
      "text/html": [
       "<script>\n",
       "code_show=true; \n",
       "function code_toggle() {\n",
       " if (code_show){\n",
       " $('div.input').hide();\n",
       " } else {\n",
       " $('div.input').show();\n",
       " }\n",
       " code_show = !code_show\n",
       "} \n",
       "$( document ).ready(code_toggle);\n",
       "</script>\n",
       "<form action=\"javascript:code_toggle()\"><input type=\"submit\" value=\"Click here to Hide/Show the raw code.\"></form>"
      ],
      "text/plain": [
       "<IPython.core.display.HTML object>"
      ]
     },
     "execution_count": 4,
     "metadata": {},
     "output_type": "execute_result"
    }
   ],
   "source": [
    "from IPython.display import HTML\n",
    "\n",
    "HTML('''<script>\n",
    "code_show=true; \n",
    "function code_toggle() {\n",
    " if (code_show){\n",
    " $('div.input').hide();\n",
    " } else {\n",
    " $('div.input').show();\n",
    " }\n",
    " code_show = !code_show\n",
    "} \n",
    "$( document ).ready(code_toggle);\n",
    "</script>\n",
    "<form action=\"javascript:code_toggle()\"><input type=\"submit\" value=\"Click here to Hide/Show the raw code.\"></form>''')"
   ]
  },
  {
   "cell_type": "markdown",
   "metadata": {},
   "source": [
    "Access the top search trends [here](https://trends.google.com/trends/trendingsearches/daily?geo=SG)"
   ]
  }
 ],
 "metadata": {
  "kernelspec": {
   "display_name": "Python 3",
   "language": "python",
   "name": "python3"
  },
  "language_info": {
   "codemirror_mode": {
    "name": "ipython",
    "version": 3
   },
   "file_extension": ".py",
   "mimetype": "text/x-python",
   "name": "python",
   "nbconvert_exporter": "python",
   "pygments_lexer": "ipython3",
   "version": "3.7.4"
  }
 },
 "nbformat": 4,
 "nbformat_minor": 2
}

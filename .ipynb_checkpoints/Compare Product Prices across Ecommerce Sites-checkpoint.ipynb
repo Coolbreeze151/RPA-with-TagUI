{
 "cells": [
  {
   "cell_type": "markdown",
   "metadata": {},
   "source": [
    "## Compare Product Prices across Ecommerce Sites\n",
    "In this project we will help the user to compare prices across the different ECommerce sites using the top 4 ecommerce sites available.\n",
    "- [Shopee Singapore](www.shopee.sg)\n",
    "- [Carousell Singapore](https://sg.carousell.com/)\n",
    "- [Qoo10 Singapore](https://www.qoo10.sg/?__ar=Y)\n",
    "- [Lazada Singapore](https://www.lazada.sg/)"
   ]
  },
  {
   "cell_type": "code",
   "execution_count": 1,
   "metadata": {},
   "outputs": [],
   "source": [
    "#!pip install tabulate #Use this to get tabulate code to display the data nicely\n",
    "#pip install tagui     #Use this to install tagui if first time user"
   ]
  },
  {
   "cell_type": "code",
   "execution_count": 2,
   "metadata": {},
   "outputs": [
    {
     "name": "stdout",
     "output_type": "stream",
     "text": [
      "Enter name of Product: Ipad Mini\n"
     ]
    }
   ],
   "source": [
    "import tagui as t\n",
    "class Product(object):\n",
    "    productName = \"\"\n",
    "    price=\"\"\n",
    "    \n",
    "    \n",
    "def make_product(productName, price):\n",
    "    product = Product()\n",
    "    product.productName = productName\n",
    "    product.price = price\n",
    "    \n",
    "    return product\n",
    "\n",
    "\n",
    "productSearch = input(\"Enter name of Product: \")"
   ]
  },
  {
   "cell_type": "code",
   "execution_count": 3,
   "metadata": {},
   "outputs": [
    {
     "name": "stdout",
     "output_type": "stream",
     "text": [
      "[TAGUI][ERROR] - cannot find /html/body/div[1]/div/div[2]/div[3]/div[2]/div[2]/div[2]/div[1]/div/a/div/div[2]/div[2]/div/span[2]\n",
      "[TAGUI][ERROR] - cannot find /html/body/div[1]/div/div[2]/div[3]/div[2]/div[2]/div[2]/div[2]/div/a/div/div[2]/div[2]/div[1]/span[2]\n",
      "[TAGUI][ERROR] - cannot find /html/body/div[1]/div/div[2]/div[3]/div[2]/div[2]/div[2]/div[3]/div/a/div/div[2]/div[2]/div[1]/span[2]\n",
      "[TAGUI][ERROR] - cannot find /html/body/div[1]/div/div[2]/div[3]/div[2]/div[2]/div[2]/div[1]/div/a/div/div[2]/div[1]/div\n",
      "[TAGUI][ERROR] - cannot find /html/body/div[1]/div/div[2]/div[3]/div[2]/div[2]/div[2]/div[2]/div/a/div/div[2]/div[1]/div\n",
      "[TAGUI][ERROR] - cannot find /html/body/div[1]/div/div[2]/div[3]/div[2]/div[2]/div[2]/div[3]/div/a/div/div[2]/div[1]/div\n"
     ]
    }
   ],
   "source": [
    "shopee = list()\n",
    "carousell = list()\n",
    "qoo10 = list()\n",
    "lazada = list()\n",
    "\n",
    "#Start with First URL Travelocity.com\n",
    "urlFirst = 'https://www.shopee.sg/'\n",
    "urlSecond = 'https://sg.carousell.com/'\n",
    "urlThird = 'https://www.qoo10.sg/?__ar=Y'\n",
    "urlFourth = 'https://www.lazada.sg/'\n",
    "t.init(visual_automation = True, chrome_browser = True)\n",
    "t.url(urlFirst)\n",
    "\n",
    "t.type('/html/body/div[1]/div/div[2]/div[1]/div/div[2]/div/div[1]/div[1]/div/form/input',productSearch)\n",
    "t.click('/html/body/div[1]/div/div[2]/div[1]/div/div[2]/div/div[1]/div[1]/button')\n",
    "t.click('/html/body/div[1]/div/div[2]/div[1]/div/div[2]/div/div[1]/div[1]/button')\n",
    "\n",
    "price1  = t.read('/html/body/div[1]/div/div[2]/div[3]/div[2]/div[2]/div[2]/div[1]/div/a/div/div[2]/div[2]/div')\n",
    "price2 = t.read('/html/body/div[1]/div/div[2]/div[3]/div[2]/div[2]/div[2]/div[2]/div/a/div/div[2]/div[2]/div')\n",
    "price3 = t.read('/html/body/div[1]/div/div[2]/div[3]/div[2]/div[2]/div[2]/div[3]/div/a/div/div[2]/div[2]/div')\n",
    "\n",
    "name1 = t.read('/html/body/div[1]/div/div[2]/div[3]/div[2]/div[2]/div[2]/div[1]/div/a/div/div[2]/div[1]/div')\n",
    "name2 = t.read('/html/body/div[1]/div/div[2]/div[3]/div[2]/div[2]/div[2]/div[2]/div/a/div/div[2]/div[1]/div')\n",
    "name3 = t.read('/html/body/div[1]/div/div[2]/div[3]/div[2]/div[2]/div[2]/div[3]/div/a/div/div[2]/div[1]/div')\n",
    "\n",
    "p1 = make_product(name1, price1)\n",
    "p2 = make_product(name2, price2)\n",
    "p3 = make_product(name3, price3)\n",
    "\n",
    "shopee.append(p1)\n",
    "shopee.append(p2)\n",
    "shopee.append(p3)\n"
   ]
  },
  {
   "cell_type": "code",
   "execution_count": 4,
   "metadata": {},
   "outputs": [],
   "source": [
    "#Carousell\n",
    "t.url(urlSecond)\n",
    "\n",
    "t.type('/html/body/div[1]/div/div[1]/div[1]/div[1]/div/form/div[3]/div/div/input',productSearch)\n",
    "t.click('/html/body/div[1]/div/div[1]/div[1]/div[1]/div/form/button')\n",
    "\n",
    "\n",
    "price1  = t.read('/html/body/div[1]/div/div[3]/div/div[2]/main/div/div/div[1]/div[1]/a[2]/p[2]')\n",
    "price2 = t.read('/html/body/div[1]/div/div[3]/div/div[2]/main/div/div/div[2]/div[1]/a[2]/p[2]')\n",
    "price3 = t.read('/html/body/div[1]/div/div[3]/div/div[2]/main/div/div/div[3]/div[1]/a[2]/p[2]')\n",
    "\n",
    "name1 = t.read('/html/body/div[1]/div/div[3]/div/div[2]/main/div/div/div[1]/div[1]/a[2]/p[1]')\n",
    "name2 = t.read('/html/body/div[1]/div/div[3]/div/div[2]/main/div/div/div[2]/div[1]/a[2]/p[1]')\n",
    "name3 = t.read('/html/body/div[1]/div/div[3]/div/div[2]/main/div/div/div[3]/div[1]/a[2]/p[1]')\n",
    "\n",
    "p1 = make_product(name1, price1)\n",
    "p2 = make_product(name2, price2)\n",
    "p3 = make_product(name3, price3)\n",
    "\n",
    "carousell.append(p1)\n",
    "carousell.append(p2)\n",
    "carousell.append(p3)"
   ]
  },
  {
   "cell_type": "code",
   "execution_count": null,
   "metadata": {},
   "outputs": [
    {
     "name": "stdout",
     "output_type": "stream",
     "text": [
      "[TAGUI][ERROR] - cannot find /html/body/div[3]/div[3]/div[1]/div/div[1]/form/div[4]/table/tbody/tr[1]/td[3]/div/strong\n",
      "[TAGUI][ERROR] - cannot find /html/body/div[3]/div[3]/div[1]/div/div[1]/form/div[4]/table/tbody/tr[2]/td[3]/div/strong\n",
      "[TAGUI][ERROR] - cannot find /html/body/div[3]/div[3]/div[1]/div/div[1]/form/div[4]/table/tbody/tr[3]/td[3]/div/strong\n",
      "[TAGUI][ERROR] - cannot find /html/body/div[3]/div[3]/div[1]/div/div[1]/form/div[4]/table/tbody/tr[1]/td[2]/div/div[1]/a\n"
     ]
    }
   ],
   "source": [
    "#Qoo10\n",
    "t.url(urlThird)\n",
    "\n",
    "t.type('/html/body/div[2]/div[2]/div[2]/div/form/fieldset/input[1]',productSearch)\n",
    "t.click('/html/body/div[2]/div[2]/div[2]/div/form/fieldset/button')\n",
    "\n",
    "\n",
    "price1  = t.read('/html/body/div[3]/div[3]/div[1]/div/div[1]/form/div[4]/table/tbody/tr[1]/td[3]/div/strong')\n",
    "price2 = t.read('/html/body/div[3]/div[3]/div[1]/div/div[1]/form/div[4]/table/tbody/tr[2]/td[3]/div/strong')\n",
    "price3 = t.read('/html/body/div[3]/div[3]/div[1]/div/div[1]/form/div[4]/table/tbody/tr[3]/td[3]/div/strong')\n",
    "\n",
    "name1 = t.read('/html/body/div[3]/div[3]/div[1]/div/div[1]/form/div[4]/table/tbody/tr[1]/td[2]/div/div[1]/a')\n",
    "name2 = t.read('/html/body/div[3]/div[3]/div[1]/div/div[1]/form/div[4]/table/tbody/tr[2]/td[2]/div/div[1]/a')\n",
    "name3 = t.read('/html/body/div[3]/div[3]/div[1]/div/div[1]/form/div[4]/table/tbody/tr[3]/td[2]/div/div[1]/a')\n",
    "\n",
    "p1 = make_product(name1, price1)\n",
    "p2 = make_product(name2, price2)\n",
    "p3 = make_product(name3, price3)\n",
    "\n",
    "qoo10.append(p1)\n",
    "qoo10.append(p2)\n",
    "qoo10.append(p3)\n"
   ]
  },
  {
   "cell_type": "code",
   "execution_count": null,
   "metadata": {},
   "outputs": [],
   "source": [
    "#Lazada\n",
    "t.url(urlFourth)\n",
    "\n",
    "t.type('/html/body/div[2]/div/div[1]/div/div/div[2]/div/div[2]/form/div/div[1]/input[1]',productSearch)\n",
    "t.click('/html/body/div[2]/div/div[1]/div/div/div[2]/div/div[2]/form/div/div[2]/button')\n",
    "\n",
    "price1  = t.read('/html/body/div[3]/div/div[2]/div[1]/div/div[1]/div[3]/div[1]/div/div/div[2]/div[3]/span')\n",
    "price2 = t.read('/html/body/div[3]/div/div[2]/div[1]/div/div[1]/div[3]/div[2]/div/div/div[2]/div[3]/span')\n",
    "price3 = t.read('/html/body/div[3]/div/div[2]/div[1]/div/div[1]/div[3]/div[3]/div/div/div[2]/div[3]/span')\n",
    "\n",
    "name1 = t.read('/html/body/div[3]/div/div[2]/div[1]/div/div[1]/div[3]/div[1]/div/div/div[2]/div[2]/a')\n",
    "name2 = t.read('/html/body/div[3]/div/div[2]/div[1]/div/div[1]/div[3]/div[2]/div/div/div[2]/div[2]/a')\n",
    "name3 = t.read('/html/body/div[3]/div/div[2]/div[1]/div/div[1]/div[3]/div[3]/div/div/div[2]/div[2]/a')\n",
    "\n",
    "p1 = make_product(name1, price1)\n",
    "p2 = make_product(name2, price2)\n",
    "p3 = make_product(name3, price3)\n",
    "\n",
    "lazada.append(p1)\n",
    "lazada.append(p2)\n",
    "lazada.append(p3)\n"
   ]
  },
  {
   "cell_type": "code",
   "execution_count": null,
   "metadata": {},
   "outputs": [],
   "source": [
    "from IPython.display import HTML, display\n",
    "import tabulate\n",
    "product = list()\n",
    "table = list()\n",
    "for i in carousell:\n",
    "    product = [i.productName, i.price,\"Carousell\"]\n",
    "    table.append(product)\n",
    "    \n",
    "for i in shopee:\n",
    "    product = [i.productName, i.price, \"Shopee\"]\n",
    "    table.append(product)\n",
    "\n",
    "for i in qoo10:\n",
    "    product = [i.productName, i.price,\"Qoo10\"]\n",
    "    table.append(product)\n",
    "\n",
    "for i in lazada:\n",
    "    product = [i.productName, i.price,\"Lazada\"]\n",
    "    table.append(product)\n",
    "    \n",
    "display(HTML(tabulate.tabulate(table, tablefmt='html')))"
   ]
  },
  {
   "cell_type": "code",
   "execution_count": null,
   "metadata": {},
   "outputs": [],
   "source": [
    "t.close()\n",
    "from IPython.display import HTML\n",
    "\n",
    "HTML('''<script>\n",
    "code_show=true; \n",
    "function code_toggle() {\n",
    " if (code_show){\n",
    " $('div.input').hide();\n",
    " } else {\n",
    " $('div.input').show();\n",
    " }\n",
    " code_show = !code_show\n",
    "} \n",
    "$( document ).ready(code_toggle);\n",
    "</script>\n",
    "<form action=\"javascript:code_toggle()\"><input type=\"submit\" value=\"Click here to Hide/Show the raw code.\"></form>''')"
   ]
  }
 ],
 "metadata": {
  "kernelspec": {
   "display_name": "Python 3",
   "language": "python",
   "name": "python3"
  },
  "language_info": {
   "codemirror_mode": {
    "name": "ipython",
    "version": 3
   },
   "file_extension": ".py",
   "mimetype": "text/x-python",
   "name": "python",
   "nbconvert_exporter": "python",
   "pygments_lexer": "ipython3",
   "version": "3.7.4"
  }
 },
 "nbformat": 4,
 "nbformat_minor": 2
}

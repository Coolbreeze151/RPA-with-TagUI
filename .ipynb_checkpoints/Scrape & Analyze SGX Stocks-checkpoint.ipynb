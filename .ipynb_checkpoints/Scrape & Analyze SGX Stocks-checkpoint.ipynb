{
 "cells": [
  {
   "cell_type": "markdown",
   "metadata": {},
   "source": [
    "# Stock Analysis, Comparison & Recommendation Tool"
   ]
  },
  {
   "cell_type": "code",
   "execution_count": 1,
   "metadata": {},
   "outputs": [],
   "source": [
    "#pip install tagui"
   ]
  },
  {
   "cell_type": "markdown",
   "metadata": {},
   "source": [
    "In this project, we will be using RPA to scrape useful data related to the stock market since its an easily retrievable dataset that we can pull out and make analysis with. At the same time, I hope it will prove to be a useful tool for beginner investors to do a quick comparison of the stock indicators before they proceed to look beyond just financials and understand the business of the company further. This tool is not intended to be the end all and be all but could be useful in helping one to make the first decisive step of narrowing down the stocks in the market that one is considering to invest in."
   ]
  },
  {
   "cell_type": "code",
   "execution_count": 2,
   "metadata": {},
   "outputs": [],
   "source": [
    "import tagui as t"
   ]
  },
  {
   "cell_type": "code",
   "execution_count": 3,
   "metadata": {},
   "outputs": [],
   "source": [
    "class Stock(object):\n",
    "    stockId = \"\"\n",
    "    stockName = \"\"\n",
    "    stockPrice = 0\n",
    "    freeCashFlowPrev = \"\"\n",
    "    freeCashFlowCurr = \"\"\n",
    "    eps = 0\n",
    "    dividendYield = \"\"\n",
    "    peRatio = 0\n",
    "    roe = \"\"\n",
    "    netIncomePrev = \"\"\n",
    "    netIncomeCurr = \"\"\n",
    "    netOperatingIncomePrev = \"\"\n",
    "    netOperatingIncomeCurr = \"\"\n",
    "    \n",
    "def make_stock(stockId, stockName, stockPrice, freeCashFlowPrev, freeCashFlowCurr, eps, dividendYield, peRatio, roe, netIncomePrev, netIncomeCurr, netOperatingIncomePrev, netOperatingIncomeCurr):\n",
    "    stock = Stock()\n",
    "    stock.stockId = stockId\n",
    "    stock.stockName = stockName\n",
    "    stock.stockPrice = stockPrice\n",
    "    stock.freeCashFlowPrev = freeCashFlowPrev\n",
    "    stock.freeCashFlowCurr = freeCashFlowCurr\n",
    "    stock.eps = eps\n",
    "    stock.dividendYield = dividendYield\n",
    "    stock.peRatio = peRatio\n",
    "    stock.roe = roe\n",
    "    stock.netIncomePrev = netIncomePrev\n",
    "    stock.netIncomeCurr = netIncomeCurr\n",
    "    stock.netOperatingIncomePrev = netOperatingIncomePrev\n",
    "    stock.netOperatingIncomeCurr = netOperatingIncomeCurr\n",
    "\n",
    "    return stock"
   ]
  },
  {
   "cell_type": "markdown",
   "metadata": {},
   "source": [
    "### List of Stocks under the SGX Market \n",
    "For now, I'll only allow the user to select SGX listed stocks. This will help reduce issues of any errors detected in the stock Ids which may eventually hamper our RPA analysis & stock recommendation. I managed to receive the list of SGX stocks from an online site called [Eoddata](http://eoddata.com/stocklist/SGX/1.htm). We'll compare the id entered by the user with the list generated from the site here to verify if the stock is valid before we proceed to scrape the data.\n",
    "\n"
   ]
  },
  {
   "cell_type": "code",
   "execution_count": 4,
   "metadata": {},
   "outputs": [],
   "source": [
    "#Code below is the list of stocks available in SGX\n",
    "sgxStocks = [\"1A0\",\"1A1\",\"1A4\",\"1B0\",\"1B1\",\"1B5W\",\"1B6\",\"1C0\",\"1C3\",\"1C4W\",\"1C5\",\"1C9W\",\"1D0\",\"1D1\",\"1D3\",\"1D4\",\"1D5\",\"1D8\",\"1E0W\",\"1E3\",\"1E6\",\"1E7W\",\"1F0\",\"1F1\",\"1F2\",\"1F3\",\"1F4\",\"1F9W\",\"1G1\",\"1G5W\",\"1G6\",\"1G7W\",\"1H2\",\"1H3\",\"1H4\",\"1H7W\",\"1H8\",\"1I3W\",\"1I5\",\"1J0\",\"1J1W\",\"1J3\",\"1J4\",\"1J5\",\"1J6W\",\"1J7\",\"1V2W\",\"1YUW\",\"3UJS\",\"40B\",\"40D\",\"40E\",\"40F\",\"40N\",\"40R\",\"40S\",\"40T\",\"40U\",\"40V\",\"40W\",\"41A\",\"41B\",\"41F\",\"41H\",\"41O\",\"41S\",\"41T\",\"42C\",\"42D\",\"42E\",\"42F\",\"42G\",\"42L\",\"42N\",\"42QW\",\"42R\",\"42S\",\"42T\",\"42U\",\"42W\",\"42Z\",\"43A\",\"43B\",\"43E\",\"43F\",\"43MW\",\"43P\",\"43Q\",\"47RW\",\"500\",\"502\",\"504\",\"505\",\"508\",\"510\",\"528\",\"532\",\"533\",\"539\",\"540\",\"541\",\"543\",\"544\",\"546\",\"554\",\"557\",\"558\",\"561\",\"564\",\"566\",\"567\",\"569\",\"56OW\",\"570\",\"571\",\"573\",\"575\",\"578\",\"579\",\"580\",\"581\",\"583\",\"584\",\"585\",\"586\",\"588\",\"594\",\"595\",\"596\",\"5A1B\",\"5AB\",\"5AE\",\"5AI\",\"5AL\",\"5AM\",\"5AU\",\"5BI\",\"5BS\",\"5CF\",\"5CJ\",\"5CN\",\"5CP\",\"5CQ\",\"5CR\",\"5CT\",\"5DD\",\"5DL\",\"5DM\",\"5DN\",\"5DO\",\"5DP\",\"5DS\",\"5DW\",\"5DX\",\"5EB\",\"5EC\",\"5EF\",\"5EG\",\"5EK\",\"5EL\",\"5EN\",\"5EV\",\"5EW\",\"5F4\",\"5F7\",\"5FH\",\"5FL\",\"5FW\",\"5FX\",\"5G1\",\"5G2\",\"5G3\",\"5G4\",\"5G9\",\"5GC\",\"5GD\",\"5GF\",\"5GI\",\"5GJ\",\"5GZ\",\"5H0\",\"5HC\",\"5HG\",\"5HH\",\"5HT\",\"5HV\",\"5I0\",\"5I1\",\"5I4\",\"5IC\",\"5IE\",\"5IF\",\"5IG\",\"5JK\",\"5JS\",\"5KI\",\"5KT\",\"5LE\",\"5LY\",\"5MD\",\"5ME\",\"5ML\",\"5MM\",\"5MQ\",\"5MS\",\"5MZ\",\"5NF\",\"5NG\",\"5NK\",\"5NV\",\"5OC\",\"5OI\",\"5OQ\",\"5OR\",\"5OT\",\"5OU\",\"5OX\",\"5PC\",\"5PD\",\"5PF\",\"5PI\",\"5PL\",\"5PO\",\"5QR\",\"5QT\",\"5QY\",\"5RA\",\"5RC\",\"5RE\",\"5RF\",\"5SO\",\"5SR\",\"5SY\",\"5TI\",\"5TJ\",\"5TN\",\"5TP\",\"5TR\",\"5TS\",\"5TT\",\"5TW\",\"5TY\",\"5UA\",\"5UF\",\"5UJ\",\"5UL\",\"5UN\",\"5UO\",\"5UX\",\"5VC\",\"5VI\",\"5VJ\",\"5VP\",\"5VS\",\"5WA\",\"5WE\",\"5WF\",\"5WG\",\"5WH\",\"5WJ\",\"5WV\",\"5YTW\",\"600\",\"6HZW\",\"6SUS\",\"7PMS\",\"7QQS\",\"8I9W\",\"8YY\",\"8ZCW\",\"8ZMR\",\"9H7W\",\"9HSW\",\"9IRW\",\"9K9W\",\"9Y4W\",\"A04\",\"A05\",\"A13\",\"A17U\",\"A26\",\"A27\",\"A30\",\"A31\",\"A33\",\"A34\",\"A35\",\"A50\",\"A52\",\"A55\",\"A68U\",\"A75\",\"A78\",\"A7RU\",\"A7S\",\"AAJ\",\"ACV\",\"AD8\",\"ADJ\",\"ADN\",\"ADP\",\"ADQU\",\"AFC\",\"AFUS\",\"AFVS\",\"AGS\",\"AIY\",\"AJ2\",\"AJBU\",\"AJHW\",\"AOF\",\"AP4\",\"AU8U\",\"AUE\",\"AVM\",\"AVV\",\"AVX\",\"AW9U\",\"AWC\",\"AWE\",\"AWG\",\"AWI\",\"AWK\",\"AWM\",\"AWO\",\"AWS\",\"AWV\",\"AWX\",\"AWZ\",\"AXB\",\"AXXZ\",\"AYB\",\"AYD\",\"AYL\",\"AYN\",\"AYV\",\"AZA\",\"AZG\",\"AZR\",\"AZT\",\"AZW\",\"AZY\",\"AZZ\",\"B07\",\"B0Z\",\"B16\",\"B26\",\"B28\",\"B49\",\"B58\",\"B61\",\"B66\",\"B69\",\"B73\",\"B7K\",\"B83W\",\"B9S\",\"BAC\",\"BAI\",\"BAZ\",\"BBP\",\"BBW\",\"BCD\",\"BCV\",\"BCY\",\"BCZ\",\"BDA\",\"BDF\",\"BDN\",\"BDR\",\"BDU\",\"BDX\",\"BEC\",\"BEH\",\"BEI\",\"BEV\",\"BEW\",\"BEYZ\",\"BEZ\",\"BFI\",\"BFK\",\"BFT\",\"BFU\",\"BGK\",\"BGO\",\"BHD\",\"BHK\",\"BHO\",\"BHQ\",\"BHU\",\"BIP\",\"BIX\",\"BJD\",\"BJGS\",\"BJHS\",\"BJIS\",\"BJJS\",\"BJL\",\"BJV\",\"BJW\",\"BJZ\",\"BKA\",\"BKK\",\"BKV\",\"BKW\",\"BKX\",\"BKY\",\"BKZ\",\"BLA\",\"BLH\",\"BLL\",\"BLR\",\"BLS\",\"BLU\",\"BLW\",\"BLZ\",\"BMGU\",\"BMNW\",\"BMT\",\"BN2\",\"BN4\",\"BNE\",\"BOU\",\"BPF\",\"BQC\",\"BQD\",\"BQF\",\"BQI\",\"BQM\",\"BQN\",\"BQP\",\"BR9\",\"BRD\",\"BRE\",\"BRQZ\",\"BRR\",\"BRS\",\"BS6\",\"BSHW\",\"BSKZ\",\"BSL\",\"BTE\",\"BTF\",\"BTG\",\"BTJ\",\"BTM\",\"BTNZ\",\"BTOU\",\"BTP\",\"BTWZ\",\"BTX\",\"BTY\",\"BUOU\",\"BUPW\",\"BVA\",\"BVP\",\"BVQ\",\"BWCU\",\"BWM\",\"BWQU\",\"BXE\",\"BYI\",\"BYJ\",\"BZKS\",\"C04\",\"C05\",\"C06\",\"C07\",\"C09\",\"C13\",\"c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i06\",\"i07\",\"i11\",\"i15\",\"i26\",\"i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n",
    "]"
   ]
  },
  {
   "cell_type": "code",
   "execution_count": 5,
   "metadata": {},
   "outputs": [],
   "source": [
    "## Function to check validity of stock\n",
    "def checkValid(str):\n",
    "    # Code to determine if player wins\n",
    "    for i in sgxStocks:\n",
    "        if i == str:\n",
    "            return True\n",
    "\n",
    "    return False"
   ]
  },
  {
   "cell_type": "code",
   "execution_count": 6,
   "metadata": {
    "scrolled": true
   },
   "outputs": [
    {
     "name": "stdout",
     "output_type": "stream",
     "text": [
      "Enter the number of stocks (Minimum of 4 or more) you want to analyze:4\n",
      "Enter each Stock ID, Eg.CJLU: \n",
      "Stock ID 1: CJLU\n",
      "Stock ID 2: M1GU\n",
      "Stock ID 3: AP4\n",
      "Stock ID 4: V03\n",
      "Stock ID: ['CJLU', 'M1GU', 'AP4', 'V03']\n"
     ]
    }
   ],
   "source": [
    "stock_array = list()\n",
    "stocks = list()\n",
    "\n",
    "number = \"0\"\n",
    "while int(number) < 3: \n",
    "    number = input(\"Enter the number of stocks (Minimum of 4 or more) you want to analyze:\")\n",
    "print ('Enter each Stock ID, Eg.CJLU: ')\n",
    "for i in range(int(number)):\n",
    "    n = input(\"Stock ID \"+str(i+1)+\": \")\n",
    "    n = n.upper() #CAPS all the letters\n",
    "    #We should carry out conditional checks here to verify that the Stock Listing is Valid before \n",
    "    #proceeding & minimum stocks compared are 3 and above\n",
    "    #################################################################################################################################################\n",
    "    check = checkValid(n)\n",
    "    while check==False:\n",
    "        print(\"Stock ID \" +str(i+1)+ \" is invalid. Please re-enter stock ID\")\n",
    "        n = input(\"Stock ID \"+str(i+1)+\": \")\n",
    "        n = n.upper() #CAPS all the letters\n",
    "        check = checkValid(n)\n",
    "    stock_array.append(n)\n",
    "print ('Stock ID:' ,stock_array)\n"
   ]
  },
  {
   "cell_type": "code",
   "execution_count": 7,
   "metadata": {},
   "outputs": [],
   "source": [
    "########FOR PRACTICE/TESTING##########\n",
    "#stock_array = ['CJLU.SI','CNE.SI','AP4.SI','CHZ.SI','BSL.SI','V03.SI','M1GU.SI','AJBU.SI','ME8U.SI']"
   ]
  },
  {
   "cell_type": "code",
   "execution_count": 8,
   "metadata": {},
   "outputs": [
    {
     "name": "stdout",
     "output_type": "stream",
     "text": [
      "[TAGUI][ERROR] - cannot find //*[@id=\"Col1-1-Financials-Proxy\"]/section/div[3]/div[1]/div/div[2]/div[7]/div[2]/div[3]/div[1]/div[4]/span\n",
      "[TAGUI][ERROR] - cannot find //*[@id=\"Col1-1-Financials-Proxy\"]/section/div[3]/div[1]/div/div[2]/div[7]/div[2]/div[3]/div[1]/div[3]/span\n",
      "[TAGUI][ERROR] - cannot find //*[@id=\"Col1-0-KeyStatistics-Proxy\"]/section/div[2]/div[3]/div/div[3]/div/table/tbody/tr[2]/td[2]\n",
      "[TAGUI][ERROR] - cannot find //*[@id=\"Col1-1-Financials-Proxy\"]/section/div[3]/div[1]/div/div[2]/div[7]/div[2]/div[3]/div[1]/div[4]/span\n",
      "[TAGUI][ERROR] - cannot find //*[@id=\"Col1-1-Financials-Proxy\"]/section/div[3]/div[1]/div/div[2]/div[7]/div[2]/div[3]/div[1]/div[3]/span\n",
      "[TAGUI][ERROR] - cannot find //*[@id=\"Col1-0-KeyStatistics-Proxy\"]/section/div[2]/div[3]/div/div[3]/div/table/tbody/tr[2]/td[2]\n"
     ]
    },
    {
     "ename": "KeyboardInterrupt",
     "evalue": "",
     "output_type": "error",
     "traceback": [
      "\u001b[1;31m---------------------------------------------------------------------------\u001b[0m",
      "\u001b[1;31mKeyboardInterrupt\u001b[0m                         Traceback (most recent call last)",
      "\u001b[1;32m<ipython-input-8-b2eac5e7232c>\u001b[0m in \u001b[0;36m<module>\u001b[1;34m\u001b[0m\n\u001b[0;32m     20\u001b[0m     \u001b[0mdividendYield\u001b[0m \u001b[1;33m=\u001b[0m \u001b[0mdividendYield\u001b[0m\u001b[1;33m.\u001b[0m\u001b[0mreplace\u001b[0m\u001b[1;33m(\u001b[0m\u001b[1;34m\"%\"\u001b[0m\u001b[1;33m,\u001b[0m\u001b[1;34m\"\"\u001b[0m\u001b[1;33m)\u001b[0m\u001b[1;33m\u001b[0m\u001b[1;33m\u001b[0m\u001b[0m\n\u001b[0;32m     21\u001b[0m \u001b[1;33m\u001b[0m\u001b[0m\n\u001b[1;32m---> 22\u001b[1;33m     \u001b[0mpeRatio\u001b[0m \u001b[1;33m=\u001b[0m \u001b[1;33m(\u001b[0m\u001b[1;33m(\u001b[0m\u001b[0mt\u001b[0m\u001b[1;33m.\u001b[0m\u001b[0mread\u001b[0m\u001b[1;33m(\u001b[0m\u001b[1;34m'//*[@id=\"quote-summary\"]/div[2]/table/tbody/tr[3]/td[2]/span'\u001b[0m\u001b[1;33m)\u001b[0m\u001b[1;33m)\u001b[0m\u001b[1;33m)\u001b[0m\u001b[1;33m\u001b[0m\u001b[1;33m\u001b[0m\u001b[0m\n\u001b[0m\u001b[0;32m     23\u001b[0m     \u001b[1;32mif\u001b[0m \u001b[0mpeRatio\u001b[0m \u001b[1;33m==\u001b[0m \u001b[1;34m\"N/A\"\u001b[0m\u001b[1;33m:\u001b[0m\u001b[1;33m\u001b[0m\u001b[1;33m\u001b[0m\u001b[0m\n\u001b[0;32m     24\u001b[0m         \u001b[0mpeRatio\u001b[0m \u001b[1;33m=\u001b[0m \u001b[1;34m\"0\"\u001b[0m\u001b[1;33m\u001b[0m\u001b[1;33m\u001b[0m\u001b[0m\n",
      "\u001b[1;32m~\\Anaconda3\\lib\\site-packages\\tagui.py\u001b[0m in \u001b[0;36mread\u001b[1;34m(element_identifier, test_coordinate1, test_coordinate2, test_coordinate3)\u001b[0m\n\u001b[0;32m   1014\u001b[0m                 \u001b[0melement_identifier\u001b[0m \u001b[1;33m=\u001b[0m \u001b[0melement_identifier\u001b[0m \u001b[1;33m+\u001b[0m \u001b[0mcoord\u001b[0m\u001b[1;33m(\u001b[0m\u001b[0mtest_coordinate2\u001b[0m\u001b[1;33m,\u001b[0m \u001b[0mtest_coordinate3\u001b[0m\u001b[1;33m)\u001b[0m\u001b[1;33m\u001b[0m\u001b[1;33m\u001b[0m\u001b[0m\n\u001b[0;32m   1015\u001b[0m \u001b[1;33m\u001b[0m\u001b[0m\n\u001b[1;32m-> 1016\u001b[1;33m     \u001b[1;32mif\u001b[0m \u001b[0melement_identifier\u001b[0m\u001b[1;33m.\u001b[0m\u001b[0mlower\u001b[0m\u001b[1;33m(\u001b[0m\u001b[1;33m)\u001b[0m \u001b[1;33m!=\u001b[0m \u001b[1;34m'page'\u001b[0m \u001b[1;32mand\u001b[0m \u001b[1;32mnot\u001b[0m \u001b[0mexist\u001b[0m\u001b[1;33m(\u001b[0m\u001b[0melement_identifier\u001b[0m\u001b[1;33m)\u001b[0m\u001b[1;33m:\u001b[0m\u001b[1;33m\u001b[0m\u001b[1;33m\u001b[0m\u001b[0m\n\u001b[0m\u001b[0;32m   1017\u001b[0m         \u001b[0mprint\u001b[0m\u001b[1;33m(\u001b[0m\u001b[1;34m'[TAGUI][ERROR] - cannot find '\u001b[0m \u001b[1;33m+\u001b[0m \u001b[0melement_identifier\u001b[0m\u001b[1;33m)\u001b[0m\u001b[1;33m\u001b[0m\u001b[1;33m\u001b[0m\u001b[0m\n\u001b[0;32m   1018\u001b[0m         \u001b[1;32mreturn\u001b[0m \u001b[1;34m''\u001b[0m\u001b[1;33m\u001b[0m\u001b[1;33m\u001b[0m\u001b[0m\n",
      "\u001b[1;32m~\\Anaconda3\\lib\\site-packages\\tagui.py\u001b[0m in \u001b[0;36mexist\u001b[1;34m(element_identifier)\u001b[0m\n\u001b[0;32m    803\u001b[0m                     \u001b[1;32mreturn\u001b[0m \u001b[1;32mFalse\u001b[0m\u001b[1;33m\u001b[0m\u001b[1;33m\u001b[0m\u001b[0m\n\u001b[0;32m    804\u001b[0m \u001b[1;33m\u001b[0m\u001b[0m\n\u001b[1;32m--> 805\u001b[1;33m     \u001b[0msend\u001b[0m\u001b[1;33m(\u001b[0m\u001b[1;34m'exist_result = exist(\\''\u001b[0m \u001b[1;33m+\u001b[0m \u001b[0m_sdq\u001b[0m\u001b[1;33m(\u001b[0m\u001b[0melement_identifier\u001b[0m\u001b[1;33m)\u001b[0m \u001b[1;33m+\u001b[0m \u001b[1;34m'\\').toString()'\u001b[0m\u001b[1;33m)\u001b[0m\u001b[1;33m\u001b[0m\u001b[1;33m\u001b[0m\u001b[0m\n\u001b[0m\u001b[0;32m    806\u001b[0m     \u001b[0msend\u001b[0m\u001b[1;33m(\u001b[0m\u001b[1;34m'dump exist_result to tagui_python.txt'\u001b[0m\u001b[1;33m)\u001b[0m\u001b[1;33m\u001b[0m\u001b[1;33m\u001b[0m\u001b[0m\n\u001b[0;32m    807\u001b[0m     \u001b[1;32mif\u001b[0m \u001b[0m_tagui_output\u001b[0m\u001b[1;33m(\u001b[0m\u001b[1;33m)\u001b[0m \u001b[1;33m==\u001b[0m \u001b[1;34m'true'\u001b[0m\u001b[1;33m:\u001b[0m\u001b[1;33m\u001b[0m\u001b[1;33m\u001b[0m\u001b[0m\n",
      "\u001b[1;32m~\\Anaconda3\\lib\\site-packages\\tagui.py\u001b[0m in \u001b[0;36msend\u001b[1;34m(tagui_instruction)\u001b[0m\n\u001b[0;32m    690\u001b[0m         \u001b[1;31m# loop until tagui live mode is ready and listening for inputs\u001b[0m\u001b[1;33m\u001b[0m\u001b[1;33m\u001b[0m\u001b[1;33m\u001b[0m\u001b[0m\n\u001b[0;32m    691\u001b[0m         \u001b[1;31m# also check _tagui_started to handle unexpected termination\u001b[0m\u001b[1;33m\u001b[0m\u001b[1;33m\u001b[0m\u001b[1;33m\u001b[0m\u001b[0m\n\u001b[1;32m--> 692\u001b[1;33m         \u001b[1;32mwhile\u001b[0m \u001b[0m_tagui_started\u001b[0m \u001b[1;32mand\u001b[0m \u001b[1;32mnot\u001b[0m \u001b[0m_ready\u001b[0m\u001b[1;33m(\u001b[0m\u001b[1;33m)\u001b[0m\u001b[1;33m:\u001b[0m \u001b[1;32mpass\u001b[0m\u001b[1;33m\u001b[0m\u001b[1;33m\u001b[0m\u001b[0m\n\u001b[0m\u001b[0;32m    693\u001b[0m         \u001b[1;32mif\u001b[0m \u001b[1;32mnot\u001b[0m \u001b[0m_tagui_started\u001b[0m\u001b[1;33m:\u001b[0m\u001b[1;33m\u001b[0m\u001b[1;33m\u001b[0m\u001b[0m\n\u001b[0;32m    694\u001b[0m             \u001b[0mprint\u001b[0m\u001b[1;33m(\u001b[0m\u001b[1;34m'[TAGUI][ERROR] - TagUI process ended unexpectedly'\u001b[0m\u001b[1;33m)\u001b[0m\u001b[1;33m\u001b[0m\u001b[1;33m\u001b[0m\u001b[0m\n",
      "\u001b[1;32m~\\Anaconda3\\lib\\site-packages\\tagui.py\u001b[0m in \u001b[0;36m_ready\u001b[1;34m()\u001b[0m\n\u001b[0;32m    625\u001b[0m \u001b[1;33m\u001b[0m\u001b[0m\n\u001b[0;32m    626\u001b[0m         \u001b[1;31m# read next line of output from tagui process live mode interface\u001b[0m\u001b[1;33m\u001b[0m\u001b[1;33m\u001b[0m\u001b[1;33m\u001b[0m\u001b[0m\n\u001b[1;32m--> 627\u001b[1;33m         \u001b[0mtagui_out\u001b[0m \u001b[1;33m=\u001b[0m \u001b[0m_tagui_read\u001b[0m\u001b[1;33m(\u001b[0m\u001b[1;33m)\u001b[0m\u001b[1;33m\u001b[0m\u001b[1;33m\u001b[0m\u001b[0m\n\u001b[0m\u001b[0;32m    628\u001b[0m \u001b[1;33m\u001b[0m\u001b[0m\n\u001b[0;32m    629\u001b[0m         \u001b[1;31m# print to screen debug output that is saved to tagui_python.log\u001b[0m\u001b[1;33m\u001b[0m\u001b[1;33m\u001b[0m\u001b[1;33m\u001b[0m\u001b[0m\n",
      "\u001b[1;32m~\\Anaconda3\\lib\\site-packages\\tagui.py\u001b[0m in \u001b[0;36m_tagui_read\u001b[1;34m()\u001b[0m\n\u001b[0;32m    116\u001b[0m     \u001b[1;34m\"\"\"function to read from tagui process live mode interface\"\"\"\u001b[0m\u001b[1;33m\u001b[0m\u001b[1;33m\u001b[0m\u001b[0m\n\u001b[0;32m    117\u001b[0m     \u001b[1;31m# readline instead of read, not expecting user input to tagui\u001b[0m\u001b[1;33m\u001b[0m\u001b[1;33m\u001b[0m\u001b[1;33m\u001b[0m\u001b[0m\n\u001b[1;32m--> 118\u001b[1;33m     \u001b[1;32mglobal\u001b[0m \u001b[0m_process\u001b[0m\u001b[1;33m;\u001b[0m \u001b[1;32mreturn\u001b[0m \u001b[0m_py23_decode\u001b[0m\u001b[1;33m(\u001b[0m\u001b[0m_process\u001b[0m\u001b[1;33m.\u001b[0m\u001b[0mstdout\u001b[0m\u001b[1;33m.\u001b[0m\u001b[0mreadline\u001b[0m\u001b[1;33m(\u001b[0m\u001b[1;33m)\u001b[0m\u001b[1;33m)\u001b[0m\u001b[1;33m\u001b[0m\u001b[1;33m\u001b[0m\u001b[0m\n\u001b[0m\u001b[0;32m    119\u001b[0m \u001b[1;33m\u001b[0m\u001b[0m\n\u001b[0;32m    120\u001b[0m \u001b[1;32mdef\u001b[0m \u001b[0m_tagui_write\u001b[0m\u001b[1;33m(\u001b[0m\u001b[0minput_text\u001b[0m \u001b[1;33m=\u001b[0m \u001b[1;34m''\u001b[0m\u001b[1;33m)\u001b[0m\u001b[1;33m:\u001b[0m\u001b[1;33m\u001b[0m\u001b[1;33m\u001b[0m\u001b[0m\n",
      "\u001b[1;31mKeyboardInterrupt\u001b[0m: "
     ]
    }
   ],
   "source": [
    "#Open Yahoo stock site to scrape relevant data of stocks we want to look at.\n",
    "url = 'https://sg.finance.yahoo.com/quote/'\n",
    "t.init(visual_automation = True, chrome_browser = True)\n",
    "\n",
    "\n",
    "#We then iterate through the stocks code that have been selected\n",
    "for i in stock_array:\n",
    "    newUrl = url + i +'.SI'+'/'\n",
    "    t.url(newUrl)\n",
    "    #Carry out scraping of data here\n",
    "    t.wait(2)\n",
    "    \n",
    "    #Storing current price of the stock\n",
    "    stockId = i\n",
    "    stockPrice = float(t.read('//*[@id=\"quote-header-info\"]/div[3]/div/div/span[1]'))\n",
    "    stockName = t.read('//*[@id=\"quote-header-info\"]/div[2]/div[1]/div[1]/h1')    \n",
    "    \n",
    "    #Storing key indicators of stock\n",
    "    dividendYield = ((t.read('//*[@id=\"quote-summary\"]/div[2]/table/tbody/tr[6]/td[2]')))\n",
    "    dividendYield = dividendYield.replace(\"%\",\"\")\n",
    "    \n",
    "    peRatio = ((t.read('//*[@id=\"quote-summary\"]/div[2]/table/tbody/tr[3]/td[2]/span')))\n",
    "    if peRatio == \"N/A\":\n",
    "        peRatio = \"0\"\n",
    "    eps = float((t.read('//*[@id=\"quote-summary\"]/div[2]/table/tbody/tr[4]/td[2]/span')))\n",
    "    \n",
    "    #Go to the financials tab to scrape data\n",
    "    t.click('//*[@id=\"quote-nav\"]/ul/li[7]/a/span') \n",
    "    t.wait(2)\n",
    "    \n",
    "    netIncomePrev = ((t.read('//*[@id=\"Col1-1-Financials-Proxy\"]/section/div[3]/div[1]/div/div[2]/div[11]/div[1]/div[4]/span')))\n",
    "    netIncomePrev = netIncomePrev.replace(',', '')\n",
    "    if not netIncomePrev:\n",
    "        netIncomePrev = '0'\n",
    "    \n",
    "    netIncomeCurr = ((t.read('//*[@id=\"Col1-1-Financials-Proxy\"]/section/div[3]/div[1]/div/div[2]/div[11]/div[1]/div[3]/span')))    \n",
    "    netIncomeCurr = netIncomeCurr.replace(',', '')\n",
    "    if not netIncomeCurr:\n",
    "        netIncomeCurr = '0'\n",
    "    \n",
    "    netOperatingIncomePrev = ((t.read('//*[@id=\"Col1-1-Financials-Proxy\"]/section/div[3]/div[1]/div/div[2]/div[5]/div[1]/div[4]/span')))\n",
    "    netOperatingIncomePrev = netOperatingIncomePrev.replace(',', '')\n",
    "    if not netOperatingIncomePrev:\n",
    "        netOperatingIncomePrev = '0'\n",
    "\n",
    "    netOperatingIncomeCurr = ((t.read('//*[@id=\"Col1-1-Financials-Proxy\"]/section/div[3]/div[1]/div/div[2]/div[5]/div[1]/div[3]/span')))\n",
    "    netOperatingIncomeCurr = netOperatingIncomeCurr.replace(',', '')\n",
    "    if not netOperatingIncomeCurr:\n",
    "        netOperatingIncomeCurr = '0'\n",
    "\n",
    "    #Go to the Cash Flow tab to scrape data\n",
    "    t.click('//*[@id=\"Col1-1-Financials-Proxy\"]/section/div[1]/div[1]/div/a[2]/div/span') \n",
    "    t.wait(2)\n",
    "    \n",
    "    freeCashFlowPrev = ((t.read('//*[@id=\"Col1-1-Financials-Proxy\"]/section/div[3]/div[1]/div/div[2]/div[6]/div[2]/div[3]/div[1]/div[3]/span')))\n",
    "    freeCashFlowPrev = freeCashFlowPrev.replace(',', '')\n",
    "    if not freeCashFlowPrev:\n",
    "        freeCashFlowPrev = '0'      \n",
    "    \n",
    "    freeCashFlowCurr = ((t.read('//*[@id=\"Col1-1-Financials-Proxy\"]/section/div[3]/div[1]/div/div[2]/div[6]/div[2]/div[3]/div[1]/div[4]/span')))\n",
    "    freeCashFlowCurr = freeCashFlowCurr.replace(',', '')\n",
    "    if not freeCashFlowCurr:\n",
    "        freeCashFlowCurr = '0'  \n",
    "        \n",
    "    #Go to Statistics tab to scrape data\n",
    "    t.click('//*[@id=\"quote-nav\"]/ul/li[4]/a') \n",
    "    t.wait(2)\n",
    "    \n",
    "    roe = ((t.read('//*[@id=\"Col1-0-KeyStatistics-Proxy\"]/section/div[2]/div[3]/div/div[3]/div/div/table/tbody/tr[2]/td[2]')))\n",
    "    roe = roe.replace(\"%\",\"\")\n",
    "    \n",
    "    stock = make_stock(stockId, stockName, stockPrice, freeCashFlowPrev, freeCashFlowCurr, eps, dividendYield, peRatio, roe, netIncomePrev, netIncomeCurr, netOperatingIncomePrev, netOperatingIncomeCurr)\n",
    "    stocks.append(stock)\n",
    "    \n",
    "t.close()\n",
    "print(\"All relevant data have been scraped.\")"
   ]
  },
  {
   "cell_type": "markdown",
   "metadata": {},
   "source": [
    "###### Let's take a look at a sample stock that we managed to scrape online and the various indicators that came along with it."
   ]
  },
  {
   "cell_type": "code",
   "execution_count": null,
   "metadata": {},
   "outputs": [],
   "source": [
    "for i in stocks[0:1]:\n",
    "    print('Stock ID: ',i.stockId)\n",
    "    print('Stock Name: ',i.stockName)\n",
    "    print('Stock Price: ',i.stockPrice)\n",
    "    print('Previous Year Net Income: ',i.netIncomePrev)\n",
    "    print('Latest Net Income: ',i.netIncomeCurr)\n",
    "    print('Previous Operating Income: ',i.netOperatingIncomePrev)\n",
    "    print('Latest Operating Net Income: ',i.netOperatingIncomeCurr)\n",
    "    print('Previous Free Cash Flow: ',i.freeCashFlowPrev)\n",
    "    print('Latest Cash Flow: ',i.freeCashFlowCurr)\n",
    "    print('Earnings Per Share: ',i.eps)\n",
    "    print('Dividend Yield: ',i.dividendYield)\n",
    "    print('PE Ratio: ',i.peRatio)\n",
    "    print('ROE: ',i.roe)\n",
    "    print(' ')\n",
    "    \n",
    "    #Use XPath!!!!"
   ]
  },
  {
   "cell_type": "markdown",
   "metadata": {},
   "source": [
    "### Analysis & Visualisation of Scraped Data of Selected Stocks"
   ]
  },
  {
   "cell_type": "code",
   "execution_count": null,
   "metadata": {},
   "outputs": [],
   "source": [
    "#Change in Net Income\n",
    "#Change in Operating Income\n",
    "stockNames = list()\n",
    "changeOpIncome = list()\n",
    "changeNetIncome = list()\n",
    "\n",
    "for i in stocks:\n",
    "    stockNames.append(i.stockName)\n",
    "    changeInOperatingIncome = float(i.netOperatingIncomeCurr) - float(i.netOperatingIncomePrev)\n",
    "    changeOpIncome.append(changeInOperatingIncome)    \n",
    "    changeInNetIncome = float(i.netIncomeCurr) - float(i.netIncomePrev)\n",
    "    changeNetIncome.append(changeInNetIncome)"
   ]
  },
  {
   "cell_type": "code",
   "execution_count": null,
   "metadata": {},
   "outputs": [],
   "source": [
    "import matplotlib.pyplot as pltNetIncome\n",
    "%matplotlib inline\n",
    "pltNetIncome.title('Change in Net Income ($ in Thousands)')\n",
    "pltNetIncome.barh(stockNames, changeNetIncome, color=['black', 'grey', 'green', 'blue', 'cyan'])\n",
    "pltNetIncome.show()"
   ]
  },
  {
   "cell_type": "code",
   "execution_count": null,
   "metadata": {},
   "outputs": [],
   "source": [
    "import matplotlib.pyplot as plt\n",
    "%matplotlib inline\n",
    "plt.title('Change in Operating Income ($ in Thousands)')\n",
    "plt.barh(stockNames, changeOpIncome, color=['black', 'grey', 'green', 'blue', 'cyan'])\n",
    "plt.show()"
   ]
  },
  {
   "cell_type": "code",
   "execution_count": null,
   "metadata": {},
   "outputs": [],
   "source": [
    "cashFlowPrev = list()\n",
    "cashFlowCurr = list()\n",
    "changeCashFlow = list()\n",
    "\n",
    "for i in stocks:\n",
    "    cashFlowC = float(i.freeCashFlowCurr)\n",
    "    cashFlowP = float(i.freeCashFlowPrev)\n",
    "    if(cashFlowC==0 or cashFlowP==0):\n",
    "        change = 0\n",
    "    else:\n",
    "        change = (cashFlowC - cashFlowP)/abs(cashFlowP)\n",
    "    \n",
    "    changeCashFlow.append(change)\n",
    "    cashFlowPrev.append(cashFlowP)\n",
    "    cashFlowCurr.append(cashFlowC)"
   ]
  },
  {
   "cell_type": "code",
   "execution_count": null,
   "metadata": {},
   "outputs": [],
   "source": [
    "#Current Cash Flow\n",
    "import matplotlib\n",
    "import matplotlib.pyplot as plt\n",
    "import numpy as np\n",
    "\n",
    "barWidth = 0.35  # the width of the bars\n",
    "\n",
    "# Set position of bar on X axis\n",
    "r1 = np.arange(len(stock_array))\n",
    "r2 = [x + barWidth for x in r1]\n",
    "\n",
    "fig, ax = plt.subplots()\n",
    "rects2 = ax.bar(r2, cashFlowPrev, width=barWidth, color='red', label='Previous Year Cash Flow')\n",
    "rects1 = ax.bar(r1, cashFlowCurr, width=barWidth, label='Current Year Cash Flow' )\n",
    "\n",
    "# Add some text for labels, title and custom x-axis tick labels, etc.\n",
    "ax.set_ylabel('Scores')\n",
    "ax.set_title('Free Cash Flow (Thousands of $)')\n",
    "ax.legend()\n",
    "plt.xticks([r + barWidth for r in range(len(stock_array))], stock_array)\n",
    "\n",
    "fig.tight_layout()\n",
    "fig.set_figheight(6)\n",
    "fig.set_figwidth(10)\n",
    "#Show graphic\n",
    "plt.show()"
   ]
  },
  {
   "cell_type": "code",
   "execution_count": null,
   "metadata": {},
   "outputs": [],
   "source": [
    "#Change in Free Cash Flow\n",
    "import matplotlib\n",
    "import matplotlib.pyplot as plt\n",
    "import numpy as np\n",
    "\n",
    "barWidth = 0.4  # the width of the bars\n",
    "\n",
    "fig, ax = plt.subplots()\n",
    "rects1 = ax.bar(stock_array, changeCashFlow, width=barWidth, label='Current Year Cash Flow' , color='green')\n",
    "\n",
    "# Add some text for labels, title and custom x-axis tick labels, etc.\n",
    "ax.set_ylabel('Scores')\n",
    "ax.set_title('Change in Free Cash Flow (%)')\n",
    "fig.tight_layout()\n",
    "\n",
    "fig.set_figheight(6)\n",
    "fig.set_figwidth(10)\n",
    "\n",
    "plt.show()"
   ]
  },
  {
   "cell_type": "markdown",
   "metadata": {},
   "source": [
    "### Summary of Top 3 Stocks Based on Each Indicator"
   ]
  },
  {
   "cell_type": "code",
   "execution_count": null,
   "metadata": {},
   "outputs": [],
   "source": [
    "import re\n",
    "#Current Earnings Per Share\n",
    "epsList = list()\n",
    "#PE Ratio\n",
    "peList = list()\n",
    "#ROE\n",
    "roeList = list()\n",
    "#Dividend Yield\n",
    "divList = list()\n",
    "\n",
    "for i in stocks:\n",
    "    epsList.append(i.eps)\n",
    "    peList.append(float(i.peRatio))\n",
    "    roeList.append(i.roe)\n",
    "    \n",
    "    s = i.dividendYield\n",
    "    #extract the percentage yield only\n",
    "    divList.append(s[s.find(\"(\")+1:s.find(\")\")])\n",
    "    "
   ]
  },
  {
   "cell_type": "markdown",
   "metadata": {},
   "source": [
    "#### Top 3 Earnings Per Share"
   ]
  },
  {
   "cell_type": "code",
   "execution_count": null,
   "metadata": {},
   "outputs": [],
   "source": [
    "#Lets keep score based on the various indicators that we have here to see which stocks we should consider the most.\n",
    "score = [None] * len(stockNames)\n",
    "for i in range(len(stockNames)):\n",
    "    score[i] = 0"
   ]
  },
  {
   "cell_type": "code",
   "execution_count": null,
   "metadata": {},
   "outputs": [],
   "source": [
    "stockNamesCopy = stockNames.copy()\n",
    "epsListCopy = epsList.copy()\n",
    "count = 3 #basic scoring for the top 3\n",
    "for i in range(3):\n",
    "    top1 = max(epsListCopy)\n",
    "    top1Index = epsListCopy.index(top1)\n",
    "    \n",
    "    #Get index for the score list & update score\n",
    "    mainIndex = stockNames.index(stockNamesCopy[top1Index])\n",
    "    score[mainIndex] = score[mainIndex]+count\n",
    "    \n",
    "    #print the top 3 stock & remove the stock from the iterating list to get next max\n",
    "    print(stockNamesCopy[top1Index] + ':', top1)\n",
    "    epsListCopy.remove(top1)\n",
    "    stockNamesCopy.remove(stockNamesCopy[top1Index])\n",
    "\n",
    "    count=count-1\n"
   ]
  },
  {
   "cell_type": "markdown",
   "metadata": {},
   "source": [
    "#### Top 3 Price Earnings (PE) Ratio"
   ]
  },
  {
   "cell_type": "code",
   "execution_count": null,
   "metadata": {},
   "outputs": [],
   "source": [
    "stockNamesCopy = stockNames.copy()\n",
    "peListCopy = peList.copy()\n",
    "count = 3 #basic scoring for top 3\n",
    "for i in range(3):\n",
    "    top1 = max(peListCopy)\n",
    "    top1Index = peListCopy.index(top1)\n",
    "    \n",
    "    #Get index for the score list & update score\n",
    "    mainIndex = stockNames.index(stockNamesCopy[top1Index])\n",
    "    score[mainIndex] = score[mainIndex]+count\n",
    "\n",
    "    #print the top 3 stock & remove the stock from the iterating list to get next max\n",
    "    print(stockNamesCopy[top1Index] + ':', top1)\n",
    "    peListCopy.remove(top1)\n",
    "    stockNamesCopy.remove(stockNamesCopy[top1Index])\n",
    "    \n",
    "    count = count - 1\n"
   ]
  },
  {
   "cell_type": "markdown",
   "metadata": {},
   "source": [
    "#### Top 3 Return on Equity (ROE)"
   ]
  },
  {
   "cell_type": "code",
   "execution_count": null,
   "metadata": {},
   "outputs": [],
   "source": [
    "stockNamesCopy = stockNames.copy()\n",
    "roeListCopy = roeList.copy()\n",
    "roeListCopyFloat = list()\n",
    "count = 5 #basic scoring for top 3\n",
    "#Need to get rid of all those that are N/A\n",
    "for i in roeListCopy:\n",
    "    if 'N/A' == i:\n",
    "        removeIndex = roeListCopy.index(i)\n",
    "        roeListCopy.remove(i)\n",
    "        stockNamesCopy.remove(stockNamesCopy[removeIndex])\n",
    "    else:\n",
    "        roeListCopyFloat.append(float(i))\n",
    "\n",
    "for i in range(3):\n",
    "    top1 = max(roeListCopyFloat)\n",
    "    top1Index = roeListCopyFloat.index(top1)\n",
    "    \n",
    "    #Get index for the score list & update score\n",
    "    mainIndex = stockNames.index(stockNamesCopy[top1Index])\n",
    "    score[mainIndex] = score[mainIndex]+count\n",
    "    \n",
    "    #print the top 3 stock & remove the stock from the iterating list to get next max\n",
    "    print(stockNamesCopy[top1Index] + ':', top1, '%')\n",
    "    roeListCopyFloat.remove(top1)\n",
    "    stockNamesCopy.remove(stockNamesCopy[top1Index])\n",
    " \n",
    "    count = count - 1"
   ]
  },
  {
   "cell_type": "markdown",
   "metadata": {},
   "source": [
    "#### Top 3 Dividend Yield"
   ]
  },
  {
   "cell_type": "code",
   "execution_count": null,
   "metadata": {},
   "outputs": [],
   "source": [
    "#Dividend Yield\n",
    "stockNamesCopy = stockNames.copy()\n",
    "divListCopy = divList.copy()\n",
    "count = 4 #basic scoring for top 3\n",
    "#Need to get rid of all those that are N/A\n",
    "for i in divListCopy:\n",
    "    if 'N/A' == i:\n",
    "        removeIndex = divListCopy.index(i)\n",
    "        divListCopy.remove(i)\n",
    "        stockNamesCopy.remove(stockNamesCopy[removeIndex])\n",
    "        \n",
    "for i in range(3):\n",
    "    top1 = max(divListCopy)\n",
    "    top1Index = divListCopy.index(top1)\n",
    "    \n",
    "    #Get index for the score list & update score\n",
    "    mainIndex = stockNames.index(stockNamesCopy[top1Index])\n",
    "    score[mainIndex] = score[mainIndex]+count\n",
    "    \n",
    "    #print the top 3 stock & remove the stock from the iterating list to get next max\n",
    "    print(stockNamesCopy[top1Index] + ':', top1, '%')\n",
    "    divListCopy.remove(top1)\n",
    "    stockNamesCopy.remove(stockNamesCopy[top1Index])\n",
    "    \n",
    "    count = count - 1"
   ]
  },
  {
   "cell_type": "markdown",
   "metadata": {},
   "source": [
    "#### Top 3 Change in Operating Income"
   ]
  },
  {
   "cell_type": "code",
   "execution_count": null,
   "metadata": {},
   "outputs": [],
   "source": [
    "stockNamesCopy = stockNames.copy()\n",
    "changeOpIncomeCopy = changeOpIncome.copy()\n",
    "count = 3 #basic scoring for the top 3\n",
    "for i in range(3):\n",
    "    top1 = max(changeOpIncomeCopy)\n",
    "    top1Index = changeOpIncomeCopy.index(top1)\n",
    "    \n",
    "    #Get index for the score list & update score\n",
    "    mainIndex = stockNames.index(stockNamesCopy[top1Index])\n",
    "    score[mainIndex] = score[mainIndex]+count\n",
    "    \n",
    "    #print the top 3 stock & remove the stock from the iterating list to get next max\n",
    "    print(stockNamesCopy[top1Index] + ':', '$',top1)\n",
    "    changeOpIncomeCopy.remove(top1)\n",
    "    stockNamesCopy.remove(stockNamesCopy[top1Index])\n",
    "\n",
    "    count=count-1\n"
   ]
  },
  {
   "cell_type": "markdown",
   "metadata": {},
   "source": [
    "#### Top 3 Change in Net Income"
   ]
  },
  {
   "cell_type": "code",
   "execution_count": null,
   "metadata": {},
   "outputs": [],
   "source": [
    "stockNamesCopy = stockNames.copy()\n",
    "changeNetIncomeCopy = changeNetIncome.copy()\n",
    "count = 3 #basic scoring for the top 3\n",
    "for i in range(3):\n",
    "    top1 = max(changeNetIncomeCopy)\n",
    "    top1Index = changeNetIncomeCopy.index(top1)\n",
    "    \n",
    "    #Get index for the score list & update score\n",
    "    mainIndex = stockNames.index(stockNamesCopy[top1Index])\n",
    "    score[mainIndex] = score[mainIndex]+count\n",
    "    \n",
    "    #print the top 3 stock & remove the stock from the iterating list to get next max\n",
    "    print(stockNamesCopy[top1Index] + ':', '$',top1)\n",
    "    changeNetIncomeCopy.remove(top1)\n",
    "    stockNamesCopy.remove(stockNamesCopy[top1Index])\n",
    "\n",
    "    count=count-1"
   ]
  },
  {
   "cell_type": "markdown",
   "metadata": {},
   "source": [
    "#### Top 3 Change in Cash Flow"
   ]
  },
  {
   "cell_type": "code",
   "execution_count": null,
   "metadata": {},
   "outputs": [],
   "source": [
    "stockNamesCopy = stockNames.copy()\n",
    "changeCashFlowCopy = changeCashFlow.copy()\n",
    "count = 3 #basic scoring for the top 3\n",
    "for i in range(3):\n",
    "    top1 = max(changeCashFlowCopy)\n",
    "    top1Index = changeCashFlowCopy.index(top1)\n",
    "    \n",
    "    #Get index for the score list & update score\n",
    "    mainIndex = stockNames.index(stockNamesCopy[top1Index])\n",
    "    score[mainIndex] = score[mainIndex]+count\n",
    "    \n",
    "    #print the top 3 stock & remove the stock from the iterating list to get next max\n",
    "    print(stockNamesCopy[top1Index] + ':',round(top1,1), '%')\n",
    "    changeCashFlowCopy.remove(top1)\n",
    "    stockNamesCopy.remove(stockNamesCopy[top1Index])\n",
    "\n",
    "    count=count-1"
   ]
  },
  {
   "cell_type": "markdown",
   "metadata": {},
   "source": [
    "### Recommended Stock to Consider\n",
    "Using the indicators we will give them a score accordingly based on how they fare for each area. Stocks that fared higher in each indicator will receive higher score points. As I'm more interested in stocks with high return on equity and dividend yield, more weightage will be given towards these 2 indicators as part of the overall scoring. Based on this scoring system, the stock(s) with the highest score in total will be printed out and recommended to you below."
   ]
  },
  {
   "cell_type": "code",
   "execution_count": null,
   "metadata": {},
   "outputs": [],
   "source": [
    "## We will do a simple score calculator here\n",
    "# print(score)\n",
    "class color:\n",
    "   PURPLE = '\\033[95m'\n",
    "   CYAN = '\\033[96m'\n",
    "   DARKCYAN = '\\033[36m'\n",
    "   BLUE = '\\033[94m'\n",
    "   GREEN = '\\033[92m'\n",
    "   YELLOW = '\\033[93m'\n",
    "   RED = '\\033[91m'\n",
    "   BOLD = '\\033[1m'\n",
    "   UNDERLINE = '\\033[4m'\n",
    "   END = '\\033[0m'"
   ]
  },
  {
   "cell_type": "code",
   "execution_count": null,
   "metadata": {},
   "outputs": [],
   "source": [
    "maxScore = max(score)\n",
    "\n",
    "print(color.UNDERLINE+color.BOLD+'Recommended Stock(s)'+color.END)\n",
    "for i in range(len(score)):\n",
    "    if(score[i]==maxScore):\n",
    "        print(stocks[i].stockName,'at $',stocks[i].stockPrice)\n",
    "print('Highest Stock Rating:',maxScore)"
   ]
  },
  {
   "cell_type": "markdown",
   "metadata": {},
   "source": [
    "<b>Final Notes:</b> <br/> With that I hope this tool may prove useful for those seeking to start their investment journey in the SGX stock market. I've created a javascript to hide all the code in this notebook. If you want to take a look at the code, do feel free to toggle the button below! Cheers! <br/><b>Best Regards <br/>Ismahfaris</b>"
   ]
  },
  {
   "cell_type": "code",
   "execution_count": null,
   "metadata": {},
   "outputs": [],
   "source": [
    "from IPython.display import HTML\n",
    "\n",
    "HTML('''<script>\n",
    "code_show=true; \n",
    "function code_toggle() {\n",
    " if (code_show){\n",
    " $('div.input').hide();\n",
    " } else {\n",
    " $('div.input').show();\n",
    " }\n",
    " code_show = !code_show\n",
    "} \n",
    "$( document ).ready(code_toggle);\n",
    "</script>\n",
    "<form action=\"javascript:code_toggle()\"><input type=\"submit\" value=\"Click here to Hide/Show the raw code.\"></form>''')"
   ]
  }
 ],
 "metadata": {
  "kernelspec": {
   "display_name": "Python 3",
   "language": "python",
   "name": "python3"
  },
  "language_info": {
   "codemirror_mode": {
    "name": "ipython",
    "version": 3
   },
   "file_extension": ".py",
   "mimetype": "text/x-python",
   "name": "python",
   "nbconvert_exporter": "python",
   "pygments_lexer": "ipython3",
   "version": "3.7.4"
  }
 },
 "nbformat": 4,
 "nbformat_minor": 2
}

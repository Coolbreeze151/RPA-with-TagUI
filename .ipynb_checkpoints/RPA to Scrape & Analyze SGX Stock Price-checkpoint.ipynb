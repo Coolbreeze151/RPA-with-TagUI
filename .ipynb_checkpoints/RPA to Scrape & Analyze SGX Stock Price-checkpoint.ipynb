{
 "cells": [
  {
   "cell_type": "markdown",
   "metadata": {},
   "source": [
    "# Stock Analysis & Comparison Tool & Recommender"
   ]
  },
  {
   "cell_type": "code",
   "execution_count": 1,
   "metadata": {},
   "outputs": [],
   "source": [
    "#pip install tagui"
   ]
  },
  {
   "cell_type": "markdown",
   "metadata": {},
   "source": [
    "In this project, we will be using RPA to scrape useful data related to the stock market since its an easily retrievable dataset that we can pull out and make analysis with. At the same time, I hope it will prove to be a useful tool for investors to do a quick comparison of the stock indicators before they proceed to look beyond just financials and understand the business of the company further. This tool is not intended to be the end all and be all but could be useful in helping one to make the first decisive step of narrowing down the stocks in the market that one is considering to invest in."
   ]
  },
  {
   "cell_type": "code",
   "execution_count": 2,
   "metadata": {},
   "outputs": [],
   "source": [
    "import tagui as t"
   ]
  },
  {
   "cell_type": "code",
   "execution_count": 3,
   "metadata": {},
   "outputs": [],
   "source": [
    "class Stock(object):\n",
    "    stockId = \"\"\n",
    "    stockName = \"\"\n",
    "    stockPrice = 0\n",
    "    freeCashFlowPrev = \"\"\n",
    "    freeCashFlowCurr = \"\"\n",
    "    eps = 0\n",
    "    dividendYield = \"\"\n",
    "    peRatio = 0\n",
    "    roe = \"\"\n",
    "    netIncomePrev = \"\"\n",
    "    netIncomeCurr = \"\"\n",
    "    netOperatingIncomePrev = \"\"\n",
    "    netOperatingIncomeCurr = \"\"\n",
    "    \n",
    "def make_stock(stockId, stockName, stockPrice, freeCashFlowPrev, freeCashFlowCurr, eps, dividendYield, peRatio, roe, netIncomePrev, netIncomeCurr, netOperatingIncomePrev, netOperatingIncomeCurr):\n",
    "    stock = Stock()\n",
    "    stock.stockId = stockId\n",
    "    stock.stockName = stockName\n",
    "    stock.stockPrice = stockPrice\n",
    "    stock.freeCashFlowPrev = freeCashFlowPrev\n",
    "    stock.freeCashFlowCurr = freeCashFlowCurr\n",
    "    stock.eps = eps\n",
    "    stock.dividendYield = dividendYield\n",
    "    stock.peRatio = peRatio\n",
    "    stock.roe = roe\n",
    "    stock.netIncomePrev = netIncomePrev\n",
    "    stock.netIncomeCurr = netIncomeCurr\n",
    "    stock.netOperatingIncomePrev = netOperatingIncomePrev\n",
    "    stock.netOperatingIncomeCurr = netOperatingIncomeCurr\n",
    "\n",
    "    return stock"
   ]
  },
  {
   "cell_type": "code",
   "execution_count": 4,
   "metadata": {
    "scrolled": true
   },
   "outputs": [
    {
     "name": "stdout",
     "output_type": "stream",
     "text": [
      "Enter the number of stocks you want to analyze:7\n",
      "Enter each Stock ID, Eg.CJLU.SI: \n",
      "Stock ID 1: CJLU.SI\n",
      "Stock ID 2: CNE.SI\n",
      "Stock ID 3: CHZ.SI\n",
      "Stock ID 4: C31.SI\n",
      "Stock ID 5: AJBU.SI\n",
      "Stock ID 6: V01.SI\n",
      "Stock ID 7: V03.SI\n",
      "Stock ID: ['CJLU.SI', 'CNE.SI', 'CHZ.SI', 'C31.SI', 'AJBU.SI', 'V01.SI', 'V03.SI']\n"
     ]
    }
   ],
   "source": [
    "stock_array = list()\n",
    "stocks = list()\n",
    "\n",
    "number = input(\"Enter the number of stocks you want to analyze:\")\n",
    "print ('Enter each Stock ID, Eg.CJLU.SI: ')\n",
    "for i in range(int(number)):\n",
    "    n = input(\"Stock ID \"+str(i+1)+\": \")\n",
    "    #We should carry out conditional checks here to verify that the Stock Listing is Valid before \n",
    "    #proceeding & minimum stocks compared are 3 and above\n",
    "    #################################################################################################################################################\n",
    "    stock_array.append(n)\n",
    "print ('Stock ID:' ,stock_array)\n"
   ]
  },
  {
   "cell_type": "code",
   "execution_count": 5,
   "metadata": {},
   "outputs": [],
   "source": [
    "########FOR PRACTICE/TESTING##########\n",
    "#stock_array = ['CJLU.SI','CNE.SI','AP4.SI','CHZ.SI','BSL.SI','V03.SI','M1GU.SI','AJBU.SI','ME8U.SI']"
   ]
  },
  {
   "cell_type": "code",
   "execution_count": 6,
   "metadata": {},
   "outputs": [
    {
     "data": {
      "text/plain": [
       "True"
      ]
     },
     "execution_count": 6,
     "metadata": {},
     "output_type": "execute_result"
    }
   ],
   "source": [
    "#Open Yahoo stock site to scrape relevant data of stocks we want to look at.\n",
    "url = 'https://sg.finance.yahoo.com/quote/'\n",
    "t.init(visual_automation = True, chrome_browser = True)\n",
    "\n",
    "\n",
    "#We then iterate through the stocks code that have been selected\n",
    "for i in stock_array:\n",
    "    newUrl = url + i +'/'\n",
    "    t.url(newUrl)\n",
    "    #Carry out scraping of data here\n",
    "    t.wait(2)\n",
    "    \n",
    "    #Storing current price of the stock\n",
    "    stockId = i\n",
    "    stockPrice = float(t.read('//*[@id=\"quote-header-info\"]/div[3]/div/div/span[1]'))\n",
    "    stockName = t.read('//*[@id=\"quote-header-info\"]/div[2]/div[1]/div[1]/h1')    \n",
    "    \n",
    "    #Storing key indicators of stock\n",
    "    dividendYield = ((t.read('//*[@id=\"quote-summary\"]/div[2]/table/tbody/tr[6]/td[2]')))\n",
    "    dividendYield = dividendYield.replace(\"%\",\"\")\n",
    "    \n",
    "    peRatio = float((t.read('//*[@id=\"quote-summary\"]/div[2]/table/tbody/tr[3]/td[2]/span')))\n",
    "    eps = float((t.read('//*[@id=\"quote-summary\"]/div[2]/table/tbody/tr[4]/td[2]/span')))\n",
    "    \n",
    "    #Go to the financials tab to scrape data\n",
    "    t.click('//*[@id=\"quote-nav\"]/ul/li[7]/a/span') \n",
    "    t.wait(2)\n",
    "    \n",
    "    netIncomePrev = ((t.read('//*[@id=\"Col1-1-Financials-Proxy\"]/section/div[3]/div[1]/div/div[2]/div[11]/div[1]/div[4]/span')))\n",
    "    netIncomePrev = netIncomePrev.replace(',', '')\n",
    "    if not netIncomePrev:\n",
    "        netIncomePrev = '0'\n",
    "    \n",
    "    netIncomeCurr = ((t.read('//*[@id=\"Col1-1-Financials-Proxy\"]/section/div[3]/div[1]/div/div[2]/div[11]/div[1]/div[3]/span')))    \n",
    "    netIncomeCurr = netIncomeCurr.replace(',', '')\n",
    "    if not netIncomeCurr:\n",
    "        netIncomeCurr = '0'\n",
    "    \n",
    "    netOperatingIncomePrev = ((t.read('//*[@id=\"Col1-1-Financials-Proxy\"]/section/div[3]/div[1]/div/div[2]/div[5]/div[1]/div[4]/span')))\n",
    "    netOperatingIncomePrev = netOperatingIncomePrev.replace(',', '')\n",
    "    if not netOperatingIncomePrev:\n",
    "        netOperatingIncomePrev = '0'\n",
    "\n",
    "    netOperatingIncomeCurr = ((t.read('//*[@id=\"Col1-1-Financials-Proxy\"]/section/div[3]/div[1]/div/div[2]/div[5]/div[1]/div[3]/span')))\n",
    "    netOperatingIncomeCurr = netOperatingIncomeCurr.replace(',', '')\n",
    "    if not netOperatingIncomeCurr:\n",
    "        netOperatingIncomeCurr = '0'\n",
    "\n",
    "    #Go to the Cash Flow tab to scrape data\n",
    "    t.click('//*[@id=\"Col1-1-Financials-Proxy\"]/section/div[1]/div[1]/div/a[2]/div/span') \n",
    "    t.wait(2)\n",
    "    \n",
    "    freeCashFlowPrev = ((t.read('//*[@id=\"Col1-1-Financials-Proxy\"]/section/div[3]/div[1]/div/div[2]/div[7]/div[2]/div[3]/div[1]/div[4]/span')))\n",
    "    freeCashFlowPrev = freeCashFlowPrev.replace(',', '')\n",
    "    if not freeCashFlowPrev:\n",
    "        freeCashFlowPrev = '0'      \n",
    "    \n",
    "    freeCashFlowCurr = ((t.read('//*[@id=\"Col1-1-Financials-Proxy\"]/section/div[3]/div[1]/div/div[2]/div[7]/div[2]/div[3]/div[1]/div[3]/span')))\n",
    "    freeCashFlowCurr = freeCashFlowCurr.replace(',', '')\n",
    "    if not freeCashFlowCurr:\n",
    "        freeCashFlowCurr = '0'  \n",
    "        \n",
    "    #Go to Statistics tab to scrape data\n",
    "    t.click('//*[@id=\"quote-nav\"]/ul/li[4]/a') \n",
    "    t.wait(2)\n",
    "    \n",
    "    roe = ((t.read('//*[@id=\"Col1-0-KeyStatistics-Proxy\"]/section/div[2]/div[3]/div/div[3]/div/table/tbody/tr[2]/td[2]')))\n",
    "    roe = roe.replace(\"%\",\"\")\n",
    "    \n",
    "    stock = make_stock(stockId, stockName, stockPrice, freeCashFlowPrev, freeCashFlowCurr, eps, dividendYield, peRatio, roe, netIncomePrev, netIncomeCurr, netOperatingIncomePrev, netOperatingIncomeCurr)\n",
    "    stocks.append(stock)\n",
    "    \n",
    "t.close()"
   ]
  },
  {
   "cell_type": "markdown",
   "metadata": {},
   "source": [
    "###### Let's take a look at a sample stock that we managed to scrape online and the various indicators that came along with it."
   ]
  },
  {
   "cell_type": "code",
   "execution_count": 7,
   "metadata": {},
   "outputs": [
    {
     "name": "stdout",
     "output_type": "stream",
     "text": [
      "Stock ID:  CJLU.SI\n",
      "Stock Name:  NetLink NBN Trust (CJLU.SI)\n",
      "Stock Price:  0.935\n",
      "Previous Year Net Income:  49950\n",
      "Latest Net Income:  77359\n",
      "Previous Operating Income:  54468\n",
      "Latest Operating Net Income:  85418\n",
      "Previous Free Cash Flow:  -53730\n",
      "Latest Cash Flow:  158542\n",
      "Earnings Per Share:  0.021\n",
      "Dividend Yield:  0.05 (5.33)\n",
      "PE Ratio:  44.52\n",
      "ROE:  N/A\n",
      " \n"
     ]
    }
   ],
   "source": [
    "for i in stocks[0:1]:\n",
    "    print('Stock ID: ',i.stockId)\n",
    "    print('Stock Name: ',i.stockName)\n",
    "    print('Stock Price: ',i.stockPrice)\n",
    "    print('Previous Year Net Income: ',i.netIncomePrev)\n",
    "    print('Latest Net Income: ',i.netIncomeCurr)\n",
    "    print('Previous Operating Income: ',i.netOperatingIncomePrev)\n",
    "    print('Latest Operating Net Income: ',i.netOperatingIncomeCurr)\n",
    "    print('Previous Free Cash Flow: ',i.freeCashFlowPrev)\n",
    "    print('Latest Cash Flow: ',i.freeCashFlowCurr)\n",
    "    print('Earnings Per Share: ',i.eps)\n",
    "    print('Dividend Yield: ',i.dividendYield)\n",
    "    print('PE Ratio: ',i.peRatio)\n",
    "    print('ROE: ',i.roe)\n",
    "    print(' ')\n",
    "    \n",
    "    #Use XPath!!!!"
   ]
  },
  {
   "cell_type": "markdown",
   "metadata": {},
   "source": [
    "### Analysis & Visualisation of Scraped Data of Selected Stocks"
   ]
  },
  {
   "cell_type": "code",
   "execution_count": 8,
   "metadata": {},
   "outputs": [],
   "source": [
    "#Change in Net Income\n",
    "#Change in Operating Income\n",
    "stockNames = list()\n",
    "changeOpIncome = list()\n",
    "changeNetIncome = list()\n",
    "\n",
    "for i in stocks:\n",
    "    stockNames.append(i.stockName)\n",
    "    changeInOperatingIncome = float(i.netOperatingIncomeCurr) - float(i.netOperatingIncomePrev)\n",
    "    changeOpIncome.append(changeInOperatingIncome)    \n",
    "    changeInNetIncome = float(i.netIncomeCurr) - float(i.netIncomePrev)\n",
    "    changeNetIncome.append(changeInNetIncome)"
   ]
  },
  {
   "cell_type": "code",
   "execution_count": 9,
   "metadata": {},
   "outputs": [
    {
     "data": {
      "image/png": "[encoded data removed]",
      "text/plain": [
       "<Figure size 432x288 with 1 Axes>"
      ]
     },
     "metadata": {
      "needs_background": "light"
     },
     "output_type": "display_data"
    }
   ],
   "source": [
    "import matplotlib.pyplot as pltNetIncome\n",
    "%matplotlib inline\n",
    "pltNetIncome.title('Change in Net Income ($ in Thousands)')\n",
    "pltNetIncome.barh(stockNames, changeNetIncome, color=['black', 'grey', 'green', 'blue', 'cyan'])\n",
    "pltNetIncome.show()"
   ]
  },
  {
   "cell_type": "code",
   "execution_count": 10,
   "metadata": {},
   "outputs": [
    {
     "data": {
      "image/png": "[encoded data removed]",
      "text/plain": [
       "<Figure size 432x288 with 1 Axes>"
      ]
     },
     "metadata": {
      "needs_background": "light"
     },
     "output_type": "display_data"
    }
   ],
   "source": [
    "import matplotlib.pyplot as plt\n",
    "%matplotlib inline\n",
    "plt.title('Change in Operating Income ($ in Thousands)')\n",
    "plt.barh(stockNames, changeOpIncome, color=['black', 'grey', 'green', 'blue', 'cyan'])\n",
    "plt.show()"
   ]
  },
  {
   "cell_type": "code",
   "execution_count": 11,
   "metadata": {},
   "outputs": [],
   "source": [
    "cashFlowPrev = list()\n",
    "cashFlowCurr = list()\n",
    "changeCashFlow = list()\n",
    "\n",
    "for i in stocks:\n",
    "    cashFlowC = float(i.freeCashFlowCurr)\n",
    "    cashFlowP = float(i.freeCashFlowPrev)\n",
    "    if(cashFlowC==0 or cashFlowP==0):\n",
    "        change = 0\n",
    "    else:\n",
    "        change = (cashFlowC - cashFlowP)/abs(cashFlowP)\n",
    "    \n",
    "    changeCashFlow.append(change)\n",
    "    cashFlowPrev.append(cashFlowP)\n",
    "    cashFlowCurr.append(cashFlowC)"
   ]
  },
  {
   "cell_type": "code",
   "execution_count": 12,
   "metadata": {},
   "outputs": [
    {
     "data": {
      "image/png": "[encoded data removed]",
      "text/plain": [
       "<Figure size 720x432 with 1 Axes>"
      ]
     },
     "metadata": {
      "needs_background": "light"
     },
     "output_type": "display_data"
    }
   ],
   "source": [
    "#Current Cash Flow\n",
    "import matplotlib\n",
    "import matplotlib.pyplot as plt\n",
    "import numpy as np\n",
    "\n",
    "barWidth = 0.35  # the width of the bars\n",
    "\n",
    "# Set position of bar on X axis\n",
    "r1 = np.arange(len(stock_array))\n",
    "r2 = [x + barWidth for x in r1]\n",
    "\n",
    "fig, ax = plt.subplots()\n",
    "rects2 = ax.bar(r2, cashFlowPrev, width=barWidth, color='red', label='Previous Year Cash Flow')\n",
    "rects1 = ax.bar(r1, cashFlowCurr, width=barWidth, label='Current Year Cash Flow' )\n",
    "\n",
    "# Add some text for labels, title and custom x-axis tick labels, etc.\n",
    "ax.set_ylabel('Scores')\n",
    "ax.set_title('Free Cash Flow (Thousands of $)')\n",
    "ax.legend()\n",
    "plt.xticks([r + barWidth for r in range(len(stock_array))], stock_array)\n",
    "\n",
    "fig.tight_layout()\n",
    "fig.set_figheight(6)\n",
    "fig.set_figwidth(10)\n",
    "#Show graphic\n",
    "plt.show()"
   ]
  },
  {
   "cell_type": "code",
   "execution_count": 13,
   "metadata": {},
   "outputs": [
    {
     "data": {
      "image/png": "[encoded data removed]",
      "text/plain": [
       "<Figure size 720x432 with 1 Axes>"
      ]
     },
     "metadata": {
      "needs_background": "light"
     },
     "output_type": "display_data"
    }
   ],
   "source": [
    "#Change in Free Cash Flow\n",
    "import matplotlib\n",
    "import matplotlib.pyplot as plt\n",
    "import numpy as np\n",
    "\n",
    "barWidth = 0.4  # the width of the bars\n",
    "\n",
    "fig, ax = plt.subplots()\n",
    "rects1 = ax.bar(stock_array, changeCashFlow, width=barWidth, label='Current Year Cash Flow' , color='green')\n",
    "\n",
    "# Add some text for labels, title and custom x-axis tick labels, etc.\n",
    "ax.set_ylabel('Scores')\n",
    "ax.set_title('Change in Free Cash Flow (%)')\n",
    "fig.tight_layout()\n",
    "\n",
    "fig.set_figheight(6)\n",
    "fig.set_figwidth(10)\n",
    "\n",
    "plt.show()"
   ]
  },
  {
   "cell_type": "markdown",
   "metadata": {},
   "source": [
    "### Summary of Top 3 Stocks Based on Each Indicator"
   ]
  },
  {
   "cell_type": "code",
   "execution_count": 14,
   "metadata": {},
   "outputs": [],
   "source": [
    "import re\n",
    "#Current Earnings Per Share\n",
    "epsList = list()\n",
    "#PE Ratio\n",
    "peList = list()\n",
    "#ROE\n",
    "roeList = list()\n",
    "#Dividend Yield\n",
    "divList = list()\n",
    "\n",
    "for i in stocks:\n",
    "    epsList.append(i.eps)\n",
    "    peList.append(i.peRatio)\n",
    "    roeList.append(i.roe)\n",
    "    \n",
    "    s = i.dividendYield\n",
    "    #extract the percentage yield only\n",
    "    divList.append(s[s.find(\"(\")+1:s.find(\")\")])\n",
    "    "
   ]
  },
  {
   "cell_type": "markdown",
   "metadata": {},
   "source": [
    "#### Top 3 Earnings Per Share"
   ]
  },
  {
   "cell_type": "code",
   "execution_count": 15,
   "metadata": {},
   "outputs": [],
   "source": [
    "#Lets keep score based on the various indicators that we have here to see which stocks we should consider the most.\n",
    "score = [None] * len(stockNames)\n",
    "for i in range(len(stockNames)):\n",
    "    score[i] = 0"
   ]
  },
  {
   "cell_type": "code",
   "execution_count": 16,
   "metadata": {},
   "outputs": [
    {
     "name": "stdout",
     "output_type": "stream",
     "text": [
      "Venture Corporation Limited (V03.SI): 1.29\n",
      "VICOM Ltd (V01.SI): 0.4\n",
      "CapitaLand Limited (C31.SI): 0.364\n"
     ]
    }
   ],
   "source": [
    "stockNamesCopy = stockNames.copy()\n",
    "epsListCopy = epsList.copy()\n",
    "count = 3 #basic scoring for the top 3\n",
    "for i in range(3):\n",
    "    top1 = max(epsListCopy)\n",
    "    top1Index = epsListCopy.index(top1)\n",
    "    \n",
    "    #Get index for the score list & update score\n",
    "    mainIndex = stockNames.index(stockNamesCopy[top1Index])\n",
    "    score[mainIndex] = score[mainIndex]+count\n",
    "    \n",
    "    #print the top 3 stock & remove the stock from the iterating list to get next max\n",
    "    print(stockNamesCopy[top1Index] + ':', top1)\n",
    "    epsListCopy.remove(top1)\n",
    "    stockNamesCopy.remove(stockNamesCopy[top1Index])\n",
    "\n",
    "    count=count-1\n"
   ]
  },
  {
   "cell_type": "markdown",
   "metadata": {},
   "source": [
    "#### Top 3 Price Earnings (PE) Ratio"
   ]
  },
  {
   "cell_type": "code",
   "execution_count": 17,
   "metadata": {},
   "outputs": [
    {
     "name": "stdout",
     "output_type": "stream",
     "text": [
      "NetLink NBN Trust (CJLU.SI): 44.52\n",
      "MindChamps PreSchool Limited (CNE.SI): 23.95\n",
      "VICOM Ltd (V01.SI): 19.38\n"
     ]
    }
   ],
   "source": [
    "stockNamesCopy = stockNames.copy()\n",
    "peListCopy = peList.copy()\n",
    "count = 3 #basic scoring for top 3\n",
    "for i in range(3):\n",
    "    top1 = max(peListCopy)\n",
    "    top1Index = peListCopy.index(top1)\n",
    "    \n",
    "    #Get index for the score list & update score\n",
    "    mainIndex = stockNames.index(stockNamesCopy[top1Index])\n",
    "    score[mainIndex] = score[mainIndex]+count\n",
    "\n",
    "    #print the top 3 stock & remove the stock from the iterating list to get next max\n",
    "    print(stockNamesCopy[top1Index] + ':', top1)\n",
    "    peListCopy.remove(top1)\n",
    "    stockNamesCopy.remove(stockNamesCopy[top1Index])\n",
    "    \n",
    "    count = count - 1\n"
   ]
  },
  {
   "cell_type": "markdown",
   "metadata": {},
   "source": [
    "#### Top 3 Return on Equity (ROE)"
   ]
  },
  {
   "cell_type": "code",
   "execution_count": 18,
   "metadata": {},
   "outputs": [
    {
     "name": "stdout",
     "output_type": "stream",
     "text": [
      "Keppel DC REIT (AJBU.SI): 27.68 %\n",
      "VICOM Ltd (V01.SI): 16.02 %\n",
      "MindChamps PreSchool Limited (CNE.SI): 15.26 %\n"
     ]
    }
   ],
   "source": [
    "stockNamesCopy = stockNames.copy()\n",
    "roeListCopy = roeList.copy()\n",
    "roeListCopyFloat = list()\n",
    "count = 5 #basic scoring for top 3\n",
    "#Need to get rid of all those that are N/A\n",
    "for i in roeListCopy:\n",
    "    if 'N/A' == i:\n",
    "        removeIndex = roeListCopy.index(i)\n",
    "        roeListCopy.remove(i)\n",
    "        stockNamesCopy.remove(stockNamesCopy[removeIndex])\n",
    "    else:\n",
    "        roeListCopyFloat.append(float(i))\n",
    "\n",
    "for i in range(3):\n",
    "    top1 = max(roeListCopyFloat)\n",
    "    top1Index = roeListCopyFloat.index(top1)\n",
    "    \n",
    "    #Get index for the score list & update score\n",
    "    mainIndex = stockNames.index(stockNamesCopy[top1Index])\n",
    "    score[mainIndex] = score[mainIndex]+count\n",
    "    \n",
    "    #print the top 3 stock & remove the stock from the iterating list to get next max\n",
    "    print(stockNamesCopy[top1Index] + ':', top1, '%')\n",
    "    roeListCopyFloat.remove(top1)\n",
    "    stockNamesCopy.remove(stockNamesCopy[top1Index])\n",
    " \n",
    "    count = count - 1"
   ]
  },
  {
   "cell_type": "markdown",
   "metadata": {},
   "source": [
    "#### Top 3 Dividend Yield"
   ]
  },
  {
   "cell_type": "code",
   "execution_count": 19,
   "metadata": {},
   "outputs": [
    {
     "name": "stdout",
     "output_type": "stream",
     "text": [
      "NetLink NBN Trust (CJLU.SI): 5.33 %\n",
      "VICOM Ltd (V01.SI): 4.78 %\n",
      "HRnetGroup Limited (CHZ.SI): 4.55 %\n"
     ]
    }
   ],
   "source": [
    "#Dividend Yield\n",
    "stockNamesCopy = stockNames.copy()\n",
    "divListCopy = divList.copy()\n",
    "count = 4 #basic scoring for top 3\n",
    "#Need to get rid of all those that are N/A\n",
    "for i in divListCopy:\n",
    "    if 'N/A' == i:\n",
    "        removeIndex = divListCopy.index(i)\n",
    "        divListCopy.remove(i)\n",
    "        stockNamesCopy.remove(stockNamesCopy[removeIndex])\n",
    "        \n",
    "for i in range(3):\n",
    "    top1 = max(divListCopy)\n",
    "    top1Index = divListCopy.index(top1)\n",
    "    \n",
    "    #Get index for the score list & update score\n",
    "    mainIndex = stockNames.index(stockNamesCopy[top1Index])\n",
    "    score[mainIndex] = score[mainIndex]+count\n",
    "    \n",
    "    #print the top 3 stock & remove the stock from the iterating list to get next max\n",
    "    print(stockNamesCopy[top1Index] + ':', top1, '%')\n",
    "    divListCopy.remove(top1)\n",
    "    stockNamesCopy.remove(stockNamesCopy[top1Index])\n",
    "    \n",
    "    count = count - 1"
   ]
  },
  {
   "cell_type": "markdown",
   "metadata": {},
   "source": [
    "#### Top 3 Change in Operating Income"
   ]
  },
  {
   "cell_type": "code",
   "execution_count": 20,
   "metadata": {},
   "outputs": [
    {
     "name": "stdout",
     "output_type": "stream",
     "text": [
      "CapitaLand Limited (C31.SI): $ 871254.0\n",
      "Keppel DC REIT (AJBU.SI): $ 35216.0\n",
      "NetLink NBN Trust (CJLU.SI): $ 30950.0\n"
     ]
    }
   ],
   "source": [
    "stockNamesCopy = stockNames.copy()\n",
    "changeOpIncomeCopy = changeOpIncome.copy()\n",
    "count = 3 #basic scoring for the top 3\n",
    "for i in range(3):\n",
    "    top1 = max(changeOpIncomeCopy)\n",
    "    top1Index = changeOpIncomeCopy.index(top1)\n",
    "    \n",
    "    #Get index for the score list & update score\n",
    "    mainIndex = stockNames.index(stockNamesCopy[top1Index])\n",
    "    score[mainIndex] = score[mainIndex]+count\n",
    "    \n",
    "    #print the top 3 stock & remove the stock from the iterating list to get next max\n",
    "    print(stockNamesCopy[top1Index] + ':', '$',top1)\n",
    "    changeOpIncomeCopy.remove(top1)\n",
    "    stockNamesCopy.remove(stockNamesCopy[top1Index])\n",
    "\n",
    "    count=count-1\n"
   ]
  },
  {
   "cell_type": "markdown",
   "metadata": {},
   "source": [
    "#### Top 3 Change in Net Income"
   ]
  },
  {
   "cell_type": "code",
   "execution_count": 21,
   "metadata": {},
   "outputs": [
    {
     "name": "stdout",
     "output_type": "stream",
     "text": [
      "CapitaLand Limited (C31.SI): $ 211743.0\n",
      "Keppel DC REIT (AJBU.SI): $ 76656.0\n",
      "NetLink NBN Trust (CJLU.SI): $ 27409.0\n"
     ]
    }
   ],
   "source": [
    "stockNamesCopy = stockNames.copy()\n",
    "changeNetIncomeCopy = changeNetIncome.copy()\n",
    "count = 3 #basic scoring for the top 3\n",
    "for i in range(3):\n",
    "    top1 = max(changeNetIncomeCopy)\n",
    "    top1Index = changeNetIncomeCopy.index(top1)\n",
    "    \n",
    "    #Get index for the score list & update score\n",
    "    mainIndex = stockNames.index(stockNamesCopy[top1Index])\n",
    "    score[mainIndex] = score[mainIndex]+count\n",
    "    \n",
    "    #print the top 3 stock & remove the stock from the iterating list to get next max\n",
    "    print(stockNamesCopy[top1Index] + ':', '$',top1)\n",
    "    changeNetIncomeCopy.remove(top1)\n",
    "    stockNamesCopy.remove(stockNamesCopy[top1Index])\n",
    "\n",
    "    count=count-1"
   ]
  },
  {
   "cell_type": "markdown",
   "metadata": {},
   "source": [
    "#### Top 3 Change in Cash Flow"
   ]
  },
  {
   "cell_type": "code",
   "execution_count": 22,
   "metadata": {},
   "outputs": [
    {
     "name": "stdout",
     "output_type": "stream",
     "text": [
      "NetLink NBN Trust (CJLU.SI): 4.0 %\n",
      "MindChamps PreSchool Limited (CNE.SI): 0.5 %\n",
      "HRnetGroup Limited (CHZ.SI): 0.5 %\n"
     ]
    }
   ],
   "source": [
    "stockNamesCopy = stockNames.copy()\n",
    "changeCashFlowCopy = changeCashFlow.copy()\n",
    "count = 3 #basic scoring for the top 3\n",
    "for i in range(3):\n",
    "    top1 = max(changeCashFlowCopy)\n",
    "    top1Index = changeCashFlowCopy.index(top1)\n",
    "    \n",
    "    #Get index for the score list & update score\n",
    "    mainIndex = stockNames.index(stockNamesCopy[top1Index])\n",
    "    score[mainIndex] = score[mainIndex]+count\n",
    "    \n",
    "    #print the top 3 stock & remove the stock from the iterating list to get next max\n",
    "    print(stockNamesCopy[top1Index] + ':',round(top1,1), '%')\n",
    "    changeCashFlowCopy.remove(top1)\n",
    "    stockNamesCopy.remove(stockNamesCopy[top1Index])\n",
    "\n",
    "    count=count-1"
   ]
  },
  {
   "cell_type": "markdown",
   "metadata": {},
   "source": [
    "### Recommended Stock to Consider\n",
    "Based on the indicators we will give them a score accordingly based on how they fare as the top 3 stock within each area. Stocks that fared higher in each indicators will get higher score points. I'm someone who is more interested towards stocks with high return on equity and dividend yield. Thus more weightage will be given towards these 2 indicators as part of the overall scoring (with higher weightage to ROE). Based on this scoring system, the stock(s) with the highest score in total will be printed out and recommended to you."
   ]
  },
  {
   "cell_type": "code",
   "execution_count": 23,
   "metadata": {},
   "outputs": [],
   "source": [
    "## We will do a simple score calculator here\n",
    "# print(score)\n",
    "class color:\n",
    "   PURPLE = '\\033[95m'\n",
    "   CYAN = '\\033[96m'\n",
    "   DARKCYAN = '\\033[36m'\n",
    "   BLUE = '\\033[94m'\n",
    "   GREEN = '\\033[92m'\n",
    "   YELLOW = '\\033[93m'\n",
    "   RED = '\\033[91m'\n",
    "   BOLD = '\\033[1m'\n",
    "   UNDERLINE = '\\033[4m'\n",
    "   END = '\\033[0m'"
   ]
  },
  {
   "cell_type": "code",
   "execution_count": 24,
   "metadata": {},
   "outputs": [
    {
     "name": "stdout",
     "output_type": "stream",
     "text": [
      "\u001b[4m\u001b[1mRecommended Stock(s)\u001b[0m\n",
      "NetLink NBN Trust (CJLU.SI) at $ 0.935\n",
      "Highest Stock Rating: 12\n"
     ]
    }
   ],
   "source": [
    "maxScore = max(score)\n",
    "\n",
    "print(color.UNDERLINE+color.BOLD+'Recommended Stock(s)'+color.END)\n",
    "for i in range(len(score)):\n",
    "    if(score[i]==maxScore):\n",
    "        print(stocks[i].stockName,'at $',stocks[i].stockPrice)\n",
    "print('Highest Stock Rating:',maxScore)"
   ]
  },
  {
   "cell_type": "code",
   "execution_count": 25,
   "metadata": {},
   "outputs": [
    {
     "data": {
      "text/html": [
       "<script>\n",
       "code_show=true; \n",
       "function code_toggle() {\n",
       " if (code_show){\n",
       " $('div.input').hide();\n",
       " } else {\n",
       " $('div.input').show();\n",
       " }\n",
       " code_show = !code_show\n",
       "} \n",
       "$( document ).ready(code_toggle);\n",
       "</script>\n",
       "<form action=\"javascript:code_toggle()\"><input type=\"submit\" value=\"Click here to Hide/Show the raw code.\"></form>"
      ],
      "text/plain": [
       "<IPython.core.display.HTML object>"
      ]
     },
     "execution_count": 25,
     "metadata": {},
     "output_type": "execute_result"
    }
   ],
   "source": [
    "from IPython.display import HTML\n",
    "\n",
    "HTML('''<script>\n",
    "code_show=true; \n",
    "function code_toggle() {\n",
    " if (code_show){\n",
    " $('div.input').hide();\n",
    " } else {\n",
    " $('div.input').show();\n",
    " }\n",
    " code_show = !code_show\n",
    "} \n",
    "$( document ).ready(code_toggle);\n",
    "</script>\n",
    "<form action=\"javascript:code_toggle()\"><input type=\"submit\" value=\"Click here to Hide/Show the raw code.\"></form>''')"
   ]
  }
 ],
 "metadata": {
  "kernelspec": {
   "display_name": "Python 3",
   "language": "python",
   "name": "python3"
  },
  "language_info": {
   "codemirror_mode": {
    "name": "ipython",
    "version": 3
   },
   "file_extension": ".py",
   "mimetype": "text/x-python",
   "name": "python",
   "nbconvert_exporter": "python",
   "pygments_lexer": "ipython3",
   "version": "3.7.4"
  }
 },
 "nbformat": 4,
 "nbformat_minor": 2
}

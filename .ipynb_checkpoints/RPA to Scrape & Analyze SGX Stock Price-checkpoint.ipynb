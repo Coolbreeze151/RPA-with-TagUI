{
 "cells": [
  {
   "cell_type": "markdown",
   "metadata": {},
   "source": [
    "# Stock Analysis & Comparison"
   ]
  },
  {
   "cell_type": "code",
   "execution_count": 1,
   "metadata": {},
   "outputs": [],
   "source": [
    "#pip install tagui"
   ]
  },
  {
   "cell_type": "markdown",
   "metadata": {},
   "source": [
    "So let's now use TagUI for other useful stuff in our daily lives. The first thing that comes to mind is to use RPA for scraping purposes. So for the benefit of my future employer who may be interested in me, I'll be working on using RPA to scrape some useful data. Lets scrape data related to the stock market for now since its an easily retrievable dataset that we can pull out and make analysis with."
   ]
  },
  {
   "cell_type": "code",
   "execution_count": 2,
   "metadata": {},
   "outputs": [],
   "source": [
    "import tagui as t"
   ]
  },
  {
   "cell_type": "code",
   "execution_count": 3,
   "metadata": {},
   "outputs": [],
   "source": [
    "class Stock(object):\n",
    "    stockId = \"\"\n",
    "    stockName = \"\"\n",
    "    stockPrice = 0\n",
    "    freeCashFlowPrev = \"\"\n",
    "    freeCashFlowCurr = \"\"\n",
    "    eps = 0\n",
    "    dividendYield = \"\"\n",
    "    peRatio = 0\n",
    "    roe = \"\"\n",
    "    netIncomePrev = \"\"\n",
    "    netIncomeCurr = \"\"\n",
    "    netOperatingIncomePrev = \"\"\n",
    "    netOperatingIncomeCurr = \"\"\n",
    "    \n",
    "def make_stock(stockId, stockName, stockPrice, freeCashFlowPrev, freeCashFlowCurr, eps, dividendYield, peRatio, roe, netIncomePrev, netIncomeCurr, netOperatingIncomePrev, netOperatingIncomeCurr):\n",
    "    stock = Stock()\n",
    "    stock.stockId = stockId\n",
    "    stock.stockName = stockName\n",
    "    stock.stockPrice = stockPrice\n",
    "    stock.freeCashFlowPrev = freeCashFlowPrev\n",
    "    stock.freeCashFlowCurr = freeCashFlowCurr\n",
    "    stock.eps = eps\n",
    "    stock.dividendYield = dividendYield\n",
    "    stock.peRatio = peRatio\n",
    "    stock.roe = roe\n",
    "    stock.netIncomePrev = netIncomePrev\n",
    "    stock.netIncomeCurr = netIncomeCurr\n",
    "    stock.netOperatingIncomePrev = netOperatingIncomePrev\n",
    "    stock.netOperatingIncomeCurr = netOperatingIncomeCurr\n",
    "\n",
    "    return stock"
   ]
  },
  {
   "cell_type": "code",
   "execution_count": 4,
   "metadata": {
    "scrolled": true
   },
   "outputs": [
    {
     "name": "stdout",
     "output_type": "stream",
     "text": [
      "Enter the number of stocks you want to analyze:2\n",
      "Enter each Stock ID, Eg.CJLU.SI: \n",
      "Stock ID 1: cjlu.si\n",
      "Stock ID 2: cne.si\n",
      "Stock IDs: ['cjlu.si', 'cne.si']\n"
     ]
    }
   ],
   "source": [
    "stock_array = list()\n",
    "stocks = list()\n",
    "\n",
    "number = input(\"Enter the number of stocks you want to analyze:\")\n",
    "print ('Enter each Stock ID, Eg.CJLU.SI: ')\n",
    "for i in range(int(number)):\n",
    "    n = input(\"Stock ID \"+str(i+1)+\": \")\n",
    "    #We should carry out conditional checks here to verify that the Stock Listing is Valid before proceeding\n",
    "    ######################################################################################################\n",
    "    stock_array.append(n)\n",
    "print ('Stock IDs:' ,stock_array)"
   ]
  },
  {
   "cell_type": "code",
   "execution_count": 5,
   "metadata": {},
   "outputs": [
    {
     "data": {
      "text/plain": [
       "True"
      ]
     },
     "execution_count": 5,
     "metadata": {},
     "output_type": "execute_result"
    }
   ],
   "source": [
    "#Open Yahoo stock site to scrape relevant data of stocks we want to look at.\n",
    "url = 'https://sg.finance.yahoo.com/quote/'\n",
    "t.init(visual_automation = True, chrome_browser = True)\n",
    "\n",
    "#We then iterate through the stocks code that have been selected\n",
    "for i in stock_array:\n",
    "    newUrl = url + i +'/'\n",
    "    t.url(newUrl)\n",
    "    #Carry out scraping of data here\n",
    "    t.wait(2)\n",
    "    \n",
    "    #Storing current price of the stock\n",
    "    stockId = i\n",
    "    stockPrice = float(t.read('//*[@id=\"quote-header-info\"]/div[3]/div/div/span[1]'))\n",
    "    stockName = t.read('//*[@id=\"quote-header-info\"]/div[2]/div[1]/div[1]/h1')    \n",
    "    \n",
    "    #Storing key indicators of stock\n",
    "    dividendYield = ((t.read('//*[@id=\"quote-summary\"]/div[2]/table/tbody/tr[6]/td[2]')))\n",
    "    peRatio = float((t.read('//*[@id=\"quote-summary\"]/div[2]/table/tbody/tr[3]/td[2]/span')))\n",
    "    eps = float((t.read('//*[@id=\"quote-summary\"]/div[2]/table/tbody/tr[4]/td[2]/span')))\n",
    "    \n",
    "    #Go to the financials tab to scrape data\n",
    "    t.click('//*[@id=\"quote-nav\"]/ul/li[7]/a/span') \n",
    "    netIncomePrev = ((t.read('//*[@id=\"Col1-1-Financials-Proxy\"]/section/div[3]/div[1]/div/div[2]/div[11]/div[1]/div[4]/span')))\n",
    "    netIncomePrev = netIncomePrev.replace(',', '')\n",
    "\n",
    "    netIncomeCurr = ((t.read('//*[@id=\"Col1-1-Financials-Proxy\"]/section/div[3]/div[1]/div/div[2]/div[11]/div[1]/div[3]/span')))    \n",
    "    netIncomeCurr = netIncomeCurr.replace(',', '')\n",
    "\n",
    "    netOperatingIncomePrev = ((t.read('//*[@id=\"Col1-1-Financials-Proxy\"]/section/div[3]/div[1]/div/div[2]/div[5]/div[1]/div[4]/span')))\n",
    "    netOperatingIncomePrev = netOperatingIncomePrev.replace(',', '')\n",
    "\n",
    "    netOperatingIncomeCurr = ((t.read('//*[@id=\"Col1-1-Financials-Proxy\"]/section/div[3]/div[1]/div/div[2]/div[5]/div[1]/div[3]/span')))\n",
    "    netOperatingIncomeCurr = netOperatingIncomeCurr.replace(',', '')\n",
    "\n",
    "    #Go to the Cash Flow tab to scrape data\n",
    "    t.click('//*[@id=\"Col1-1-Financials-Proxy\"]/section/div[1]/div[1]/div/a[2]/div/span') \n",
    "    freeCashFlowPrev = ((t.read('//*[@id=\"Col1-1-Financials-Proxy\"]/section/div[3]/div[1]/div/div[2]/div[7]/div[2]/div[3]/div[1]/div[4]/span')))\n",
    "    freeCashFlowPrev = freeCashFlowPrev.replace(',', '')\n",
    "    freeCashFlowCurr = ((t.read('//*[@id=\"Col1-1-Financials-Proxy\"]/section/div[3]/div[1]/div/div[2]/div[7]/div[2]/div[3]/div[1]/div[3]/span')))\n",
    "    freeCashFlowCurr = freeCashFlowCurr.replace(',', '')\n",
    "    \n",
    "    #Go to Statistics tab to scrape data\n",
    "    t.click('//*[@id=\"quote-nav\"]/ul/li[4]/a') \n",
    "    roe = ((t.read('//*[@id=\"Col1-0-KeyStatistics-Proxy\"]/section/div[2]/div[3]/div/div[3]/div/table/tbody/tr[2]/td[2]')))\n",
    "    \n",
    "    stock = make_stock(stockId, stockName, stockPrice, freeCashFlowPrev, freeCashFlowCurr, eps, dividendYield, peRatio, roe, netIncomePrev, netIncomeCurr, netOperatingIncomePrev, netOperatingIncomeCurr)\n",
    "    stocks.append(stock)\n",
    "    \n",
    "t.close()"
   ]
  },
  {
   "cell_type": "code",
   "execution_count": 6,
   "metadata": {},
   "outputs": [
    {
     "name": "stdout",
     "output_type": "stream",
     "text": [
      "Stock ID:  cjlu.si\n",
      "Stock Name:  NetLink NBN Trust (CJLU.SI)\n",
      "Stock Price:  0.93\n",
      "Previous Year Net Income:  49950\n",
      "Latest Net Income:  77359\n",
      "Previous Operating Income:  54468\n",
      "Latest Operating Net Income:  85418\n",
      "Previous Free Cash Flow:  -53730\n",
      "Latest Cash Flow:  158542\n",
      "Earnings Per Share:  0.021\n",
      "Dividend Yield:  0.05 (5.33%)\n",
      "PE Ratio:  44.29\n",
      "ROE:  N/A\n",
      " \n"
     ]
    }
   ],
   "source": [
    "for i in stocks[0:1]:\n",
    "    print('Stock ID: ',i.stockId)\n",
    "    print('Stock Name: ',i.stockName)\n",
    "    print('Stock Price: ',i.stockPrice)\n",
    "    print('Previous Year Net Income: ',i.netIncomePrev)\n",
    "    print('Latest Net Income: ',i.netIncomeCurr)\n",
    "    print('Previous Operating Income: ',i.netOperatingIncomePrev)\n",
    "    print('Latest Operating Net Income: ',i.netOperatingIncomeCurr)\n",
    "    print('Previous Free Cash Flow: ',i.freeCashFlowPrev)\n",
    "    print('Latest Cash Flow: ',i.freeCashFlowCurr)\n",
    "    print('Earnings Per Share: ',i.eps)\n",
    "    print('Dividend Yield: ',i.dividendYield)\n",
    "    print('PE Ratio: ',i.peRatio)\n",
    "    print('ROE: ',i.roe)\n",
    "    print(' ')\n",
    "    \n",
    "    #Use XPath!!!!"
   ]
  },
  {
   "cell_type": "markdown",
   "metadata": {},
   "source": [
    "### Analysis & Visualisation of Scraped Data of Selected Stocks"
   ]
  },
  {
   "cell_type": "code",
   "execution_count": 27,
   "metadata": {},
   "outputs": [],
   "source": [
    "#Change in Net Income\n",
    "#Change in Operating Income\n",
    "stockNames = list()\n",
    "changeOpIncome = list()\n",
    "changeNetIncome = list()\n",
    "\n",
    "for i in stocks:\n",
    "    stockNames.append(i.stockName)\n",
    "    changeInOperatingIncome = float(i.netOperatingIncomeCurr) - float(i.netOperatingIncomePrev)\n",
    "    changeOpIncome.append(changeInOperatingIncome)    \n",
    "    changeInNetIncome = float(i.netIncomeCurr) - float(i.netIncomePrev)\n",
    "    changeNetIncome.append(changeInNetIncome)"
   ]
  },
  {
   "cell_type": "code",
   "execution_count": 28,
   "metadata": {},
   "outputs": [
    {
     "data": {
      "image/png": "[encoded data removed]",
      "text/plain": [
       "<Figure size 432x288 with 1 Axes>"
      ]
     },
     "metadata": {
      "needs_background": "light"
     },
     "output_type": "display_data"
    },
    {
     "data": {
      "image/png": "[encoded data removed]",
      "text/plain": [
       "<Figure size 432x288 with 1 Axes>"
      ]
     },
     "metadata": {
      "needs_background": "light"
     },
     "output_type": "display_data"
    }
   ],
   "source": [
    "import matplotlib.pyplot as plt\n",
    "import matplotlib.pyplot as pltNetIncome\n",
    "import numpy as np\n",
    "plt.title('Change in Operating Income ($ in Thousands)')\n",
    "plt.barh(stockNames, changeOpIncome, color=['black', 'grey', 'green', 'blue', 'cyan'])\n",
    "plt.show()\n",
    "\n",
    "pltNetIncome.title('Change in Net Income ($ in Thousands)')\n",
    "pltNetIncome.barh(stockNames, changeNetIncome, color=['black', 'grey', 'green', 'blue', 'cyan'])\n",
    "pltNetIncome.show()"
   ]
  },
  {
   "cell_type": "code",
   "execution_count": 32,
   "metadata": {},
   "outputs": [
    {
     "data": {
      "image/png": "[encoded data removed]",
      "text/plain": [
       "<Figure size 432x288 with 1 Axes>"
      ]
     },
     "metadata": {
      "needs_background": "light"
     },
     "output_type": "display_data"
    }
   ],
   "source": [
    "#Change in Free Cash Flow\n",
    "#Current Cash Flow\n",
    "import matplotlib\n",
    "import matplotlib.pyplot as plt\n",
    "import numpy as np\n",
    "\n",
    "width = 0.35  # the width of the bars\n",
    "\n",
    "fig, ax = plt.subplots()\n",
    "rects1 = ax.bar(width/2, changeOpIncome, width,\n",
    "                label='Men')\n",
    "rects2 = ax.bar(width/2, changeNetIncome, width, \n",
    "                label='Women')\n",
    "\n",
    "# Add some text for labels, title and custom x-axis tick labels, etc.\n",
    "ax.set_ylabel('Scores')\n",
    "ax.set_title('Scores by group and gender')\n",
    "\n",
    "\n",
    "fig.tight_layout()\n",
    "\n",
    "plt.show()"
   ]
  },
  {
   "cell_type": "code",
   "execution_count": null,
   "metadata": {},
   "outputs": [],
   "source": [
    "\n",
    "#Current Earnings Per Share\n",
    "#PE Ratio\n",
    "#ROE\n",
    "#Dividend Yield"
   ]
  },
  {
   "cell_type": "markdown",
   "metadata": {},
   "source": [
    "### Summary of Top 3 Stocks Based on Each Indicator"
   ]
  }
 ],
 "metadata": {
  "kernelspec": {
   "display_name": "Python 3",
   "language": "python",
   "name": "python3"
  },
  "language_info": {
   "codemirror_mode": {
    "name": "ipython",
    "version": 3
   },
   "file_extension": ".py",
   "mimetype": "text/x-python",
   "name": "python",
   "nbconvert_exporter": "python",
   "pygments_lexer": "ipython3",
   "version": "3.7.4"
  }
 },
 "nbformat": 4,
 "nbformat_minor": 2
}

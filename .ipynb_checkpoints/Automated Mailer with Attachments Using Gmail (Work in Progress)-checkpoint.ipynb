{
 "cells": [
  {
   "cell_type": "markdown",
   "metadata": {},
   "source": [
    "## Automated Mailer with Attachments Using Gmail"
   ]
  },
  {
   "cell_type": "code",
   "execution_count": 1,
   "metadata": {},
   "outputs": [],
   "source": [
    "import tagui as t\n",
    "toAddress = 'taguirpa@gmail.com'"
   ]
  },
  {
   "cell_type": "code",
   "execution_count": null,
   "metadata": {},
   "outputs": [],
   "source": [
    "#Login into your gmail account\n",
    "url = 'https://www.gmail.com'\n",
    "t.init(visual_automation = True, chrome_browser = True)\n",
    "t.url(url)\n",
    "t.dclick(800,30) #Use this to manually expand your window. Comment it out if not required\n",
    "\n",
    "#Use this line of code if there was already an initial username saved by Google\n",
    "t.click('//*[@id=\"view_container\"]/div/div/div[2]/div/div[1]/div/form/span/section/div/div/div/div/ul/li[1]/div/div[1]/div')\n",
    "#If its a new account, use the code below instead\n",
    "#t.type('//*[@id=\"identifierId\"]', 'taguiRPA')\n",
    "#t.click('//*[@id=\"identifierNext\"]/div[2]')\n",
    "\n",
    "t.type('//*[@id=\"password\"]/div[1]/div/div[1]/input','taguiPassword')\n",
    "t.click('//*[@id=\"passwordNext\"]/span/span')\n",
    "\n",
    "\n",
    "#Since we have logged in, lets directly enter the gmail account url to avoid any additional \n",
    "#Google prompts ie. Change passwords, update mobile number etc.\n",
    "t.wait(5)\n",
    "t.url('https://www.gmail.com')\n",
    "\n",
    "#Compose a new automated mailer with updated attachments\n",
    "t.click('T-I J-J5-Ji T-I-KE L3')\n",
    "t.wait(2)\n",
    "t.click('/html/body/div[25]/div/div/div/div[1]/div[3]/div[1]/div[1]/div/div/div/div[2]/div/div[2]/div/div/div/div/table/tbody/tr/td[2]/img[2]') #Use this to expand the composing email\n",
    "\n",
    "#Fill in the Recipients\n",
    "t.type('vO', toAddress)\n",
    "\n",
    "#Enter Subject Header\n",
    "t.type('aoT', \"Monthly Financial Reports\")\n",
    "t.type('Am Al editable LW-avf tS-tW', \"Kindly find attached the monthly financial reports for your approval please. Thank you.\")\n",
    "\n",
    "#Attach Mailer, ID Can't be detected so manual x,y needs to be used. Please adjust to your PC Screen specs accordingly\n",
    "t.click('aA7 aaA aMZ')\n",
    "t.dclick(400,580)\n",
    "\n",
    "#Send the Email\n",
    "t.click('T-I J-J5-Ji aoO v7 T-I-atl L3')\n",
    "t.wait(5)\n",
    "\n",
    "#Sign Out\n",
    "t.click('//*[@id=\"gb\"]/div[2]/div[3]/div[1]/div[2]/div/a/span')\n",
    "t.click('//*[@id=\"gb_71\"]')\n",
    "t.wait(10)"
   ]
  },
  {
   "cell_type": "code",
   "execution_count": null,
   "metadata": {},
   "outputs": [],
   "source": [
    "t.close()"
   ]
  }
 ],
 "metadata": {
  "kernelspec": {
   "display_name": "Python 3",
   "language": "python",
   "name": "python3"
  },
  "language_info": {
   "codemirror_mode": {
    "name": "ipython",
    "version": 3
   },
   "file_extension": ".py",
   "mimetype": "text/x-python",
   "name": "python",
   "nbconvert_exporter": "python",
   "pygments_lexer": "ipython3",
   "version": "3.7.4"
  }
 },
 "nbformat": 4,
 "nbformat_minor": 2
}

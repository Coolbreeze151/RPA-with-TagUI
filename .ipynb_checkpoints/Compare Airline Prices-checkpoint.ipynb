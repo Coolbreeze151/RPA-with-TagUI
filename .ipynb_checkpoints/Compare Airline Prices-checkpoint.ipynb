{
 "cells": [
  {
   "cell_type": "markdown",
   "metadata": {},
   "source": [
    "## Comparing Airline Prices\n",
    "Recently found out how much it was a hassle to actually search up and find the best airline prices for our holiday plans. So this set me wondering if RPA would be able to help us automate this search process and perhaps list out everything we need to know in a more convenient manner. So in this project, we will be using TagUI to seamlessly pull out all relevant data we need to compare and decide on the right airline prices (Roundtrip) for us to decide from.\n",
    "\n",
    "There are actually plenty of websites available right now for users to compare prices across various airlines available. So for the regular person who may want to make sure these sites are reliable, its always good to compare the prices from a few sources. So in this script, we'll be comparing the cheapest available price from [3 of the top sites](https://www.smartertravel.com/the-best-flight-booking-sites/) available online for us to make the best comparisons in our airline prices.The 3 sites we will be using for this script will be Travelocity, Google Flights and Expedia."
   ]
  },
  {
   "cell_type": "code",
   "execution_count": 1,
   "metadata": {},
   "outputs": [],
   "source": [
    "#pip install tagui"
   ]
  },
  {
   "cell_type": "code",
   "execution_count": 2,
   "metadata": {},
   "outputs": [],
   "source": [
    "import tagui as t\n",
    "class Flight(object):\n",
    "    flightName = \"\"\n",
    "    flightTime=\"\"\n",
    "    duration = \"\"\n",
    "    price =\"\"\n",
    "    \n",
    "    \n",
    "def make_flight(flightName, duration,flightTime, price):\n",
    "    flight = Flight()\n",
    "    flight.flightName = flightName\n",
    "    flight.duration = duration\n",
    "    flight.flightTime = flightTime\n",
    "    flight.price = price\n",
    "    \n",
    "    return flight"
   ]
  },
  {
   "cell_type": "code",
   "execution_count": 3,
   "metadata": {},
   "outputs": [
    {
     "name": "stdout",
     "output_type": "stream",
     "text": [
      "Enter Flying From City: Singapore\n",
      "Enter Flying To City: New York\n",
      "Enter Departing Date (mm/dd/yyyy): 08/18/2020\n",
      "Enter Returning Date (mm/dd/yyyy): 08/29/2020\n"
     ]
    }
   ],
   "source": [
    "#Note that no conditional checks were added. Assumption is that input is accurate and complete\n",
    "departure = input(\"Enter Flying From City: \")\n",
    "arrival = input(\"Enter Flying To City: \")\n",
    "departDate = input(\"Enter Departing Date (mm/dd/yyyy): \")\n",
    "returnDate = input(\"Enter Returning Date (mm/dd/yyyy): \")\n",
    "\n",
    "#Create 3 separate lists to hold the different airline information from each website.\n",
    "travelocity = list()\n",
    "googleFlights = list()\n",
    "expedia = list()"
   ]
  },
  {
   "cell_type": "code",
   "execution_count": 4,
   "metadata": {},
   "outputs": [],
   "source": [
    "#Go through each of the top 3 websites to pull data and compare the various prices\n",
    "#urlFirst = 'https://www.cheapoair.com/'\n",
    "\n",
    "#Start with First URL Travelocity.com\n",
    "urlFirst = 'https://www.travelocity.com/'\n",
    "urlThird = 'https://www.google.com/flights'\n",
    "urlSecond = 'https://www.expedia.com/'\n",
    "t.init(visual_automation = True, chrome_browser = True)\n",
    "t.url(urlFirst)\n",
    "\n",
    "t.wait(6)\n",
    "t.click('//*[@id=\"tab-flight-tab-hp\"]/span[1]')\n",
    "\n",
    "#Enter Returning Date\n",
    "t.click(1300,800) #This ensures that keyboard strokes used are targetted on screen and not on URL field, adjust if required.\n",
    "t.click('//*[@id=\"flight-returning-hp-flight\"]')\n",
    "t.keyboard('[ctrl][a]')\n",
    "t.keyboard('[backspace]')\n",
    "t.type('//*[@id=\"flight-returning-hp-flight\"]',returnDate)\n",
    "\n",
    "#Enter Departing Date\n",
    "t.click('//*[@id=\"flight-departing-hp-flight\"]')\n",
    "t.keyboard('[ctrl][a]')\n",
    "t.keyboard('[backspace]')\n",
    "t.type('//*[@id=\"flight-departing-hp-flight\"]',departDate)\n",
    "\n",
    "#Enter From City\n",
    "t.click('//*[@id=\"flight-origin-hp-flight\"]')\n",
    "t.type('//*[@id=\"flight-origin-hp-flight\"]',departure)\n",
    "\n",
    "#Enter To City\n",
    "t.click('//*[@id=\"flight-destination-hp-flight\"]')\n",
    "t.type('//*[@id=\"flight-destination-hp-flight\"]',arrival)\n",
    "\n",
    "#Enter Search Button\n",
    "t.click('/html/body/meso-native-marquee/section/div/div/div[1]/div/div/div[1]/div/section[1]/form/div[8]/label/button')\n",
    "#Wait for the search results to load\n",
    "t.wait(20)\n",
    "\n",
    "#The line of code below is used to scrape all entries in case you're interested to get more insights\n",
    "#scrape=t.read('flightModuleList')\n",
    "\n",
    "#Here we will just focus on getting the cheapest flight since we want to compare the cheapest across the 3 websites\n",
    "flightName = t.read('secondary-content overflow-ellipsis inline-children')\n",
    "duration=t.read('duration-emphasis')\n",
    "flightTime=t.read('medium-bold')\n",
    "price=t.read('full-bold no-wrap')\n",
    "\n",
    "#This line of code is used to remove all whitespaces for us to analyze according if we intend to view all the entries\n",
    "#scrapeNoSpaces=\"\".join(scrape.split())\n",
    "\n",
    "#We will now remove all unnecessary whitespaces\n",
    "flightNameNoSpaces=\"\".join(flightName.split())\n",
    "durationNoSpaces=\"\".join(duration.split())\n",
    "flightTimeNoSpaces=\"\".join(flightTime.split())\n",
    "priceNoSpaces=\"\".join(price.split())\n",
    "\n",
    "#Print out the different details for debugging purposes\n",
    "#print(flightNameNoSpaces)\n",
    "#print(durationNoSpaces)\n",
    "#print(flightTimeNoSpaces)\n",
    "#print(priceNoSpaces)\n",
    "\n",
    "#create flight object\n",
    "flight = make_flight(flightNameNoSpaces,durationNoSpaces,flightTimeNoSpaces,priceNoSpaces)\n",
    "travelocity.append(flight)\n",
    "\n",
    "#Save the URL for the User to access later if he/she wants to explore further on the other available search results\n",
    "searchResult1 = t.url()\n",
    "\n",
    "#This line of code is for debugging purposes to make sure URL & flight objects is available & initialised respectively\n",
    "#print(t.url())\n",
    "#print(travelocity)"
   ]
  },
  {
   "cell_type": "code",
   "execution_count": 5,
   "metadata": {},
   "outputs": [],
   "source": [
    "#Second Website\n",
    "t.url(urlSecond)\n",
    "t.wait(6)\n",
    "t.click('//*[@id=\"wizard-tabs\"]/div[1]/ul/li[1]')\n",
    "\n",
    "#Enter Returning Date\n",
    "t.click(1300,800) #This ensures that keyboard strokes used are targetted on screen and not on URL field, adjust if required.\n",
    "t.click('//*[@id=\"flight-returning-hp-flight\"]')\n",
    "t.keyboard('[ctrl][a]')\n",
    "t.keyboard('[backspace]')\n",
    "t.type('//*[@id=\"flight-returning-hp-flight\"]',returnDate)\n",
    "\n",
    "#Enter Departing Date\n",
    "t.click('//*[@id=\"flight-departing-hp-flight\"]')\n",
    "t.keyboard('[ctrl][a]')\n",
    "t.keyboard('[backspace]')\n",
    "t.type('//*[@id=\"flight-departing-hp-flight\"]',departDate)\n",
    "\n",
    "#Enter From City\n",
    "t.click('//*[@id=\"flight-origin-hp-flight\"]')\n",
    "t.type('//*[@id=\"flight-origin-hp-flight\"]',departure)\n",
    "\n",
    "#Enter To City\n",
    "t.click('//*[@id=\"flight-destination-hp-flight\"]')\n",
    "t.type('//*[@id=\"flight-destination-hp-flight\"]',arrival)\n",
    "\n",
    "#Enter Search Button\n",
    "t.click('//*[@id=\"gcw-flights-form-hp-flight\"]/div[7]/label/button/span')\n",
    "#Wait for the search results to load\n",
    "t.wait(20)\n",
    "\n",
    "#The line of code below is used to scrape all entries in case you're interested to get more insights\n",
    "#scrape=t.read('flightModuleList')\n",
    "\n",
    "#Here we will just focus on getting the cheapest flight since we want to compare the cheapest across the 3 websites\n",
    "flightName = t.read('secondary-content overflow-ellipsis inline-children')\n",
    "duration=t.read('duration-emphasis')\n",
    "flightTime=t.read('medium-bold')\n",
    "price=t.read('full-bold no-wrap')\n",
    "\n",
    "\n",
    "#This line of code is used to remove all whitespaces for us to analyze according if we intend to view all the entries\n",
    "#scrapeNoSpaces=\"\".join(scrape.split())\n",
    "\n",
    "#We will now remove all unnecessary whitespaces\n",
    "flightNameNoSpaces=\"\".join(flightName.split())\n",
    "durationNoSpaces=\"\".join(duration.split())\n",
    "flightTimeNoSpaces=\"\".join(flightTime.split())\n",
    "priceNoSpaces=\"\".join(price.split())\n",
    "\n",
    "#Print out the different details for debugging purposes\n",
    "#print(flightNameNoSpaces)\n",
    "#print(durationNoSpaces)\n",
    "#print(flightTimeNoSpaces)\n",
    "#print(priceNoSpaces)\n",
    "\n",
    "#create flight object\n",
    "flight = make_flight(flightNameNoSpaces,durationNoSpaces,flightTimeNoSpaces,priceNoSpaces)\n",
    "expedia.append(flight)\n",
    "\n",
    "#Save the URL for the User to access later if he/she wants to explore further on the other available search results\n",
    "searchResult2 = t.url()\n",
    "\n",
    "#This line of code is for debugging purposes to make sure URL & flight objects is available & initialised respectively\n",
    "#print(t.url())\n",
    "#print(expedia)"
   ]
  },
  {
   "cell_type": "code",
   "execution_count": 6,
   "metadata": {},
   "outputs": [
    {
     "data": {
      "text/plain": [
       "True"
      ]
     },
     "execution_count": 6,
     "metadata": {},
     "output_type": "execute_result"
    }
   ],
   "source": [
    "#Final Website\n",
    "#Because Google Flights uses dd/mm/yyyy convention, we need to change the date convention accordingly.\n",
    "returnDateV2 = returnDate[3:5]+\"/\"+returnDate[0:2]+returnDate[5:]\n",
    "departDateV2 = departDate[3:5]+\"/\"+departDate[0:2]+departDate[5:]\n",
    "t.url(urlThird)\n",
    "t.wait(4)\n",
    "\n",
    "#Enter From City\n",
    "t.click('//*[@id=\"flt-app\"]/div[2]/main[1]/div[4]/div/div[3]/div/div[2]/div[1]')\n",
    "t.type('//*[@id=\"flt-app\"]/div[2]/main[1]/div[4]/div/div[3]/div/div[2]/div[1]',departure)\n",
    "\n",
    "#Enter To City\n",
    "t.click('//*[@id=\"flt-app\"]/div[2]/main[1]/div[4]/div/div[3]/div/div[2]/div[2]/div[2]')\n",
    "t.click('//*[@id=\"flt-app\"]/div[2]/main[1]/div[4]/div/div[3]/div/div[2]/div[2]/div[2]')\n",
    "t.type('//*[@id=\"sb_ifc50\"]/input',arrival)\n",
    "t.click('//*[@id=\"sbse0\"]/div[1]/div[1]/span[1]')\n",
    "\n",
    "#Enter Departing Date\n",
    "t.click('//*[@id=\"flt-app\"]/div[2]/main[1]/div[4]/div/div[3]/div/div[2]/div[4]/div[1]/div[2]/span')\n",
    "t.type('//*[@id=\"flt-app\"]/div[2]/main[1]/div[4]/div/div[3]/div/div[2]/div[4]/div[1]/div[2]/span',departDateV2)\n",
    "t.keyboard('[ENTER]')\n",
    "\n",
    "#Enter Returning Date\n",
    "t.click('//*[@id=\"flt-modaldialog\"]/div/div[4]/div[2]/div[3]/date-input/input')\n",
    "t.type('//*[@id=\"flt-modaldialog\"]/div/div[4]/div[2]/div[3]/date-input/input',returnDateV2)\n",
    "t.keyboard('[ENTER]')\n",
    "t.click('//*[@id=\"flt-app\"]/div[2]/main[1]/div[4]/div/div[3]/div/div[2]/div[1]')\n",
    "\n",
    "#Enter Search Button\n",
    "t.click('//*[@id=\"flt-app\"]/div[2]/main[1]/div[4]/div/div[3]/div/div[4]/floating-action-button/span')\n",
    "#Wait for the search results to load\n",
    "t.wait(3)\n",
    "\n",
    "#Sort by cheapest prices\n",
    "t.click('gws-flights-results__sort-button')\n",
    "t.click('//*[@id=\"flt-app\"]/div[2]/main[4]/div[7]/div[1]/div[5]/div[1]/div/div/dropdown-menu/div/div[2]/menu-item[2]')\n",
    "#The line of code below is used to scrape all entries in case you're interested to get more insights\n",
    "#scrape=t.read('flightModuleList')\n",
    "\n",
    "#Here we will just focus on getting the cheapest flight since we want to compare the cheapest across the 3 websites\n",
    "flightName = t.read('gws-flights__ellipsize')\n",
    "duration=t.read('gws-flights-results__duration flt-subhead1Normal')\n",
    "flightTime=t.read('gws-flights-results__times flt-subhead1')\n",
    "price=t.read('flt-subhead1 gws-flights-results__price')\n",
    "\n",
    "#This line of code is used to remove all whitespaces for us to analyze according if we intend to view all the entries\n",
    "#scrapeNoSpaces=\"\".join(scrape.split())\n",
    "\n",
    "#We will now remove all unnecessary whitespaces\n",
    "flightNameNoSpaces=\"\".join(flightName.split())\n",
    "durationNoSpaces=\"\".join(duration.split())\n",
    "flightTimeNoSpaces=\"\".join(flightTime.split())\n",
    "priceNoSpaces=\"\".join(price.split())\n",
    "\n",
    "#Print out the different details for debugging purposes\n",
    "#print(flightNameNoSpaces)\n",
    "#print(durationNoSpaces)\n",
    "#print(flightTimeNoSpaces)\n",
    "#print(priceNoSpaces)\n",
    "\n",
    "#create flight object\n",
    "flight = make_flight(flightNameNoSpaces,durationNoSpaces,flightTimeNoSpaces,priceNoSpaces)\n",
    "googleFlights.append(flight)\n",
    "\n",
    "#Save the URL for the User to access later if he/she wants to explore further on the other available search results\n",
    "searchResult3 = t.url()\n",
    "\n",
    "#Get snapshot of prices for display in notebook\n",
    "t.click('//*[@id=\"flt-app\"]/div[2]/main[4]/div[7]/div[1]/div[3]/div/div[2]/text-button[2]')\n",
    "t.wait(3)\n",
    "t.snap('page','priceGraph.png')\n",
    "#This line of code is for debugging purposes to make sure URL & flight objects is available & initialised respectively\n",
    "#print(t.url())\n",
    "#print(googleFlights)"
   ]
  },
  {
   "cell_type": "code",
   "execution_count": 7,
   "metadata": {},
   "outputs": [],
   "source": [
    "## We will do a simple score calculator here\n",
    "# print(score)\n",
    "class color:\n",
    "   PURPLE = '\\033[95m'\n",
    "   CYAN = '\\033[96m'\n",
    "   DARKCYAN = '\\033[36m'\n",
    "   BLUE = '\\033[94m'\n",
    "   GREEN = '\\033[92m'\n",
    "   YELLOW = '\\033[93m'\n",
    "   RED = '\\033[91m'\n",
    "   BOLD = '\\033[1m'\n",
    "   UNDERLINE = '\\033[4m'\n",
    "   END = '\\033[0m'"
   ]
  },
  {
   "cell_type": "code",
   "execution_count": 8,
   "metadata": {},
   "outputs": [
    {
     "name": "stdout",
     "output_type": "stream",
     "text": [
      "\u001b[4m\u001b[1mTravelocity's Cheapest Flight\u001b[0m\n",
      "Emirates\n",
      "23h10m\n",
      "9:40pm-8:50am\n",
      "$981\n",
      "\n",
      "\u001b[4m\u001b[1mExpedia's Cheapest Flight\u001b[0m\n",
      "Emirates\n",
      "23h20m\n",
      "9:40pm-9:00am\n",
      "$981\n",
      "\n",
      "\u001b[4m\u001b[1mGoogleFlights' Cheapest Flight\u001b[0m\n",
      "CathayPacific\n",
      "23h50m\n",
      "01:20–13:10\n",
      "$1,404\n"
     ]
    }
   ],
   "source": [
    "print(color.UNDERLINE+color.BOLD+'Travelocity\\'s Cheapest Flight'+color.END)\n",
    "for i in travelocity:\n",
    "    print(i.flightName)\n",
    "    print(i.duration)\n",
    "    print(i.flightTime)\n",
    "    print(i.price)\n",
    "print()\n",
    "print(color.UNDERLINE+color.BOLD+'Expedia\\'s Cheapest Flight'+color.END)\n",
    "for i in expedia:\n",
    "    print(i.flightName)\n",
    "    print(i.duration)\n",
    "    print(i.flightTime)\n",
    "    print(i.price)\n",
    "print()\n",
    "print(color.UNDERLINE+color.BOLD+'GoogleFlights\\' Cheapest Flight'+color.END)\n",
    "for i in googleFlights:\n",
    "    print(i.flightName)\n",
    "    print(i.duration)\n",
    "    print(i.flightTime)\n",
    "    print(i.price)\n"
   ]
  },
  {
   "cell_type": "code",
   "execution_count": 9,
   "metadata": {},
   "outputs": [
    {
     "data": {
      "text/html": [
       "<a target='_blank' href='https://www.travelocity.com/Flights-Search?flight-type=on&starDate=08%2F18%2F2020&endDate=08%2F29%2F2020&_xpid=11905%7C1&mode=search&trip=roundtrip&leg1=from%3ASingapore%2Cto%3ANew+York%2Cdeparture%3A08%2F18%2F2020TANYT&leg2=from%3ANew+York%2Cto%3ASingapore%2Cdeparture%3A08%2F29%2F2020TANYT&passengers=children%3A0%2Cadults%3A1%2Cseniors%3A0%2Cinfantinlap%3AY'> Click here to view Travelocity's Search Results</a>"
      ],
      "text/plain": [
       "<IPython.core.display.HTML object>"
      ]
     },
     "metadata": {},
     "output_type": "display_data"
    }
   ],
   "source": [
    "from IPython.display import display, HTML\n",
    "\n",
    "# create a string template for the HTML snippet\n",
    "link_t = \"<a target='_blank' href='{href}'> Click here to view Travelocity\\'s Search Results</a>\"\n",
    "link_t2 = \"<a target='_blank' href='{href}'> Click here to view Expedia\\'s Search Results</a>\"\n",
    "link_t3 = \"<a target='_blank' href='{href}'> Click here to view Google Flights\\' Search Results</a>\"\n",
    "\n",
    "# create HTML object, using the string template\n",
    "html = HTML(link_t.format(href=searchResult1))\n",
    "\n",
    "# display the HTML object to put the link on the page:\n",
    "display(html)"
   ]
  },
  {
   "cell_type": "code",
   "execution_count": 10,
   "metadata": {},
   "outputs": [
    {
     "data": {
      "text/html": [
       "<a target='_blank' href='https://www.expedia.com/Flights-Search?flight-type=on&starDate=08%2F18%2F2020&endDate=08%2F29%2F2020&mode=search&trip=roundtrip&leg1=from%3ASingapore%2Cto%3ANew+York%2Cdeparture%3A08%2F18%2F2020TANYT&leg2=from%3ANew+York%2Cto%3ASingapore%2Cdeparture%3A08%2F29%2F2020TANYT&passengers=children%3A0%2Cadults%3A1%2Cseniors%3A0%2Cinfantinlap%3AY'> Click here to view Expedia's Search Results</a>"
      ],
      "text/plain": [
       "<IPython.core.display.HTML object>"
      ]
     },
     "metadata": {},
     "output_type": "display_data"
    }
   ],
   "source": [
    "# create HTML object, using the string template\n",
    "html = HTML(link_t2.format(href=searchResult2))\n",
    "\n",
    "# display the HTML object to put the link on the page:\n",
    "display(html)"
   ]
  },
  {
   "cell_type": "code",
   "execution_count": 11,
   "metadata": {},
   "outputs": [
    {
     "data": {
      "text/html": [
       "<a target='_blank' href='https://www.google.com/flights#flt=/m/06t2t./m/02_286.2020-08-18*/m/02_286./m/06t2t.2020-08-29;c:SGD;e:1;so:1;sd:1;t:f'> Click here to view Google Flights' Search Results</a>"
      ],
      "text/plain": [
       "<IPython.core.display.HTML object>"
      ]
     },
     "metadata": {},
     "output_type": "display_data"
    }
   ],
   "source": [
    "# create HTML object, using the string template\n",
    "html = HTML(link_t3.format(href=searchResult3))\n",
    "\n",
    "# display the HTML object to put the link on the page:\n",
    "display(html)"
   ]
  },
  {
   "cell_type": "code",
   "execution_count": 12,
   "metadata": {},
   "outputs": [
    {
     "data": {
      "text/html": [
       "<img src=\"priceGraph.png\"/>"
      ],
      "text/plain": [
       "<IPython.core.display.Image object>"
      ]
     },
     "execution_count": 12,
     "metadata": {},
     "output_type": "execute_result"
    }
   ],
   "source": [
    "from IPython.display import Image\n",
    "from IPython.core.display import HTML \n",
    "Image(url= \"priceGraph.png\")"
   ]
  },
  {
   "cell_type": "code",
   "execution_count": 13,
   "metadata": {},
   "outputs": [
    {
     "data": {
      "text/plain": [
       "True"
      ]
     },
     "execution_count": 13,
     "metadata": {},
     "output_type": "execute_result"
    }
   ],
   "source": [
    "t.close()"
   ]
  },
  {
   "cell_type": "code",
   "execution_count": 14,
   "metadata": {},
   "outputs": [
    {
     "data": {
      "text/html": [
       "<script>\n",
       "code_show=true; \n",
       "function code_toggle() {\n",
       " if (code_show){\n",
       " $('div.input').hide();\n",
       " } else {\n",
       " $('div.input').show();\n",
       " }\n",
       " code_show = !code_show\n",
       "} \n",
       "$( document ).ready(code_toggle);\n",
       "</script>\n",
       "<form action=\"javascript:code_toggle()\"><input type=\"submit\" value=\"Click here to Hide/Show the raw code.\"></form>"
      ],
      "text/plain": [
       "<IPython.core.display.HTML object>"
      ]
     },
     "execution_count": 14,
     "metadata": {},
     "output_type": "execute_result"
    }
   ],
   "source": [
    "from IPython.display import HTML\n",
    "\n",
    "HTML('''<script>\n",
    "code_show=true; \n",
    "function code_toggle() {\n",
    " if (code_show){\n",
    " $('div.input').hide();\n",
    " } else {\n",
    " $('div.input').show();\n",
    " }\n",
    " code_show = !code_show\n",
    "} \n",
    "$( document ).ready(code_toggle);\n",
    "</script>\n",
    "<form action=\"javascript:code_toggle()\"><input type=\"submit\" value=\"Click here to Hide/Show the raw code.\"></form>''')"
   ]
  }
 ],
 "metadata": {
  "kernelspec": {
   "display_name": "Python 3",
   "language": "python",
   "name": "python3"
  },
  "language_info": {
   "codemirror_mode": {
    "name": "ipython",
    "version": 3
   },
   "file_extension": ".py",
   "mimetype": "text/x-python",
   "name": "python",
   "nbconvert_exporter": "python",
   "pygments_lexer": "ipython3",
   "version": "3.7.4"
  }
 },
 "nbformat": 4,
 "nbformat_minor": 2
}

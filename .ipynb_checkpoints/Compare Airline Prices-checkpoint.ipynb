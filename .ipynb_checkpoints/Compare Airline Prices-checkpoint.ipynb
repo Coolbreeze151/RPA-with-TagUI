{
 "cells": [
  {
   "cell_type": "markdown",
   "metadata": {},
   "source": [
    "## Comparing Airline Prices\n",
    "Recently found out how much it was a hassle to actually search up and find the best airline prices for our holiday plans. So this set me wondering if RPA would be able to help us automate this search process and perhaps list out everything we need to know in a more convenient manner. So in this project, we will be using TagUI to seamlessly pull out all relevant data we need to compare and decide on the right airline prices for us to decide from."
   ]
  },
  {
   "cell_type": "code",
   "execution_count": 1,
   "metadata": {},
   "outputs": [],
   "source": [
    "#pip install tagui"
   ]
  },
  {
   "cell_type": "code",
   "execution_count": 2,
   "metadata": {},
   "outputs": [],
   "source": [
    "import tagui as t"
   ]
  },
  {
   "cell_type": "markdown",
   "metadata": {},
   "source": [
    "There are actually plenty of websites available right now for users to compare prices across various airlines available. So for the regular person who may want to make sure these sites are reliable, its always good to compare the prices from a few sources. So in this script, we'll be comparing the prices from the [top 3 sites](https://www.smartertravel.com/the-best-flight-booking-sites/) available online for us to make the best comparisons in our airline prices.The 3 sites we will be using for this script will be Travelocity, Expedia and CheapOAir."
   ]
  },
  {
   "cell_type": "code",
   "execution_count": 3,
   "metadata": {},
   "outputs": [],
   "source": [
    "#departure = input(\"Enter Flying From City: \")\n",
    "#arrival = input(\"Enter Flying To City: \")\n",
    "#departDate = input(\"Enter Departing Date (dd/mm/yyyy): \")\n",
    "#returnDate = input(\"Enter Returning Date (dd/mm/yyyy): \")\n",
    "departure = 'Singapore'\n",
    "arrival = 'Tokyo'\n",
    "departDate = '10/10/2020'\n",
    "returnDate = '20/11/2020'"
   ]
  },
  {
   "cell_type": "code",
   "execution_count": 4,
   "metadata": {},
   "outputs": [
    {
     "data": {
      "text/plain": [
       "True"
      ]
     },
     "execution_count": 4,
     "metadata": {},
     "output_type": "execute_result"
    }
   ],
   "source": [
    "#Go through each of the top 3 websites to pull data and compare the various prices\n",
    "#urlFirst = 'https://www.cheapoair.com/'\n",
    "\n",
    "#Start with First URL Travelocity.com\n",
    "urlFirst = 'https://www.travelocity.com/'\n",
    "urlThird = 'https://www.expedia.com/'\n",
    "t.init(visual_automation = True, chrome_browser = True)\n",
    "t.url(urlFirst)\n",
    "#Enter From City\n",
    "t.click('//*[@id=\"tab-flight-tab-hp\"]/span[1]')\n",
    "t.type('//*[@id=\"flight-origin-hp-flight\"]',departure)\n",
    "\n",
    "#Enter To City\n",
    "t.type('//*[@id=\"flight-destination-hp-flight\"]','[clear]')\n",
    "t.type('//*[@id=\"flight-destination-hp-flight\"]',arrival)\n",
    "\n",
    "#Enter Departing Date\n",
    "t.type('//*[@id=\"flight-departing-hp-flight\"]','[clear]')\n",
    "t.type('//*[@id=\"flight-departing-hp-flight\"]',departDate)\n",
    "\n",
    "#Enter Returning Date\n",
    "t.click('//*[@id=\"flight-returning-hp-flight\"]')\n",
    "t.keyboard('[BACKSPACE][BACKSPACE][BACKSPACE][BACKSPACE]')\n",
    "t.type('//*[@id=\"flight-returning-hp-flight\"]',returnDate)\n",
    "\n"
   ]
  },
  {
   "cell_type": "code",
   "execution_count": 5,
   "metadata": {},
   "outputs": [],
   "source": [
    "#Next Website"
   ]
  },
  {
   "cell_type": "code",
   "execution_count": 6,
   "metadata": {},
   "outputs": [],
   "source": [
    "#Final Website"
   ]
  },
  {
   "cell_type": "code",
   "execution_count": 7,
   "metadata": {},
   "outputs": [
    {
     "data": {
      "text/plain": [
       "True"
      ]
     },
     "execution_count": 7,
     "metadata": {},
     "output_type": "execute_result"
    }
   ],
   "source": [
    "#Compare & Recommend Prices\n",
    "t.close()"
   ]
  },
  {
   "cell_type": "code",
   "execution_count": 8,
   "metadata": {},
   "outputs": [
    {
     "data": {
      "text/html": [
       "<script>\n",
       "code_show=true; \n",
       "function code_toggle() {\n",
       " if (code_show){\n",
       " $('div.input').hide();\n",
       " } else {\n",
       " $('div.input').show();\n",
       " }\n",
       " code_show = !code_show\n",
       "} \n",
       "$( document ).ready(code_toggle);\n",
       "</script>\n",
       "<form action=\"javascript:code_toggle()\"><input type=\"submit\" value=\"Click here to Hide/Show the raw code.\"></form>"
      ],
      "text/plain": [
       "<IPython.core.display.HTML object>"
      ]
     },
     "execution_count": 8,
     "metadata": {},
     "output_type": "execute_result"
    }
   ],
   "source": [
    "from IPython.display import HTML\n",
    "\n",
    "HTML('''<script>\n",
    "code_show=true; \n",
    "function code_toggle() {\n",
    " if (code_show){\n",
    " $('div.input').hide();\n",
    " } else {\n",
    " $('div.input').show();\n",
    " }\n",
    " code_show = !code_show\n",
    "} \n",
    "$( document ).ready(code_toggle);\n",
    "</script>\n",
    "<form action=\"javascript:code_toggle()\"><input type=\"submit\" value=\"Click here to Hide/Show the raw code.\"></form>''')"
   ]
  }
 ],
 "metadata": {
  "kernelspec": {
   "display_name": "Python 3",
   "language": "python",
   "name": "python3"
  },
  "language_info": {
   "codemirror_mode": {
    "name": "ipython",
    "version": 3
   },
   "file_extension": ".py",
   "mimetype": "text/x-python",
   "name": "python",
   "nbconvert_exporter": "python",
   "pygments_lexer": "ipython3",
   "version": "3.7.4"
  }
 },
 "nbformat": 4,
 "nbformat_minor": 2
}

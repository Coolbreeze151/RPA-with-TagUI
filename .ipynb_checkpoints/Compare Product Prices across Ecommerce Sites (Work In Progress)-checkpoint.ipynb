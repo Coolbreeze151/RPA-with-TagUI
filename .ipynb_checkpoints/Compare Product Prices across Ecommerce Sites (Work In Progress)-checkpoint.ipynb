{
 "cells": [
  {
   "cell_type": "markdown",
   "metadata": {},
   "source": [
    "## Compare Product Prices across Ecommerce Sites\n",
    "In this project we will help the user to compare prices across the different ECommerce sites using the top 4 ecommerce sites available.\n",
    "- [Shopee Singapore](www.shopee.sg)\n",
    "- [Carousell Singapore](https://sg.carousell.com/)\n",
    "- [Qoo10 Singapore](www.qoo10.sg)\n",
    "- [Lazada Singapore](www.lazada.sg)"
   ]
  },
  {
   "cell_type": "code",
   "execution_count": 1,
   "metadata": {},
   "outputs": [
    {
     "name": "stdout",
     "output_type": "stream",
     "text": [
      "Enter name of Product: Blazer\n"
     ]
    }
   ],
   "source": [
    "import tagui as t\n",
    "class Product(object):\n",
    "    productName = \"\"\n",
    "    price=\"\"\n",
    "    \n",
    "    \n",
    "def make_product(productName, price):\n",
    "    product = Product()\n",
    "    product.productName = productName\n",
    "    product.price = price\n",
    "    \n",
    "    return product\n",
    "\n",
    "\n",
    "productSearch = input(\"Enter name of Product: \")"
   ]
  },
  {
   "cell_type": "code",
   "execution_count": 2,
   "metadata": {},
   "outputs": [
    {
     "name": "stdout",
     "output_type": "stream",
     "text": [
      "Summer Autumn High Street Fashion Print Women's Blazer with Single-Breasted\n",
      "$33.12$14.90\n",
      "\n",
      "5 Kind of Style Long Sleeved Blazers Fashion Suit\n",
      "$20.00\n",
      "\n",
      "Women's blazer fashion plaid Korean retro thin jacket\n",
      "$40.00$16.80\n",
      "\n"
     ]
    }
   ],
   "source": [
    "shopee = list()\n",
    "\n",
    "#Start with First URL Travelocity.com\n",
    "urlFirst = 'https://www.shopee.sg/'\n",
    "urlSecond = 'https://sg.carousell.com/'\n",
    "urlThird = 'https://sg.carousell.com/'\n",
    "t.init(visual_automation = True, chrome_browser = True)\n",
    "t.url(urlFirst)\n",
    "\n",
    "t.type('/html/body/div[1]/div/div[2]/div[1]/div/div[2]/div/div[1]/div[1]/div/form/input',productSearch)\n",
    "t.click('/html/body/div[1]/div/div[2]/div[1]/div/div[2]/div/div[1]/div[1]/button')\n",
    "t.click('/html/body/div[1]/div/div[2]/div[1]/div/div[2]/div/div[1]/div[1]/button')\n",
    "\n",
    "price1  = t.read('/html/body/div[1]/div/div[2]/div[3]/div[2]/div/div[2]/div[1]/div/a/div/div[2]/div[2]')\n",
    "price2 = t.read('/html/body/div[1]/div/div[2]/div[3]/div[2]/div/div[2]/div[2]/div/a/div/div[2]/div[2]')\n",
    "price3 = t.read('/html/body/div[1]/div/div[2]/div[3]/div[2]/div/div[2]/div[3]/div/a/div/div[2]/div[2]')\n",
    "\n",
    "name1 = t.read('/html/body/div[1]/div/div[2]/div[3]/div[2]/div[2]/div[2]/div[1]/div/a/div/div[2]/div[1]/div')\n",
    "name2 = t.read('/html/body/div[1]/div/div[2]/div[3]/div[2]/div[2]/div[2]/div[2]/div/a/div/div[2]/div[1]/div')\n",
    "name3 = t.read('/html/body/div[1]/div/div[2]/div[3]/div[2]/div[2]/div[2]/div[3]/div/a/div/div[2]/div[1]/div')\n",
    "\n",
    "p1 = make_product(name1, price1)\n",
    "p2 = make_product(name2, price2)\n",
    "p3 = make_product(name3, price3)\n",
    "\n",
    "shopee.append(p1)\n",
    "shopee.append(p2)\n",
    "shopee.append(p3)\n",
    "\n",
    "for i in shopee:\n",
    "    print(i.productName)\n",
    "    print(i.price)\n",
    "    print()"
   ]
  },
  {
   "cell_type": "code",
   "execution_count": null,
   "metadata": {},
   "outputs": [],
   "source": [
    "#Carousell\n",
    "t.url(urlSecond)\n",
    "\n",
    "t.type('/html/body/div[1]/div/div[2]/div[1]/div/div[2]/div/div[1]/div[1]/div/form/input',productSearch)\n",
    "t.click('/html/body/div[1]/div/div[2]/div[1]/div/div[2]/div/div[1]/div[1]/button')\n",
    "t.click('/html/body/div[1]/div/div[2]/div[1]/div/div[2]/div/div[1]/div[1]/button')\n",
    "\n",
    "price1  = t.read('/html/body/div[1]/div/div[2]/div[3]/div[2]/div/div[2]/div[1]/div/a/div/div[2]/div[2]')\n",
    "price2 = t.read('/html/body/div[1]/div/div[2]/div[3]/div[2]/div/div[2]/div[2]/div/a/div/div[2]/div[2]')\n",
    "price3 = t.read('/html/body/div[1]/div/div[2]/div[3]/div[2]/div/div[2]/div[3]/div/a/div/div[2]/div[2]')\n",
    "\n",
    "name1 = t.read('/html/body/div[1]/div/div[2]/div[3]/div[2]/div[2]/div[2]/div[1]/div/a/div/div[2]/div[1]/div')\n",
    "name2 = t.read('/html/body/div[1]/div/div[2]/div[3]/div[2]/div[2]/div[2]/div[2]/div/a/div/div[2]/div[1]/div')\n",
    "name3 = t.read('/html/body/div[1]/div/div[2]/div[3]/div[2]/div[2]/div[2]/div[3]/div/a/div/div[2]/div[1]/div')\n",
    "\n",
    "p1 = make_product(name1, price1)\n",
    "p2 = make_product(name2, price2)\n",
    "p3 = make_product(name3, price3)\n",
    "\n",
    "shopee.append(p1)\n",
    "shopee.append(p2)\n",
    "shopee.append(p3)\n",
    "\n",
    "for i in shopee:\n",
    "    print(i.productName)\n",
    "    print(i.price)\n",
    "    print()"
   ]
  },
  {
   "cell_type": "code",
   "execution_count": null,
   "metadata": {},
   "outputs": [],
   "source": [
    "#Qoo10"
   ]
  },
  {
   "cell_type": "code",
   "execution_count": null,
   "metadata": {},
   "outputs": [],
   "source": [
    "#Lazada"
   ]
  },
  {
   "cell_type": "code",
   "execution_count": null,
   "metadata": {},
   "outputs": [],
   "source": [
    "#Comparison of Prices"
   ]
  },
  {
   "cell_type": "code",
   "execution_count": null,
   "metadata": {},
   "outputs": [],
   "source": [
    "t.close()"
   ]
  },
  {
   "cell_type": "code",
   "execution_count": null,
   "metadata": {},
   "outputs": [],
   "source": []
  },
  {
   "cell_type": "code",
   "execution_count": null,
   "metadata": {},
   "outputs": [],
   "source": []
  }
 ],
 "metadata": {
  "kernelspec": {
   "display_name": "Python 3",
   "language": "python",
   "name": "python3"
  },
  "language_info": {
   "codemirror_mode": {
    "name": "ipython",
    "version": 3
   },
   "file_extension": ".py",
   "mimetype": "text/x-python",
   "name": "python",
   "nbconvert_exporter": "python",
   "pygments_lexer": "ipython3",
   "version": "3.7.4"
  }
 },
 "nbformat": 4,
 "nbformat_minor": 2
}

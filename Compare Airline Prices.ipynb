{
 "cells": [
  {
   "cell_type": "markdown",
   "metadata": {},
   "source": [
    "## Comparing Airline Prices\n",
    "Recently found out how much it was a hassle to actually search up and find the best airline prices for our holiday plans. So this set me wondering if RPA would be able to help us automate this search process and perhaps list out everything we need to know in a more convenient manner. So in this project, we will be using TagUI to seamlessly pull out all relevant data we need to compare and decide on the right airline prices (Roundtrip) for us to decide from."
   ]
  },
  {
   "cell_type": "code",
   "execution_count": 31,
   "metadata": {},
   "outputs": [],
   "source": [
    "#pip install tagui"
   ]
  },
  {
   "cell_type": "code",
   "execution_count": 32,
   "metadata": {},
   "outputs": [],
   "source": [
    "import tagui as t"
   ]
  },
  {
   "cell_type": "code",
   "execution_count": 33,
   "metadata": {},
   "outputs": [],
   "source": [
    "class Flight(object):\n",
    "    flightName = \"\"\n",
    "    flightTime=\"\"\n",
    "    duration = \"\"\n",
    "    price =\"\"\n",
    "    \n",
    "    \n",
    "def make_flight(flightName, duration,flightTime, price):\n",
    "    flight = Flight()\n",
    "    flight.flightName = flightName\n",
    "    flight.duration = duration\n",
    "    flight.flightTime = flightTime\n",
    "    flight.price = price\n",
    "    \n",
    "\n",
    "    return flight"
   ]
  },
  {
   "cell_type": "markdown",
   "metadata": {},
   "source": [
    "There are actually plenty of websites available right now for users to compare prices across various airlines available. So for the regular person who may want to make sure these sites are reliable, its always good to compare the prices from a few sources. So in this script, we'll be comparing the prices from the [top 3 sites](https://www.smartertravel.com/the-best-flight-booking-sites/) available online for us to make the best comparisons in our airline prices.The 3 sites we will be using for this script will be Travelocity, Expedia and CheapOAir."
   ]
  },
  {
   "cell_type": "code",
   "execution_count": 34,
   "metadata": {},
   "outputs": [],
   "source": [
    "#departure = input(\"Enter Flying From City: \")\n",
    "#arrival = input(\"Enter Flying To City: \")\n",
    "#departDate = input(\"Enter Departing Date (dd/mm/yyyy): \")\n",
    "#returnDate = input(\"Enter Returning Date (dd/mm/yyyy): \")\n",
    "departure = 'Singapore'\n",
    "arrival = 'Tokyo'\n",
    "departDate = '10/10/2020'\n",
    "returnDate = '20/11/2020'"
   ]
  },
  {
   "cell_type": "code",
   "execution_count": 35,
   "metadata": {},
   "outputs": [],
   "source": [
    "#Create 3 separate lists to hold the different airline information from each website.\n",
    "travelocity = list()\n",
    "traveloka = list()\n",
    "expedia = list()"
   ]
  },
  {
   "cell_type": "code",
   "execution_count": null,
   "metadata": {},
   "outputs": [],
   "source": [
    "#Go through each of the top 3 websites to pull data and compare the various prices\n",
    "#urlFirst = 'https://www.cheapoair.com/'\n",
    "\n",
    "#Start with First URL Travelocity.com\n",
    "urlFirst = 'https://www.travelocity.com/'\n",
    "urlThird = 'https://www.expedia.com/'\n",
    "t.init(visual_automation = True, chrome_browser = True)\n",
    "t.url(urlFirst)\n",
    "\n",
    "t.wait(6)\n",
    "t.click(50,50)\n",
    "\n",
    "\n",
    "#Enter Returning Date\n",
    "t.click('//*[@id=\"flight-returning-hp-flight\"]')\n",
    "t.type('//*[@id=\"flight-returning-hp-flight\"]','[clear]10/10/2020')\n",
    "\n",
    "#Enter Departing Date\n",
    "t.dclick('//*[@id=\"flight-departing-hp-flight\"]')\n",
    "t.type('//*[@id=\"flight-departing-hp-flight\"]',departDate)\n",
    "\n",
    "\n",
    "#Enter From City\n",
    "t.wait(2)\n",
    "t.click('//*[@id=\"tab-flight-tab-hp\"]/span[1]')\n",
    "\n",
    "t.click('//*[@id=\"flight-origin-hp-flight\"]')\n",
    "t.type('//*[@id=\"flight-origin-hp-flight\"]',departure)\n",
    "\n",
    "#Enter To City\n",
    "t.click('//*[@id=\"flight-destination-hp-flight\"]')\n",
    "t.type('//*[@id=\"flight-destination-hp-flight\"]',arrival)\n",
    "\n",
    "#Enter Search Button\n",
    "t.click('//*[@id=\"gcw-flights-form-flp\"]/div[8]/label/button')\n",
    "\n",
    "#Wait for the search results to load\n",
    "t.wait(6)\n",
    "\n",
    "flightName=t.read('//*[@id=\"flight-module-2020-01-04t22:45:00+08:00-coach-sin-dmk-fd-352_2020-01-06t16:40:00+07:00-coach-dmk-sin-fd-351_\"]/div[1]/div[1]/div[1]/div/div/div/div[1]/div[2]/span')\n",
    "duration=t.read('//*[@id=\"flight-module-2020-01-04t22:45:00+08:00-coach-sin-dmk-fd-352_2020-01-06t16:40:00+07:00-coach-dmk-sin-fd-351_\"]/div[1]/div[1]/div[1]/div/div/div/div[2]/div[1]')\n",
    "flightTime=t.read('//*[@id=\"flight-module-2020-01-04t22:45:00+08:00-coach-sin-dmk-fd-352_2020-01-06t16:40:00+07:00-coach-dmk-sin-fd-351_\"]/div[1]/div[1]/div[1]/div/div/div/div[1]/div[1]/span[1]')\n",
    "price=t.read('//*[@id=\"flight-module-2020-01-04t22:45:00+08:00-coach-sin-dmk-fd-352_2020-01-06t16:40:00+07:00-coach-dmk-sin-fd-351_\"]/div[1]/div[1]/div[2]/div/div[1]/div[1]/span')\n",
    "\n",
    "print(flightName)\n",
    "print(duration)\n",
    "print(flightTime)\n",
    "print(price)\n"
   ]
  },
  {
   "cell_type": "code",
   "execution_count": null,
   "metadata": {},
   "outputs": [],
   "source": [
    "#Next Website"
   ]
  },
  {
   "cell_type": "code",
   "execution_count": null,
   "metadata": {},
   "outputs": [],
   "source": [
    "#Final Website"
   ]
  },
  {
   "cell_type": "code",
   "execution_count": null,
   "metadata": {},
   "outputs": [],
   "source": [
    "#Compare & Recommend Prices\n",
    "t.close()"
   ]
  },
  {
   "cell_type": "code",
   "execution_count": null,
   "metadata": {},
   "outputs": [],
   "source": [
    "from IPython.display import HTML\n",
    "\n",
    "HTML('''<script>\n",
    "code_show=true; \n",
    "function code_toggle() {\n",
    " if (code_show){\n",
    " $('div.input').hide();\n",
    " } else {\n",
    " $('div.input').show();\n",
    " }\n",
    " code_show = !code_show\n",
    "} \n",
    "$( document ).ready(code_toggle);\n",
    "</script>\n",
    "<form action=\"javascript:code_toggle()\"><input type=\"submit\" value=\"Click here to Hide/Show the raw code.\"></form>''')"
   ]
  }
 ],
 "metadata": {
  "kernelspec": {
   "display_name": "Python 3",
   "language": "python",
   "name": "python3"
  },
  "language_info": {
   "codemirror_mode": {
    "name": "ipython",
    "version": 3
   },
   "file_extension": ".py",
   "mimetype": "text/x-python",
   "name": "python",
   "nbconvert_exporter": "python",
   "pygments_lexer": "ipython3",
   "version": "3.7.4"
  }
 },
 "nbformat": 4,
 "nbformat_minor": 2
}

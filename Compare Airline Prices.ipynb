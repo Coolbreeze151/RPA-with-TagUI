{
 "cells": [
  {
   "cell_type": "markdown",
   "metadata": {},
   "source": [
    "## Comparing Airline Prices\n",
    "Recently found out how much it was a hassle to actually search up and find the best airline prices for our holiday plans. So this set me wondering if RPA would be able to help us automate this search process and perhaps list out everything we need to know in a more convenient manner. So in this project, we will be using TagUI to seamlessly pull out all relevant data we need to compare and decide on the right airline prices (Roundtrip) for us to decide from."
   ]
  },
  {
   "cell_type": "code",
   "execution_count": 1,
   "metadata": {},
   "outputs": [],
   "source": [
    "#pip install tagui"
   ]
  },
  {
   "cell_type": "code",
   "execution_count": 2,
   "metadata": {},
   "outputs": [],
   "source": [
    "import tagui as t"
   ]
  },
  {
   "cell_type": "code",
   "execution_count": 3,
   "metadata": {},
   "outputs": [],
   "source": [
    "class Flight(object):\n",
    "    flightName = \"\"\n",
    "    flightTime=\"\"\n",
    "    duration = \"\"\n",
    "    price =\"\"\n",
    "    \n",
    "    \n",
    "def make_flight(flightName, duration,flightTime, price):\n",
    "    flight = Flight()\n",
    "    flight.flightName = flightName\n",
    "    flight.duration = duration\n",
    "    flight.flightTime = flightTime\n",
    "    flight.price = price\n",
    "    \n",
    "\n",
    "    return flight"
   ]
  },
  {
   "cell_type": "markdown",
   "metadata": {},
   "source": [
    "There are actually plenty of websites available right now for users to compare prices across various airlines available. So for the regular person who may want to make sure these sites are reliable, its always good to compare the prices from a few sources. So in this script, we'll be comparing the prices from the [top 3 sites](https://www.smartertravel.com/the-best-flight-booking-sites/) available online for us to make the best comparisons in our airline prices.The 3 sites we will be using for this script will be Travelocity, Expedia and CheapOAir."
   ]
  },
  {
   "cell_type": "code",
   "execution_count": 4,
   "metadata": {},
   "outputs": [],
   "source": [
    "#departure = input(\"Enter Flying From City: \")\n",
    "#arrival = input(\"Enter Flying To City: \")\n",
    "#departDate = input(\"Enter Departing Date (dd/mm/yyyy): \")\n",
    "#returnDate = input(\"Enter Returning Date (dd/mm/yyyy): \")\n",
    "departure = 'Singapore'\n",
    "arrival = 'Tokyo'\n",
    "departDate = '10/10/2020'\n",
    "returnDate = '10/22/2020'"
   ]
  },
  {
   "cell_type": "code",
   "execution_count": 5,
   "metadata": {},
   "outputs": [],
   "source": [
    "#Create 3 separate lists to hold the different airline information from each website.\n",
    "travelocity = list()\n",
    "traveloka = list()\n",
    "expedia = list()"
   ]
  },
  {
   "cell_type": "code",
   "execution_count": 6,
   "metadata": {},
   "outputs": [
    {
     "name": "stdout",
     "output_type": "stream",
     "text": [
      "[TAGUI][ERROR] - cannot find //*[@id=\"flight-module-2020-01-04t22:45:00+08:00-coach-sin-dmk-fd-352_2020-01-06t16:40:00+07:00-coach-dmk-sin-fd-351_\"]/div[1]/div[1]/div[1]/div/div/div/div[1]/div[2]/span\n",
      "[TAGUI][ERROR] - cannot find //*[@id=\"flight-module-2020-01-04t22:45:00+08:00-coach-sin-dmk-fd-352_2020-01-06t16:40:00+07:00-coach-dmk-sin-fd-351_\"]/div[1]/div[1]/div[1]/div/div/div/div[2]/div[1]\n",
      "[TAGUI][ERROR] - cannot find //*[@id=\"flight-module-2020-01-04t22:45:00+08:00-coach-sin-dmk-fd-352_2020-01-06t16:40:00+07:00-coach-dmk-sin-fd-351_\"]/div[1]/div[1]/div[1]/div/div/div/div[1]/div[1]/span[1]\n",
      "[TAGUI][ERROR] - cannot find //*[@id=\"flight-module-2020-01-04t22:45:00+08:00-coach-sin-dmk-fd-352_2020-01-06t16:40:00+07:00-coach-dmk-sin-fd-351_\"]/div[1]/div[1]/div[2]/div/div[1]/div[1]/span\n",
      "\n",
      "\n",
      "\n",
      "\n"
     ]
    }
   ],
   "source": [
    "#Go through each of the top 3 websites to pull data and compare the various prices\n",
    "#urlFirst = 'https://www.cheapoair.com/'\n",
    "\n",
    "#Start with First URL Travelocity.com\n",
    "urlFirst = 'https://www.travelocity.com/'\n",
    "urlThird = 'https://www.expedia.com/'\n",
    "t.init(visual_automation = True, chrome_browser = True)\n",
    "t.url(urlFirst)\n",
    "\n",
    "t.wait(6)\n",
    "t.click('//*[@id=\"tab-flight-tab-hp\"]/span[1]')\n",
    "\n",
    "#Enter Returning Date\n",
    "t.click(1300,800) #This ensures that keyboard strokes used are targetted on screen and not on URL field, adjust if required.\n",
    "t.click('//*[@id=\"flight-returning-hp-flight\"]')\n",
    "t.keyboard('[ctrl][a]')\n",
    "t.keyboard('[backspace]')\n",
    "t.type('//*[@id=\"flight-returning-hp-flight\"]',returnDate)\n",
    "\n",
    "#Enter Departing Date\n",
    "t.click('//*[@id=\"flight-departing-hp-flight\"]')\n",
    "t.keyboard('[ctrl][a]')\n",
    "t.keyboard('[backspace]')\n",
    "t.type('//*[@id=\"flight-departing-hp-flight\"]',departDate)\n",
    "\n",
    "\n",
    "#Enter From City\n",
    "t.click('//*[@id=\"flight-origin-hp-flight\"]')\n",
    "t.type('//*[@id=\"flight-origin-hp-flight\"]',departure)\n",
    "\n",
    "#Enter To City\n",
    "t.click('//*[@id=\"flight-destination-hp-flight\"]')\n",
    "t.type('//*[@id=\"flight-destination-hp-flight\"]',arrival)\n",
    "\n",
    "#Enter Search Button\n",
    "t.click('/html/body/meso-native-marquee/section/div/div/div[1]/div/div/div[1]/div/section[1]/form/div[8]/label/button')\n",
    "#Wait for the search results to load\n",
    "t.wait(20)\n",
    "\n",
    "flightName=t.read('//*[@id=\"flight-module-2020-01-04t22:45:00+08:00-coach-sin-dmk-fd-352_2020-01-06t16:40:00+07:00-coach-dmk-sin-fd-351_\"]/div[1]/div[1]/div[1]/div/div/div/div[1]/div[2]/span')\n",
    "duration=t.read('//*[@id=\"flight-module-2020-01-04t22:45:00+08:00-coach-sin-dmk-fd-352_2020-01-06t16:40:00+07:00-coach-dmk-sin-fd-351_\"]/div[1]/div[1]/div[1]/div/div/div/div[2]/div[1]')\n",
    "flightTime=t.read('//*[@id=\"flight-module-2020-01-04t22:45:00+08:00-coach-sin-dmk-fd-352_2020-01-06t16:40:00+07:00-coach-dmk-sin-fd-351_\"]/div[1]/div[1]/div[1]/div/div/div/div[1]/div[1]/span[1]')\n",
    "price=t.read('//*[@id=\"flight-module-2020-01-04t22:45:00+08:00-coach-sin-dmk-fd-352_2020-01-06t16:40:00+07:00-coach-dmk-sin-fd-351_\"]/div[1]/div[1]/div[2]/div/div[1]/div[1]/span')\n",
    "\n",
    "print(flightName)\n",
    "print(duration)\n",
    "print(flightTime)\n",
    "print(price)\n"
   ]
  },
  {
   "cell_type": "code",
   "execution_count": 7,
   "metadata": {},
   "outputs": [],
   "source": [
    "#Next Website"
   ]
  },
  {
   "cell_type": "code",
   "execution_count": 8,
   "metadata": {},
   "outputs": [],
   "source": [
    "#Final Website"
   ]
  },
  {
   "cell_type": "code",
   "execution_count": 9,
   "metadata": {},
   "outputs": [
    {
     "data": {
      "text/plain": [
       "True"
      ]
     },
     "execution_count": 9,
     "metadata": {},
     "output_type": "execute_result"
    }
   ],
   "source": [
    "#Compare & Recommend Prices\n",
    "t.close()"
   ]
  },
  {
   "cell_type": "code",
   "execution_count": 10,
   "metadata": {},
   "outputs": [
    {
     "data": {
      "text/html": [
       "<script>\n",
       "code_show=true; \n",
       "function code_toggle() {\n",
       " if (code_show){\n",
       " $('div.input').hide();\n",
       " } else {\n",
       " $('div.input').show();\n",
       " }\n",
       " code_show = !code_show\n",
       "} \n",
       "$( document ).ready(code_toggle);\n",
       "</script>\n",
       "<form action=\"javascript:code_toggle()\"><input type=\"submit\" value=\"Click here to Hide/Show the raw code.\"></form>"
      ],
      "text/plain": [
       "<IPython.core.display.HTML object>"
      ]
     },
     "execution_count": 10,
     "metadata": {},
     "output_type": "execute_result"
    }
   ],
   "source": [
    "from IPython.display import HTML\n",
    "\n",
    "HTML('''<script>\n",
    "code_show=true; \n",
    "function code_toggle() {\n",
    " if (code_show){\n",
    " $('div.input').hide();\n",
    " } else {\n",
    " $('div.input').show();\n",
    " }\n",
    " code_show = !code_show\n",
    "} \n",
    "$( document ).ready(code_toggle);\n",
    "</script>\n",
    "<form action=\"javascript:code_toggle()\"><input type=\"submit\" value=\"Click here to Hide/Show the raw code.\"></form>''')"
   ]
  }
 ],
 "metadata": {
  "kernelspec": {
   "display_name": "Python 3",
   "language": "python",
   "name": "python3"
  },
  "language_info": {
   "codemirror_mode": {
    "name": "ipython",
    "version": 3
   },
   "file_extension": ".py",
   "mimetype": "text/x-python",
   "name": "python",
   "nbconvert_exporter": "python",
   "pygments_lexer": "ipython3",
   "version": "3.7.4"
  }
 },
 "nbformat": 4,
 "nbformat_minor": 2
}

{
 "cells": [
  {
   "cell_type": "markdown",
   "metadata": {},
   "source": [
    "### Comparing Airline Prices\n",
    "Recently found out how much it was a hassle to actually search up and find the best airline prices for our holiday plans. So this set me wondering if RPA would be able to help us automate this search process and perhaps list out everything we need to know in a more convenient manner. So in this project, we will be using TagUI to seamlessly pull out all relevant data we need to compare and decide on the right airline prices for us to decide from."
   ]
  },
  {
   "cell_type": "code",
   "execution_count": null,
   "metadata": {},
   "outputs": [],
   "source": [
    "#pip install tagui"
   ]
  },
  {
   "cell_type": "code",
   "execution_count": 1,
   "metadata": {},
   "outputs": [],
   "source": [
    "import tagui as t"
   ]
  },
  {
   "cell_type": "markdown",
   "metadata": {},
   "source": [
    "[top 3 sites](https://www.smartertravel.com/the-best-flight-booking-sites/)\n",
    "\n",
    "Plenty of sites to use to compare --> Always good to compare from a few sources. So we will pick top 3 sites here and get the best price comparisons"
   ]
  },
  {
   "cell_type": "code",
   "execution_count": null,
   "metadata": {},
   "outputs": [],
   "source": [
    "#Go through each of the top 3 websites to pull data and compare the various prices\n",
    "url = 'https://sg.finance.yahoo.com/quote/'\n",
    "t.init(visual_automation = True, chrome_browser = True)\n"
   ]
  }
 ],
 "metadata": {
  "kernelspec": {
   "display_name": "Python 3",
   "language": "python",
   "name": "python3"
  },
  "language_info": {
   "codemirror_mode": {
    "name": "ipython",
    "version": 3
   },
   "file_extension": ".py",
   "mimetype": "text/x-python",
   "name": "python",
   "nbconvert_exporter": "python",
   "pygments_lexer": "ipython3",
   "version": "3.7.4"
  }
 },
 "nbformat": 4,
 "nbformat_minor": 2
}

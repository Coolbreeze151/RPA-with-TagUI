{
 "cells": [
  {
   "cell_type": "markdown",
   "metadata": {},
   "source": [
    "## Get Movie Recommendations and Reviews\n",
    "\n",
    "I'm someone who loves to catch movies every Saturday. However, time and time again it has been a hassle for me to quickly search up the movies I can catch for the upcoming Saturday. So this script is meant for me to do a quick check on movie reviews and recommendataions for the Saturday. As an addition, I'll pull up some movie reviews for the movies to help me decide if its worthwhile to catch the movie. I usually catch my movies at Shaw Seletar so we will be using Shaw Seletar movie options as the point of reference"
   ]
  },
  {
   "cell_type": "code",
   "execution_count": 1,
   "metadata": {},
   "outputs": [],
   "source": [
    "## We will do a simple score calculator here\n",
    "# print(score)\n",
    "class color:\n",
    "   PURPLE = '\\033[95m'\n",
    "   CYAN = '\\033[96m'\n",
    "   DARKCYAN = '\\033[36m'\n",
    "   BLUE = '\\033[94m'\n",
    "   GREEN = '\\033[92m'\n",
    "   YELLOW = '\\033[93m'\n",
    "   RED = '\\033[91m'\n",
    "   BOLD = '\\033[1m'\n",
    "   UNDERLINE = '\\033[4m'\n",
    "   END = '\\033[0m'"
   ]
  },
  {
   "cell_type": "code",
   "execution_count": 2,
   "metadata": {},
   "outputs": [],
   "source": [
    "import tagui as t\n",
    "class Movie(object):\n",
    "    movieName = \"\"\n",
    "    tomatoes = \"\"\n",
    "    popcorn = \"\"\n",
    "    \n",
    "def make_movie(movieName):\n",
    "    movie = Movie()\n",
    "    movie.movieName = movieName\n",
    "    movie.tomatoes = tomatoes\n",
    "    movie.popcorn = popcorn\n",
    "    \n",
    "    return movie"
   ]
  },
  {
   "cell_type": "code",
   "execution_count": 3,
   "metadata": {},
   "outputs": [],
   "source": [
    "#Go through List of Current Movies\n",
    "#Go through comments\n",
    "\n",
    "t.init(visual_automation = True, chrome_browser = True)\n",
    "t.url('https://www.popcorn.app/sg/shaw-theatres/shaw-seletar/cinema/45')\n",
    "movie1 = t.read('/html/body/div[7]/div[2]/div/div/div/div[2]/div[2]/a/h4')\n",
    "movie2 = t.read('/html/body/div[7]/div[2]/div/div/div/div[3]/div[2]/a/h4')\n",
    "movie3 = t.read('/html/body/div[7]/div[2]/div/div/div/div[4]/div[2]/a/h4')\n",
    "    "
   ]
  },
  {
   "cell_type": "code",
   "execution_count": 4,
   "metadata": {},
   "outputs": [
    {
     "name": "stdout",
     "output_type": "stream",
     "text": [
      "\u001b[4m\u001b[1mTop 3 Movies at Shaw Seletar\u001b[0m\n",
      "1917\n",
      "Darbar\n",
      "Dolittle\n"
     ]
    }
   ],
   "source": [
    "search1 = movie1+\" movie ratings\"\n",
    "search2 = movie2+\" movie ratings\"\n",
    "search3 = movie3+\" movie ratings\"\n",
    "\n",
    "t.url('https://www.google.com/')\n",
    "t.keyboard(search1)\n",
    "t.keyboard('[enter]')\n",
    "t.wait(10)\n",
    "t.snap('page', 'movie1.png')\n",
    "\n",
    "t.url('https://www.google.com/')\n",
    "t.keyboard(search2)\n",
    "t.keyboard('[enter]')\n",
    "t.wait(10)\n",
    "t.snap('page', 'movie2.png')\n",
    "\n",
    "t.url('https://www.google.com/')\n",
    "t.keyboard(search3)\n",
    "t.keyboard('[enter]')\n",
    "t.wait(10)\n",
    "t.snap('page', 'movie3.png')\n",
    "\n",
    "trailer1 = movie1 + \" trailer\"\n",
    "trailer2 = movie2 + \" trailer\"\n",
    "trailer3 = movie3 + \" trailer\"\n",
    "\n",
    "t.url('https://www.youtube.com')\n",
    "t.type('/html/body/ytd-app/div/div/ytd-masthead/div[3]/ytd-searchbox/form/div/div[1]/input',trailer1)\n",
    "t.click('/html/body/ytd-app/div/div/ytd-masthead/div[3]/ytd-searchbox/form/button')\n",
    "t.click('/html/body/ytd-app/div/ytd-page-manager/ytd-search/div[1]/ytd-two-column-search-results-renderer/div/ytd-section-list-renderer/div[2]/ytd-item-section-renderer/div[3]/ytd-video-renderer[1]/div[1]/div/div[1]/div/h3/a/yt-formatted-string')\n",
    "trailer1 = t.url()\n",
    "\n",
    "\n",
    "t.url('https://www.youtube.com')\n",
    "t.type('/html/body/ytd-app/div/div/ytd-masthead/div[3]/ytd-searchbox/form/div/div[1]/input',trailer2)\n",
    "t.click('/html/body/ytd-app/div/div/ytd-masthead/div[3]/ytd-searchbox/form/button')\n",
    "t.click('/html/body/ytd-app/div/ytd-page-manager/ytd-search/div[1]/ytd-two-column-search-results-renderer/div/ytd-section-list-renderer/div[2]/ytd-item-section-renderer/div[3]/ytd-video-renderer[1]/div[1]/div/div[1]/div/h3/a/yt-formatted-string')\n",
    "trailer2 = t.url()\n",
    "\n",
    "\n",
    "t.url('https://www.youtube.com')\n",
    "t.type('/html/body/ytd-app/div/div/ytd-masthead/div[3]/ytd-searchbox/form/div/div[1]/input',trailer3)\n",
    "t.click('/html/body/ytd-app/div/div/ytd-masthead/div[3]/ytd-searchbox/form/button')\n",
    "t.click('/html/body/ytd-app/div/ytd-page-manager/ytd-search/div[1]/ytd-two-column-search-results-renderer/div/ytd-section-list-renderer/div[2]/ytd-item-section-renderer/div[3]/ytd-video-renderer[1]/div[1]/div/div[1]/div/h3/a/yt-formatted-string')\n",
    "trailer3 = t.url()\n",
    "\n",
    "\n",
    "print(color.UNDERLINE+color.BOLD +\"Top 3 Movies at Shaw Seletar\"+color.END)\n",
    "print(movie1)\n",
    "print(movie2)\n",
    "print(movie3)"
   ]
  },
  {
   "cell_type": "code",
   "execution_count": 5,
   "metadata": {},
   "outputs": [],
   "source": [
    "my_string=trailer1\n",
    "trailer1 = \"https://www.youtube.com/embed/\"+my_string.split(\"=\",1)[1]\n",
    "\n",
    "my_string=trailer2\n",
    "trailer2 = \"https://www.youtube.com/embed/\"+my_string.split(\"=\",1)[1]\n",
    "\n",
    "my_string=trailer3\n",
    "trailer3 = \"https://www.youtube.com/embed/\"+my_string.split(\"=\",1)[1]"
   ]
  },
  {
   "cell_type": "markdown",
   "metadata": {},
   "source": [
    "### First Movie Pick"
   ]
  },
  {
   "cell_type": "code",
   "execution_count": 6,
   "metadata": {
    "scrolled": true
   },
   "outputs": [
    {
     "data": {
      "text/html": [
       "<iframe width=\"560\" height=\"315\" src=\"https://www.youtube.com/embed/gZjQROMAh_s\" frameborder=\"0\" allowfullscreen></iframe>'"
      ],
      "text/plain": [
       "<IPython.core.display.HTML object>"
      ]
     },
     "execution_count": 6,
     "metadata": {},
     "output_type": "execute_result"
    }
   ],
   "source": [
    "from IPython.display import HTML\n",
    "value = \"<iframe width=\\\"560\\\" height=\\\"315\\\" src=\\\"\" + trailer1 + \"\\\" frameborder=\\\"0\\\" allowfullscreen></iframe>\\'\"\n",
    "# Youtube\n",
    "HTML(value)\n"
   ]
  },
  {
   "cell_type": "code",
   "execution_count": 7,
   "metadata": {
    "scrolled": true
   },
   "outputs": [
    {
     "data": {
      "text/html": [
       "<img src=\"movie1.png\"/>"
      ],
      "text/plain": [
       "<IPython.core.display.Image object>"
      ]
     },
     "execution_count": 7,
     "metadata": {},
     "output_type": "execute_result"
    }
   ],
   "source": [
    "from IPython.display import Image\n",
    "from IPython.core.display import HTML \n",
    "Image(url= \"movie1.png\")"
   ]
  },
  {
   "cell_type": "markdown",
   "metadata": {},
   "source": [
    "### Second Movie Pick"
   ]
  },
  {
   "cell_type": "code",
   "execution_count": 8,
   "metadata": {
    "scrolled": false
   },
   "outputs": [
    {
     "data": {
      "text/html": [
       "<iframe width=\"560\" height=\"315\" src=\"https://www.youtube.com/embed/1JlLi9pDaJE\" frameborder=\"0\" allowfullscreen></iframe>'"
      ],
      "text/plain": [
       "<IPython.core.display.HTML object>"
      ]
     },
     "execution_count": 8,
     "metadata": {},
     "output_type": "execute_result"
    }
   ],
   "source": [
    "value = \"<iframe width=\\\"560\\\" height=\\\"315\\\" src=\\\"\" + trailer2 + \"\\\" frameborder=\\\"0\\\" allowfullscreen></iframe>\\'\"\n",
    "# Youtube\n",
    "HTML(value)\n"
   ]
  },
  {
   "cell_type": "code",
   "execution_count": 9,
   "metadata": {
    "scrolled": true
   },
   "outputs": [
    {
     "data": {
      "text/html": [
       "<img src=\"movie2.png\"/>"
      ],
      "text/plain": [
       "<IPython.core.display.Image object>"
      ]
     },
     "execution_count": 9,
     "metadata": {},
     "output_type": "execute_result"
    }
   ],
   "source": [
    "Image(url= \"movie2.png\")"
   ]
  },
  {
   "cell_type": "markdown",
   "metadata": {},
   "source": [
    "### Third Movie Pick"
   ]
  },
  {
   "cell_type": "code",
   "execution_count": 10,
   "metadata": {
    "scrolled": true
   },
   "outputs": [
    {
     "data": {
      "text/html": [
       "<iframe width=\"560\" height=\"315\" src=\"https://www.youtube.com/embed/hej47fWFLQs\" frameborder=\"0\" allowfullscreen></iframe>'"
      ],
      "text/plain": [
       "<IPython.core.display.HTML object>"
      ]
     },
     "execution_count": 10,
     "metadata": {},
     "output_type": "execute_result"
    }
   ],
   "source": [
    "value = \"<iframe width=\\\"560\\\" height=\\\"315\\\" src=\\\"\" + trailer3 + \"\\\" frameborder=\\\"0\\\" allowfullscreen></iframe>\\'\"\n",
    "# Youtube\n",
    "HTML(value)\n"
   ]
  },
  {
   "cell_type": "code",
   "execution_count": 11,
   "metadata": {},
   "outputs": [
    {
     "data": {
      "text/html": [
       "<img src=\"movie3.png\"/>"
      ],
      "text/plain": [
       "<IPython.core.display.Image object>"
      ]
     },
     "execution_count": 11,
     "metadata": {},
     "output_type": "execute_result"
    }
   ],
   "source": [
    "Image(url= \"movie3.png\")"
   ]
  },
  {
   "cell_type": "code",
   "execution_count": 12,
   "metadata": {},
   "outputs": [
    {
     "data": {
      "text/html": [
       "<script>\n",
       "code_show=true; \n",
       "function code_toggle() {\n",
       " if (code_show){\n",
       " $('div.input').hide();\n",
       " } else {\n",
       " $('div.input').show();\n",
       " }\n",
       " code_show = !code_show\n",
       "} \n",
       "$( document ).ready(code_toggle);\n",
       "</script>\n",
       "<form action=\"javascript:code_toggle()\"><input type=\"submit\" value=\"Click here to Hide/Show the raw code.\"></form>"
      ],
      "text/plain": [
       "<IPython.core.display.HTML object>"
      ]
     },
     "execution_count": 12,
     "metadata": {},
     "output_type": "execute_result"
    }
   ],
   "source": [
    "t.close()\n",
    "from IPython.display import HTML\n",
    "\n",
    "HTML('''<script>\n",
    "code_show=true; \n",
    "function code_toggle() {\n",
    " if (code_show){\n",
    " $('div.input').hide();\n",
    " } else {\n",
    " $('div.input').show();\n",
    " }\n",
    " code_show = !code_show\n",
    "} \n",
    "$( document ).ready(code_toggle);\n",
    "</script>\n",
    "<form action=\"javascript:code_toggle()\"><input type=\"submit\" value=\"Click here to Hide/Show the raw code.\"></form>''')"
   ]
  }
 ],
 "metadata": {
  "kernelspec": {
   "display_name": "Python 3",
   "language": "python",
   "name": "python3"
  },
  "language_info": {
   "codemirror_mode": {
    "name": "ipython",
    "version": 3
   },
   "file_extension": ".py",
   "mimetype": "text/x-python",
   "name": "python",
   "nbconvert_exporter": "python",
   "pygments_lexer": "ipython3",
   "version": "3.7.4"
  }
 },
 "nbformat": 4,
 "nbformat_minor": 2
}

{
 "cells": [
  {
   "cell_type": "markdown",
   "metadata": {},
   "source": [
    "## Comparing Airline Prices\n",
    "Recently found out how much it was a hassle to actually search up and find the best airline prices for our holiday plans. So this set me wondering if RPA would be able to help us automate this search process and perhaps list out everything we need to know in a more convenient manner. So in this project, we will be using TagUI to seamlessly pull out all relevant data we need to compare and decide on the right airline prices (Roundtrip) for us to decide from."
   ]
  },
  {
   "cell_type": "code",
   "execution_count": 23,
   "metadata": {},
   "outputs": [],
   "source": [
    "#pip install tagui"
   ]
  },
  {
   "cell_type": "code",
   "execution_count": 24,
   "metadata": {},
   "outputs": [],
   "source": [
    "import tagui as t"
   ]
  },
  {
   "cell_type": "code",
   "execution_count": 25,
   "metadata": {},
   "outputs": [],
   "source": [
    "class Flight(object):\n",
    "    flightName = \"\"\n",
    "    flightTime=\"\"\n",
    "    duration = \"\"\n",
    "    price =\"\"\n",
    "    \n",
    "    \n",
    "def make_flight(flightName, duration,flightTime, price):\n",
    "    flight = Flight()\n",
    "    flight.flightName = flightName\n",
    "    flight.duration = duration\n",
    "    flight.flightTime = flightTime\n",
    "    flight.price = price\n",
    "    \n",
    "\n",
    "    return flight"
   ]
  },
  {
   "cell_type": "markdown",
   "metadata": {},
   "source": [
    "There are actually plenty of websites available right now for users to compare prices across various airlines available. So for the regular person who may want to make sure these sites are reliable, its always good to compare the prices from a few sources. So in this script, we'll be comparing the cheapest available price from [3 of the top sites](https://www.smartertravel.com/the-best-flight-booking-sites/) available online for us to make the best comparisons in our airline prices.The 3 sites we will be using for this script will be Travelocity, Google Flights and Expedia."
   ]
  },
  {
   "cell_type": "code",
   "execution_count": 26,
   "metadata": {},
   "outputs": [],
   "source": [
    "#departure = input(\"Enter Flying From City: \")\n",
    "#arrival = input(\"Enter Flying To City: \")\n",
    "#departDate = input(\"Enter Departing Date (mm/dd/yyyy): \")\n",
    "#returnDate = input(\"Enter Returning Date (mm/dd/yyyy): \")\n",
    "departure = 'Singapore'\n",
    "arrival = 'Tokyo'\n",
    "departDate = '10/10/2020'\n",
    "returnDate = '10/22/2020'"
   ]
  },
  {
   "cell_type": "code",
   "execution_count": 27,
   "metadata": {},
   "outputs": [],
   "source": [
    "#Create 3 separate lists to hold the different airline information from each website.\n",
    "travelocity = list()\n",
    "googleFlights = list()\n",
    "expedia = list()"
   ]
  },
  {
   "cell_type": "code",
   "execution_count": 28,
   "metadata": {},
   "outputs": [
    {
     "name": "stdout",
     "output_type": "stream",
     "text": [
      "MultipleAirlines\n",
      "24h10m\n",
      "9:20pm-10:30pm\n",
      "$347\n"
     ]
    }
   ],
   "source": [
    "#Go through each of the top 3 websites to pull data and compare the various prices\n",
    "#urlFirst = 'https://www.cheapoair.com/'\n",
    "\n",
    "#Start with First URL Travelocity.com\n",
    "urlFirst = 'https://www.travelocity.com/'\n",
    "urlSecond = 'https://www.google.com/flights'\n",
    "urlThird = 'https://www.expedia.com/'\n",
    "t.init(visual_automation = True, chrome_browser = True)\n",
    "t.url(urlFirst)\n",
    "\n",
    "t.wait(6)\n",
    "t.click('//*[@id=\"tab-flight-tab-hp\"]/span[1]')\n",
    "\n",
    "#Enter Returning Date\n",
    "t.click(1300,800) #This ensures that keyboard strokes used are targetted on screen and not on URL field, adjust if required.\n",
    "t.click('//*[@id=\"flight-returning-hp-flight\"]')\n",
    "t.keyboard('[ctrl][a]')\n",
    "t.keyboard('[backspace]')\n",
    "t.type('//*[@id=\"flight-returning-hp-flight\"]',returnDate)\n",
    "\n",
    "#Enter Departing Date\n",
    "t.click('//*[@id=\"flight-departing-hp-flight\"]')\n",
    "t.keyboard('[ctrl][a]')\n",
    "t.keyboard('[backspace]')\n",
    "t.type('//*[@id=\"flight-departing-hp-flight\"]',departDate)\n",
    "\n",
    "#Enter From City\n",
    "t.click('//*[@id=\"flight-origin-hp-flight\"]')\n",
    "t.type('//*[@id=\"flight-origin-hp-flight\"]',departure)\n",
    "\n",
    "#Enter To City\n",
    "t.click('//*[@id=\"flight-destination-hp-flight\"]')\n",
    "t.type('//*[@id=\"flight-destination-hp-flight\"]',arrival)\n",
    "\n",
    "#Enter Search Button\n",
    "t.click('/html/body/meso-native-marquee/section/div/div/div[1]/div/div/div[1]/div/section[1]/form/div[8]/label/button')\n",
    "#Wait for the search results to load\n",
    "t.wait(20)\n",
    "\n",
    "#The line of code below is used to scrape all entries in case you're interested to get more insights\n",
    "#scrape=t.read('flightModuleList')\n",
    "\n",
    "#Here we will just focus on getting the cheapest flight since we want to compare the cheapest across the 3 websites\n",
    "flightName = t.read('secondary-content overflow-ellipsis inline-children')\n",
    "duration=t.read('duration-emphasis')\n",
    "flightTime=t.read('medium-bold')\n",
    "price=t.read('full-bold no-wrap')\n",
    "\n",
    "\n",
    "#This line of code is used to remove all whitespaces for us to analyze according if we intend to view all the entries\n",
    "#scrapeNoSpaces=\"\".join(scrape.split())\n",
    "\n",
    "#We will now remove all unnecessary whitespaces\n",
    "flightNameNoSpaces=\"\".join(flightName.split())\n",
    "durationNoSpaces=\"\".join(duration.split())\n",
    "flightTimeNoSpaces=\"\".join(flightTime.split())\n",
    "priceNoSpaces=\"\".join(price.split())\n",
    "\n",
    "#Print out the different details for debugging purposes\n",
    "#print(flightNameNoSpaces)\n",
    "#print(durationNoSpaces)\n",
    "#print(flightTimeNoSpaces)\n",
    "#print(priceNoSpaces)\n",
    "\n",
    "#create flight object\n",
    "flight = make_flight(flightNameNoSpaces,durationNoSpaces,flightTimeNoSpaces,priceNoSpaces)\n",
    "travelocity.append(flight)\n",
    "\n",
    "#Save the URL for the User to access later if he/she wants to explore further on the other available search results\n",
    "searchResult1 = t.url()\n",
    "\n",
    "#This line of code is for debugging purposes to make sure URL & flight objects is available & initialised respectively\n",
    "#print(t.url())\n",
    "#print(travelocity)"
   ]
  },
  {
   "cell_type": "code",
   "execution_count": 29,
   "metadata": {},
   "outputs": [],
   "source": [
    "#Second Website\n"
   ]
  },
  {
   "cell_type": "code",
   "execution_count": 30,
   "metadata": {},
   "outputs": [
    {
     "name": "stdout",
     "output_type": "stream",
     "text": [
      "VietjetAir\n",
      "13h5m\n",
      "5:55pm-8:00am\n",
      "$378\n"
     ]
    }
   ],
   "source": [
    "#Final Website\n",
    "t.url(urlThird)\n",
    "t.wait(6)\n",
    "t.click('//*[@id=\"wizard-tabs\"]/div[1]/ul/li[1]')\n",
    "\n",
    "#Enter Returning Date\n",
    "t.click(1300,800) #This ensures that keyboard strokes used are targetted on screen and not on URL field, adjust if required.\n",
    "t.click('//*[@id=\"flight-returning-hp-flight\"]')\n",
    "t.keyboard('[ctrl][a]')\n",
    "t.keyboard('[backspace]')\n",
    "t.type('//*[@id=\"flight-returning-hp-flight\"]',returnDate)\n",
    "\n",
    "#Enter Departing Date\n",
    "t.click('//*[@id=\"flight-departing-hp-flight\"]')\n",
    "t.keyboard('[ctrl][a]')\n",
    "t.keyboard('[backspace]')\n",
    "t.type('//*[@id=\"flight-departing-hp-flight\"]',departDate)\n",
    "\n",
    "\n",
    "#Enter From City\n",
    "t.click('//*[@id=\"flight-origin-hp-flight\"]')\n",
    "t.type('//*[@id=\"flight-origin-hp-flight\"]',departure)\n",
    "\n",
    "#Enter To City\n",
    "t.click('//*[@id=\"flight-destination-hp-flight\"]')\n",
    "t.type('//*[@id=\"flight-destination-hp-flight\"]',arrival)\n",
    "\n",
    "#Enter Search Button\n",
    "t.click('//*[@id=\"gcw-flights-form-hp-flight\"]/div[7]/label/button/span')\n",
    "#Wait for the search results to load\n",
    "t.wait(20)\n",
    "\n",
    "#The line of code below is used to scrape all entries in case you're interested to get more insights\n",
    "#scrape=t.read('flightModuleList')\n",
    "\n",
    "#Here we will just focus on getting the cheapest flight since we want to compare the cheapest across the 3 websites\n",
    "flightName = t.read('secondary-content overflow-ellipsis inline-children')\n",
    "duration=t.read('duration-emphasis')\n",
    "flightTime=t.read('medium-bold')\n",
    "price=t.read('full-bold no-wrap')\n",
    "\n",
    "\n",
    "#This line of code is used to remove all whitespaces for us to analyze according if we intend to view all the entries\n",
    "#scrapeNoSpaces=\"\".join(scrape.split())\n",
    "\n",
    "#We will now remove all unnecessary whitespaces\n",
    "flightNameNoSpaces=\"\".join(flightName.split())\n",
    "durationNoSpaces=\"\".join(duration.split())\n",
    "flightTimeNoSpaces=\"\".join(flightTime.split())\n",
    "priceNoSpaces=\"\".join(price.split())\n",
    "\n",
    "#Print out the different details for debugging purposes\n",
    "#print(flightNameNoSpaces)\n",
    "#print(durationNoSpaces)\n",
    "#print(flightTimeNoSpaces)\n",
    "#print(priceNoSpaces)\n",
    "\n",
    "#create flight object\n",
    "flight = make_flight(flightNameNoSpaces,durationNoSpaces,flightTimeNoSpaces,priceNoSpaces)\n",
    "expedia.append(flight)\n",
    "\n",
    "#Save the URL for the User to access later if he/she wants to explore further on the other available search results\n",
    "searchResult2 = t.url()\n",
    "\n",
    "#This line of code is for debugging purposes to make sure URL & flight objects is available & initialised respectively\n",
    "#print(t.url())\n",
    "#print(expedia)"
   ]
  },
  {
   "cell_type": "code",
   "execution_count": 32,
   "metadata": {},
   "outputs": [
    {
     "data": {
      "text/plain": [
       "True"
      ]
     },
     "execution_count": 32,
     "metadata": {},
     "output_type": "execute_result"
    }
   ],
   "source": [
    "#Compare & Recommend Prices\n",
    "t.close()"
   ]
  },
  {
   "cell_type": "code",
   "execution_count": null,
   "metadata": {},
   "outputs": [],
   "source": []
  }
 ],
 "metadata": {
  "kernelspec": {
   "display_name": "Python 3",
   "language": "python",
   "name": "python3"
  },
  "language_info": {
   "codemirror_mode": {
    "name": "ipython",
    "version": 3
   },
   "file_extension": ".py",
   "mimetype": "text/x-python",
   "name": "python",
   "nbconvert_exporter": "python",
   "pygments_lexer": "ipython3",
   "version": "3.7.4"
  }
 },
 "nbformat": 4,
 "nbformat_minor": 2
}

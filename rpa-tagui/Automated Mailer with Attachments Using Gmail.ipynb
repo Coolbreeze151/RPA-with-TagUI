{
 "cells": [
  {
   "cell_type": "markdown",
   "metadata": {},
   "source": [
    "## Automated Mailer with Attachments Using Gmail\n",
    "In this project, we will automate a simple mailer whereby the user simply logs into his/her gmail account to email a monthly financial report to the relevant stakeholder. This script would be useful for those looking to automate recurring mailers to people on a periodic basis."
   ]
  },
  {
   "cell_type": "code",
   "execution_count": 1,
   "metadata": {},
   "outputs": [],
   "source": [
    "import tagui as t\n",
    "toAddress = 'taguirpa@gmail.com'"
   ]
  },
  {
   "cell_type": "code",
   "execution_count": 2,
   "metadata": {},
   "outputs": [
    {
     "data": {
      "text/html": [
       "<script>\n",
       "code_show=true; \n",
       "function code_toggle() {\n",
       " if (code_show){\n",
       " $('div.input').hide();\n",
       " } else {\n",
       " $('div.input').show();\n",
       " }\n",
       " code_show = !code_show\n",
       "} \n",
       "$( document ).ready(code_toggle);\n",
       "</script>\n",
       "<form action=\"javascript:code_toggle()\"><input type=\"submit\" value=\"Click here to Hide/Show the raw code.\"></form>"
      ],
      "text/plain": [
       "<IPython.core.display.HTML object>"
      ]
     },
     "execution_count": 2,
     "metadata": {},
     "output_type": "execute_result"
    }
   ],
   "source": [
    "#Login into your gmail account\n",
    "url = 'https://www.gmail.com'\n",
    "t.init(visual_automation = True, chrome_browser = True)\n",
    "t.url(url)\n",
    "t.dclick(800,30) #Use this to manually expand your window. Comment it out if not required\n",
    "\n",
    "#Use this line of code if there was already an initial username saved by Google\n",
    "t.click('//*[@id=\"view_container\"]/div/div/div[2]/div/div[1]/div/form/span/section/div/div/div/div/ul/li[1]/div/div[1]/div')\n",
    "#If its a new account, use the code below instead\n",
    "#t.type('//*[@id=\"identifierId\"]', 'taguiRPA')\n",
    "#t.click('//*[@id=\"identifierNext\"]/div[2]')\n",
    "\n",
    "t.type('//*[@id=\"password\"]/div[1]/div/div[1]/input','taguiPassword')\n",
    "t.click('//*[@id=\"passwordNext\"]/span/span')\n",
    "\n",
    "#Since we have logged in, lets directly enter the gmail account url to avoid any additional \n",
    "#Google prompts ie. Change passwords, update mobile number etc.\n",
    "t.wait(5)\n",
    "t.url('https://www.gmail.com')\n",
    "\n",
    "#Compose a new automated mailer with updated attachments\n",
    "t.click('T-I J-J5-Ji T-I-KE L3')\n",
    "\n",
    "#Fill in the Recipients\n",
    "t.type('vO', toAddress)\n",
    "\n",
    "#Enter Subject Header\n",
    "t.type('aoT', \"Monthly Financial Reports\")\n",
    "t.type('Am Al editable LW-avf tS-tW', \"Kindly find attached the monthly financial reports for your approval please. Thank you.\\nBest Regards\\nTagUI user\")\n",
    "\n",
    "#Attach Mailer, ID Can't be detected so manual x,y needs to be used. Please adjust to your PC Screen specs accordingly\n",
    "t.click('aA7 aaA aMZ')\n",
    "t.wait(4)\n",
    "t.dclick(400,550)\n",
    "\n",
    "#Send the Email\n",
    "t.click('T-I J-J5-Ji aoO v7 T-I-atl L3')\n",
    "t.wait(8)\n",
    "\n",
    "#Sign Out\n",
    "t.click('//*[@id=\"gb\"]/div[2]/div[3]/div[1]/div[2]/div/a/span')\n",
    "t.click('//*[@id=\"gb_71\"]')\n",
    "t.wait(5)\n",
    "\n",
    "t.close()\n",
    "\n",
    "from IPython.display import HTML\n",
    "\n",
    "HTML('''<script>\n",
    "code_show=true; \n",
    "function code_toggle() {\n",
    " if (code_show){\n",
    " $('div.input').hide();\n",
    " } else {\n",
    " $('div.input').show();\n",
    " }\n",
    " code_show = !code_show\n",
    "} \n",
    "$( document ).ready(code_toggle);\n",
    "</script>\n",
    "<form action=\"javascript:code_toggle()\"><input type=\"submit\" value=\"Click here to Hide/Show the raw code.\"></form>''')"
   ]
  }
 ],
 "metadata": {
  "kernelspec": {
   "display_name": "Python 3",
   "language": "python",
   "name": "python3"
  },
  "language_info": {
   "codemirror_mode": {
    "name": "ipython",
    "version": 3
   },
   "file_extension": ".py",
   "mimetype": "text/x-python",
   "name": "python",
   "nbconvert_exporter": "python",
   "pygments_lexer": "ipython3",
   "version": "3.7.4"
  }
 },
 "nbformat": 4,
 "nbformat_minor": 2
}

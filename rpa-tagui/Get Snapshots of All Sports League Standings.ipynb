{
 "cells": [
  {
   "cell_type": "markdown",
   "metadata": {},
   "source": [
    "## Sports League Standings\n",
    "\n",
    "Lets take a look at all the standings for the different sports leagues of interest at a glance! This script helps to display a summary of standings for each league as of today. Just one run of the script and you won't have to keep Googling your results to get all of them ever again! "
   ]
  },
  {
   "cell_type": "markdown",
   "metadata": {},
   "source": [
    "### English Premier League"
   ]
  },
  {
   "cell_type": "code",
   "execution_count": 1,
   "metadata": {},
   "outputs": [
    {
     "data": {
      "text/html": [
       "<img src=\"epl.png\"/>"
      ],
      "text/plain": [
       "<IPython.core.display.Image object>"
      ]
     },
     "execution_count": 1,
     "metadata": {},
     "output_type": "execute_result"
    }
   ],
   "source": [
    "import tagui as t\n",
    "t.init(visual_automation = True, chrome_browser = True)\n",
    "url = 'https://www.google.com'\n",
    "t.url(url)\n",
    "t.type('//*[@id=\"tsf\"]/div[2]/div[1]/div[1]/div/div[2]/input', 'EPL Table')\n",
    "t.click('//*[@id=\"tsf\"]/div[2]/div[1]/div[2]/div[2]/div[2]/center/input[1]')\n",
    "t.click('//*[@id=\"sports-app\"]/div/div[2]/div/div/div/ol/li[3]')\n",
    "t.wait(5)\n",
    "t.snap('page','epl.png')\n",
    "\n",
    "from IPython.display import Image\n",
    "from IPython.core.display import HTML \n",
    "Image(url= \"epl.png\")"
   ]
  },
  {
   "cell_type": "markdown",
   "metadata": {},
   "source": [
    "### La Liga Football League"
   ]
  },
  {
   "cell_type": "code",
   "execution_count": 2,
   "metadata": {},
   "outputs": [
    {
     "data": {
      "text/html": [
       "<img src=\"laliga.png\"/>"
      ],
      "text/plain": [
       "<IPython.core.display.Image object>"
      ]
     },
     "execution_count": 2,
     "metadata": {},
     "output_type": "execute_result"
    }
   ],
   "source": [
    "t.url(url)\n",
    "t.type('//*[@id=\"tsf\"]/div[2]/div[1]/div[1]/div/div[2]/input', 'La Liga Table')\n",
    "t.click('//*[@id=\"tsf\"]/div[2]/div[1]/div[2]/div[2]/div[2]/center/input[1]')\n",
    "t.click('//*[@id=\"sports-app\"]/div/div[2]/div/div/div/ol/li[3]')\n",
    "t.wait(5)\n",
    "t.snap('page','laliga.png')\n",
    "Image(url= \"laliga.png\")"
   ]
  },
  {
   "cell_type": "markdown",
   "metadata": {},
   "source": [
    "### National Basketball Association (NBA) League"
   ]
  },
  {
   "cell_type": "code",
   "execution_count": 3,
   "metadata": {},
   "outputs": [
    {
     "data": {
      "text/html": [
       "<img src=\"nba.png\"/>"
      ],
      "text/plain": [
       "<IPython.core.display.Image object>"
      ]
     },
     "execution_count": 3,
     "metadata": {},
     "output_type": "execute_result"
    }
   ],
   "source": [
    "t.url(url)\n",
    "t.type('//*[@id=\"tsf\"]/div[2]/div[1]/div[1]/div/div[2]/input', 'NBA Table')\n",
    "t.click('//*[@id=\"tsf\"]/div[2]/div[1]/div[2]/div[2]/div[2]/center/input[1]')\n",
    "t.click('//*[@id=\"sports-app\"]/div/div[2]/div/div/div/ol/li[3]')\n",
    "t.wait(5)\n",
    "t.snap('page','nba.png')\n",
    "Image(url= \"nba.png\")"
   ]
  },
  {
   "cell_type": "markdown",
   "metadata": {},
   "source": [
    "### National Hockey League (NHL)"
   ]
  },
  {
   "cell_type": "code",
   "execution_count": 4,
   "metadata": {},
   "outputs": [
    {
     "data": {
      "text/html": [
       "<img src=\"nhl.png\"/>"
      ],
      "text/plain": [
       "<IPython.core.display.Image object>"
      ]
     },
     "execution_count": 4,
     "metadata": {},
     "output_type": "execute_result"
    }
   ],
   "source": [
    "t.url(url)\n",
    "t.type('//*[@id=\"tsf\"]/div[2]/div[1]/div[1]/div/div[2]/input', 'NHL Table')\n",
    "t.click('//*[@id=\"tsf\"]/div[2]/div[1]/div[2]/div[2]/div[2]/center/input[1]')\n",
    "t.click('//*[@id=\"sports-app\"]/div/div[2]/div/div/div/ol/li[3]')\n",
    "t.wait(5)\n",
    "t.snap('page','nhl.png')\n",
    "Image(url= \"nhl.png\")"
   ]
  },
  {
   "cell_type": "markdown",
   "metadata": {},
   "source": [
    "### National Women's Soccer League"
   ]
  },
  {
   "cell_type": "code",
   "execution_count": 5,
   "metadata": {},
   "outputs": [
    {
     "data": {
      "text/html": [
       "<img src=\"nwsl.png\"/>"
      ],
      "text/plain": [
       "<IPython.core.display.Image object>"
      ]
     },
     "execution_count": 5,
     "metadata": {},
     "output_type": "execute_result"
    }
   ],
   "source": [
    "t.url(url)\n",
    "t.type('//*[@id=\"tsf\"]/div[2]/div[1]/div[1]/div/div[2]/input', 'national women\\'s soccer league table 2019')\n",
    "t.click('//*[@id=\"tsf\"]/div[2]/div[1]/div[2]/div[2]/div[2]/center/input[1]')\n",
    "t.click('//*[@id=\"sports-app\"]/div/div[2]/div/div/div/ol/li[3]')\n",
    "t.wait(5)\n",
    "t.snap('page','nwsl.png')  \n",
    "t.close()\n",
    "Image(url= \"nwsl.png\")\n",
    "\n"
   ]
  },
  {
   "cell_type": "code",
   "execution_count": 6,
   "metadata": {},
   "outputs": [
    {
     "data": {
      "text/html": [
       "<script>\n",
       "code_show=true; \n",
       "function code_toggle() {\n",
       " if (code_show){\n",
       " $('div.input').hide();\n",
       " } else {\n",
       " $('div.input').show();\n",
       " }\n",
       " code_show = !code_show\n",
       "} \n",
       "$( document ).ready(code_toggle);\n",
       "</script>\n",
       "<form action=\"javascript:code_toggle()\"><input type=\"submit\" value=\"Click here to Hide/Show the raw code.\"></form>"
      ],
      "text/plain": [
       "<IPython.core.display.HTML object>"
      ]
     },
     "execution_count": 6,
     "metadata": {},
     "output_type": "execute_result"
    }
   ],
   "source": [
    "from IPython.display import HTML\n",
    "\n",
    "HTML('''<script>\n",
    "code_show=true; \n",
    "function code_toggle() {\n",
    " if (code_show){\n",
    " $('div.input').hide();\n",
    " } else {\n",
    " $('div.input').show();\n",
    " }\n",
    " code_show = !code_show\n",
    "} \n",
    "$( document ).ready(code_toggle);\n",
    "</script>\n",
    "<form action=\"javascript:code_toggle()\"><input type=\"submit\" value=\"Click here to Hide/Show the raw code.\"></form>''')"
   ]
  }
 ],
 "metadata": {
  "kernelspec": {
   "display_name": "Python 3",
   "language": "python",
   "name": "python3"
  },
  "language_info": {
   "codemirror_mode": {
    "name": "ipython",
    "version": 3
   },
   "file_extension": ".py",
   "mimetype": "text/x-python",
   "name": "python",
   "nbconvert_exporter": "python",
   "pygments_lexer": "ipython3",
   "version": "3.7.4"
  }
 },
 "nbformat": 4,
 "nbformat_minor": 2
}

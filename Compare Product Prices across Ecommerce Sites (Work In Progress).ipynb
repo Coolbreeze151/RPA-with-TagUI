{
 "cells": [
  {
   "cell_type": "markdown",
   "metadata": {},
   "source": [
    "In this project we will help the user to compare prices across the different ECommerce sites using the top 5 ecommerce sites available.\n",
    "- EZBuy\n",
    "- Shopee Singapore\n",
    "- Carousell Singapore\n",
    "- Qoo10 Singapore\n",
    "- Lazada Singapore"
   ]
  },
  {
   "cell_type": "code",
   "execution_count": null,
   "metadata": {},
   "outputs": [],
   "source": [
    "cycles = input(\"Number of Cycles :\") #Number of View tabs you want to create\n",
    "duration = input(\"Duration to Run Videos Before Stopping(Seconds):\") #Duration you want to give before closing all videos\n",
    "url = input(\"YouTube URL: \")\n",
    "int_cycles = int(cycles)\n",
    "int_duration = int(duration)"
   ]
  }
 ],
 "metadata": {
  "kernelspec": {
   "display_name": "Python 3",
   "language": "python",
   "name": "python3"
  },
  "language_info": {
   "codemirror_mode": {
    "name": "ipython",
    "version": 3
   },
   "file_extension": ".py",
   "mimetype": "text/x-python",
   "name": "python",
   "nbconvert_exporter": "python",
   "pygments_lexer": "ipython3",
   "version": "3.7.4"
  }
 },
 "nbformat": 4,
 "nbformat_minor": 2
}
